{
 "cells": [
  {
   "cell_type": "code",
   "execution_count": 3,
   "id": "1869c3b2-777d-4cf5-9b33-eef41c395fa3",
   "metadata": {},
   "outputs": [
    {
     "name": "stdout",
     "output_type": "stream",
     "text": [
      "  Customer_ID Marketing_Channel  Marketing_Spend  New_Customers\n",
      "0    CUST0001   Email Marketing      3489.027844             16\n",
      "1    CUST0002        Online Ads      1107.865808             33\n",
      "2    CUST0003      Social Media      2576.081025             44\n",
      "3    CUST0004        Online Ads      3257.567932             32\n",
      "4    CUST0005   Email Marketing      1108.408185             13\n"
     ]
    }
   ],
   "source": [
    "import pandas as pd\n",
    "import plotly.express as px\n",
    "import plotly.io as pio\n",
    "import plotly.graph_objects as go\n",
    "pio.templates.default = \"plotly_white\"\n",
    "\n",
    "data = pd.read_csv(\"customer_acquisition_cost_dataset.csv\")\n",
    "print(data.head())"
   ]
  },
  {
   "cell_type": "code",
   "execution_count": 4,
   "id": "c4fcee2c-4553-4077-a0bb-d2777f79737c",
   "metadata": {},
   "outputs": [
    {
     "name": "stdout",
     "output_type": "stream",
     "text": [
      "<class 'pandas.core.frame.DataFrame'>\n",
      "RangeIndex: 500 entries, 0 to 499\n",
      "Data columns (total 4 columns):\n",
      " #   Column             Non-Null Count  Dtype  \n",
      "---  ------             --------------  -----  \n",
      " 0   Customer_ID        500 non-null    object \n",
      " 1   Marketing_Channel  500 non-null    object \n",
      " 2   Marketing_Spend    500 non-null    float64\n",
      " 3   New_Customers      500 non-null    int64  \n",
      "dtypes: float64(1), int64(1), object(2)\n",
      "memory usage: 15.8+ KB\n"
     ]
    }
   ],
   "source": [
    "data.info()"
   ]
  },
  {
   "cell_type": "code",
   "execution_count": 5,
   "id": "662a5cf2-4116-49e1-95e2-9a5a82bfb44a",
   "metadata": {},
   "outputs": [],
   "source": [
    "data['CAC'] = data['Marketing_Spend'] / data['New_Customers']"
   ]
  },
  {
   "cell_type": "code",
   "execution_count": 29,
   "id": "43731544-da4c-4fad-a384-19b881ac7f6b",
   "metadata": {},
   "outputs": [
    {
     "name": "stdout",
     "output_type": "stream",
     "text": [
      "<class 'pandas.core.frame.DataFrame'>\n",
      "RangeIndex: 500 entries, 0 to 499\n",
      "Data columns (total 7 columns):\n",
      " #   Column                Non-Null Count  Dtype  \n",
      "---  ------                --------------  -----  \n",
      " 0   Customer_ID           500 non-null    object \n",
      " 1   Marketing_Channel     500 non-null    object \n",
      " 2   Marketing_Spend       500 non-null    float64\n",
      " 3   New_Customers         500 non-null    int64  \n",
      " 4   CAC                   500 non-null    float64\n",
      " 5   Conversion_Rate       500 non-null    float64\n",
      " 6   Break_Even_Customers  500 non-null    float64\n",
      "dtypes: float64(4), int64(1), object(2)\n",
      "memory usage: 27.5+ KB\n"
     ]
    }
   ],
   "source": [
    "data.info()"
   ]
  },
  {
   "cell_type": "code",
   "execution_count": 23,
   "id": "d1429c2d-0110-43bf-8de9-e830f6715204",
   "metadata": {
    "scrolled": true
   },
   "outputs": [
    {
     "data": {
      "application/vnd.plotly.v1+json": {
       "config": {
        "plotlyServerURL": "https://plot.ly"
       },
       "data": [
        {
         "alignmentgroup": "True",
         "hovertemplate": "Marketing_Channel=%{x}<br>CAC=%{y}<extra></extra>",
         "legendgroup": "",
         "marker": {
          "color": "#636efa",
          "pattern": {
           "shape": ""
          }
         },
         "name": "",
         "offsetgroup": "",
         "orientation": "v",
         "showlegend": false,
         "textposition": "auto",
         "type": "bar",
         "x": [
          "Email Marketing",
          "Online Ads",
          "Social Media",
          "Online Ads",
          "Email Marketing",
          "Email Marketing",
          "Referral",
          "Online Ads",
          "Social Media",
          "Online Ads",
          "Online Ads",
          "Email Marketing",
          "Online Ads",
          "Online Ads",
          "Email Marketing",
          "Email Marketing",
          "Online Ads",
          "Email Marketing",
          "Referral",
          "Online Ads",
          "Referral",
          "Email Marketing",
          "Social Media",
          "Online Ads",
          "Referral",
          "Social Media",
          "Online Ads",
          "Online Ads",
          "Referral",
          "Email Marketing",
          "Referral",
          "Email Marketing",
          "Email Marketing",
          "Referral",
          "Social Media",
          "Email Marketing",
          "Referral",
          "Email Marketing",
          "Referral",
          "Email Marketing",
          "Email Marketing",
          "Online Ads",
          "Online Ads",
          "Social Media",
          "Online Ads",
          "Online Ads",
          "Online Ads",
          "Social Media",
          "Email Marketing",
          "Social Media",
          "Social Media",
          "Online Ads",
          "Social Media",
          "Referral",
          "Email Marketing",
          "Email Marketing",
          "Online Ads",
          "Email Marketing",
          "Online Ads",
          "Social Media",
          "Referral",
          "Email Marketing",
          "Email Marketing",
          "Email Marketing",
          "Referral",
          "Referral",
          "Online Ads",
          "Online Ads",
          "Social Media",
          "Social Media",
          "Online Ads",
          "Referral",
          "Referral",
          "Social Media",
          "Email Marketing",
          "Social Media",
          "Referral",
          "Social Media",
          "Social Media",
          "Online Ads",
          "Email Marketing",
          "Social Media",
          "Email Marketing",
          "Referral",
          "Social Media",
          "Online Ads",
          "Referral",
          "Email Marketing",
          "Online Ads",
          "Online Ads",
          "Online Ads",
          "Email Marketing",
          "Referral",
          "Social Media",
          "Online Ads",
          "Social Media",
          "Referral",
          "Email Marketing",
          "Referral",
          "Referral",
          "Online Ads",
          "Email Marketing",
          "Email Marketing",
          "Email Marketing",
          "Social Media",
          "Email Marketing",
          "Online Ads",
          "Social Media",
          "Social Media",
          "Referral",
          "Referral",
          "Social Media",
          "Email Marketing",
          "Online Ads",
          "Referral",
          "Referral",
          "Social Media",
          "Email Marketing",
          "Email Marketing",
          "Online Ads",
          "Referral",
          "Email Marketing",
          "Referral",
          "Email Marketing",
          "Online Ads",
          "Social Media",
          "Online Ads",
          "Referral",
          "Referral",
          "Referral",
          "Social Media",
          "Online Ads",
          "Referral",
          "Referral",
          "Online Ads",
          "Social Media",
          "Online Ads",
          "Referral",
          "Referral",
          "Online Ads",
          "Social Media",
          "Email Marketing",
          "Social Media",
          "Referral",
          "Social Media",
          "Online Ads",
          "Email Marketing",
          "Email Marketing",
          "Online Ads",
          "Social Media",
          "Referral",
          "Email Marketing",
          "Social Media",
          "Email Marketing",
          "Online Ads",
          "Online Ads",
          "Social Media",
          "Email Marketing",
          "Online Ads",
          "Online Ads",
          "Online Ads",
          "Email Marketing",
          "Online Ads",
          "Referral",
          "Referral",
          "Online Ads",
          "Online Ads",
          "Email Marketing",
          "Online Ads",
          "Online Ads",
          "Referral",
          "Email Marketing",
          "Social Media",
          "Referral",
          "Referral",
          "Online Ads",
          "Online Ads",
          "Social Media",
          "Social Media",
          "Social Media",
          "Email Marketing",
          "Email Marketing",
          "Referral",
          "Online Ads",
          "Social Media",
          "Social Media",
          "Referral",
          "Online Ads",
          "Online Ads",
          "Social Media",
          "Social Media",
          "Social Media",
          "Online Ads",
          "Referral",
          "Social Media",
          "Referral",
          "Email Marketing",
          "Online Ads",
          "Referral",
          "Referral",
          "Referral",
          "Referral",
          "Referral",
          "Online Ads",
          "Social Media",
          "Online Ads",
          "Social Media",
          "Online Ads",
          "Social Media",
          "Referral",
          "Social Media",
          "Referral",
          "Social Media",
          "Social Media",
          "Referral",
          "Referral",
          "Email Marketing",
          "Email Marketing",
          "Online Ads",
          "Social Media",
          "Referral",
          "Email Marketing",
          "Email Marketing",
          "Email Marketing",
          "Online Ads",
          "Email Marketing",
          "Email Marketing",
          "Referral",
          "Online Ads",
          "Referral",
          "Online Ads",
          "Online Ads",
          "Email Marketing",
          "Email Marketing",
          "Online Ads",
          "Online Ads",
          "Referral",
          "Online Ads",
          "Email Marketing",
          "Email Marketing",
          "Social Media",
          "Email Marketing",
          "Email Marketing",
          "Referral",
          "Online Ads",
          "Email Marketing",
          "Online Ads",
          "Social Media",
          "Email Marketing",
          "Social Media",
          "Social Media",
          "Referral",
          "Online Ads",
          "Social Media",
          "Referral",
          "Referral",
          "Online Ads",
          "Online Ads",
          "Social Media",
          "Referral",
          "Referral",
          "Referral",
          "Social Media",
          "Online Ads",
          "Referral",
          "Email Marketing",
          "Email Marketing",
          "Referral",
          "Email Marketing",
          "Online Ads",
          "Referral",
          "Social Media",
          "Email Marketing",
          "Referral",
          "Online Ads",
          "Online Ads",
          "Online Ads",
          "Email Marketing",
          "Social Media",
          "Email Marketing",
          "Email Marketing",
          "Online Ads",
          "Email Marketing",
          "Social Media",
          "Social Media",
          "Referral",
          "Referral",
          "Online Ads",
          "Social Media",
          "Social Media",
          "Online Ads",
          "Referral",
          "Email Marketing",
          "Social Media",
          "Email Marketing",
          "Email Marketing",
          "Social Media",
          "Online Ads",
          "Online Ads",
          "Referral",
          "Referral",
          "Email Marketing",
          "Referral",
          "Email Marketing",
          "Online Ads",
          "Online Ads",
          "Social Media",
          "Referral",
          "Referral",
          "Referral",
          "Referral",
          "Online Ads",
          "Online Ads",
          "Online Ads",
          "Referral",
          "Referral",
          "Social Media",
          "Email Marketing",
          "Online Ads",
          "Referral",
          "Referral",
          "Referral",
          "Referral",
          "Referral",
          "Online Ads",
          "Email Marketing",
          "Social Media",
          "Referral",
          "Referral",
          "Referral",
          "Referral",
          "Social Media",
          "Referral",
          "Online Ads",
          "Referral",
          "Referral",
          "Online Ads",
          "Referral",
          "Social Media",
          "Social Media",
          "Referral",
          "Online Ads",
          "Online Ads",
          "Online Ads",
          "Social Media",
          "Referral",
          "Referral",
          "Social Media",
          "Email Marketing",
          "Social Media",
          "Referral",
          "Email Marketing",
          "Referral",
          "Online Ads",
          "Referral",
          "Online Ads",
          "Referral",
          "Social Media",
          "Online Ads",
          "Social Media",
          "Email Marketing",
          "Social Media",
          "Email Marketing",
          "Email Marketing",
          "Social Media",
          "Email Marketing",
          "Social Media",
          "Email Marketing",
          "Online Ads",
          "Referral",
          "Email Marketing",
          "Email Marketing",
          "Email Marketing",
          "Email Marketing",
          "Social Media",
          "Online Ads",
          "Email Marketing",
          "Social Media",
          "Social Media",
          "Referral",
          "Email Marketing",
          "Social Media",
          "Social Media",
          "Social Media",
          "Social Media",
          "Social Media",
          "Online Ads",
          "Social Media",
          "Referral",
          "Email Marketing",
          "Referral",
          "Email Marketing",
          "Social Media",
          "Email Marketing",
          "Online Ads",
          "Social Media",
          "Social Media",
          "Email Marketing",
          "Email Marketing",
          "Social Media",
          "Social Media",
          "Online Ads",
          "Social Media",
          "Referral",
          "Referral",
          "Online Ads",
          "Online Ads",
          "Email Marketing",
          "Email Marketing",
          "Social Media",
          "Referral",
          "Referral",
          "Email Marketing",
          "Online Ads",
          "Online Ads",
          "Online Ads",
          "Online Ads",
          "Social Media",
          "Referral",
          "Online Ads",
          "Social Media",
          "Email Marketing",
          "Online Ads",
          "Email Marketing",
          "Social Media",
          "Online Ads",
          "Email Marketing",
          "Online Ads",
          "Referral",
          "Referral",
          "Online Ads",
          "Social Media",
          "Online Ads",
          "Referral",
          "Email Marketing",
          "Online Ads",
          "Online Ads",
          "Referral",
          "Social Media",
          "Referral",
          "Email Marketing",
          "Referral",
          "Email Marketing",
          "Referral",
          "Referral",
          "Email Marketing",
          "Email Marketing",
          "Email Marketing",
          "Referral",
          "Email Marketing",
          "Referral",
          "Email Marketing",
          "Social Media",
          "Social Media",
          "Online Ads",
          "Email Marketing",
          "Referral",
          "Email Marketing",
          "Email Marketing",
          "Social Media",
          "Online Ads",
          "Social Media",
          "Social Media",
          "Social Media",
          "Email Marketing",
          "Online Ads",
          "Online Ads",
          "Email Marketing",
          "Email Marketing",
          "Online Ads",
          "Social Media",
          "Email Marketing",
          "Social Media",
          "Online Ads",
          "Social Media",
          "Referral",
          "Email Marketing",
          "Email Marketing",
          "Referral",
          "Referral",
          "Social Media",
          "Online Ads",
          "Social Media",
          "Referral",
          "Referral",
          "Referral",
          "Social Media",
          "Email Marketing",
          "Email Marketing",
          "Email Marketing",
          "Online Ads",
          "Online Ads",
          "Social Media",
          "Online Ads",
          "Social Media",
          "Email Marketing",
          "Social Media",
          "Online Ads",
          "Social Media",
          "Online Ads"
         ],
         "xaxis": "x",
         "y": [
          218.06424024351617,
          33.57169114001669,
          58.547296030882244,
          101.79899787809677,
          85.26216810471152,
          102.02853120106694,
          57.14066477489841,
          129.39971710027487,
          70.65520787967706,
          64.5234732500656,
          123.10940912306177,
          100.3210095445754,
          80.89837663152218,
          52.42718463034469,
          364.3672085653763,
          332.8997800477762,
          64.80922990740395,
          53.10499724186282,
          59.86295267778016,
          68.64513460195944,
          217.37527452334072,
          171.4172410629097,
          80.01280828887778,
          179.3448781931991,
          76.74507704203315,
          174.6492528799176,
          199.93528878599818,
          57.98202353064941,
          56.92210890954365,
          33.53186214873253,
          150.4883899496825,
          136.21612512887563,
          171.36201724842508,
          103.99212020144525,
          86.31499738601373,
          156.44586128557552,
          79.57888445100996,
          201.7052926802192,
          362.8820552564676,
          81.00730475086614,
          427.72046972443405,
          151.84009662926096,
          57.29579994521705,
          23.461993659358807,
          74.92763258595936,
          337.21719521833046,
          230.1281596582659,
          99.48529869486575,
          296.92760155368256,
          72.44366174290221,
          104.51271288144227,
          81.60394377684135,
          82.80030716375917,
          292.1373957003497,
          110.02932390887963,
          89.5170120859836,
          44.976371523310924,
          117.50898585854013,
          87.88385926476765,
          149.30094132711224,
          71.40821191944679,
          59.10198821124344,
          125.99346494617964,
          48.263769376431284,
          366.5252089998591,
          99.75171331070307,
          49.03984422675843,
          124.18334022713626,
          322.0309476732531,
          331.9099418469102,
          95.73086437060769,
          78.34138800087739,
          106.35624908252886,
          303.8684328095194,
          50.73974598901472,
          111.38939145334275,
          225.19225898521591,
          195.5993343688523,
          91.40993240051924,
          81.75218452542686,
          109.13590274720532,
          314.775188576952,
          240.16244864235634,
          49.87598489713695,
          92.37805583696098,
          39.50907513527648,
          60.826252476870785,
          76.47392926493517,
          83.8652405504352,
          32.78823503177525,
          91.74606969270492,
          40.17114950304109,
          66.01712145424843,
          107.46998531570222,
          56.22274696802701,
          94.19333164651879,
          102.83067571158936,
          131.56714393904622,
          61.212026926747555,
          106.49445135795831,
          58.36747164487327,
          104.87293665991288,
          77.74503651039868,
          168.02744224707774,
          104.51214882739144,
          115.60037416012287,
          75.9816753926755,
          119.19232778655056,
          38.117038950519074,
          117.89910011813255,
          125.57162070602693,
          60.13038163568522,
          110.87407804431562,
          111.2708444245423,
          94.65720377524458,
          142.21132899057156,
          99.59354367136098,
          165.9403706274086,
          254.0946512495384,
          138.91104719365234,
          133.70764698691772,
          40.07090645970874,
          110.64607336287935,
          44.794514091521556,
          174.63643675194442,
          89.97240973192027,
          133.89225921158828,
          39.692309776902604,
          65.26209664112966,
          86.62977787493791,
          158.27187392039443,
          182.26749861379008,
          59.22207814166167,
          43.81576351134885,
          48.01271114498091,
          146.91789645617067,
          61.348791955057614,
          22.01236393800532,
          108.15656403691906,
          65.53891584790841,
          306.07373277568445,
          69.85730146074854,
          90.23022789620899,
          65.43991181885373,
          235.4655152132514,
          74.0878694523779,
          187.11995583308908,
          206.01605490658307,
          89.92461811631378,
          61.37500427875647,
          52.65014186546445,
          70.91216874907714,
          176.45386618786713,
          63.28079889266849,
          178.68594088323843,
          70.34675051372321,
          28.807304022723535,
          71.79148628179578,
          24.784414227961886,
          35.48422973099157,
          295.57803530347786,
          46.15295932018564,
          184.28416632744003,
          133.9823862587133,
          193.22732291927508,
          126.86187425821673,
          143.5504592887475,
          61.3789854277464,
          96.57156689127724,
          280.2057859555017,
          131.9468579084435,
          233.7192980686695,
          107.82880525798242,
          63.472027922212604,
          248.86494887775672,
          180.97492889371165,
          79.20714443876359,
          435.48734557286474,
          122.07677488628035,
          42.88606467957145,
          158.3353282073107,
          47.889069809514965,
          47.090394258492715,
          33.33998655396594,
          32.603319045533645,
          140.10074092354049,
          102.28014486297735,
          74.65645365945208,
          64.19683127413678,
          83.21355042426376,
          79.4156298411431,
          187.7416870418782,
          288.4261292526901,
          247.13916725948394,
          207.56560532934628,
          71.43330670728342,
          280.3640131856517,
          315.6449222521369,
          100.02058757099432,
          83.63814512742933,
          97.04159171918711,
          113.01575075244936,
          89.71926330417163,
          33.83261440587518,
          46.21364324674719,
          82.60915742433075,
          173.73177775123884,
          78.0197189827707,
          126.73190313078628,
          46.79420727183853,
          101.47870175265878,
          223.46674940605112,
          170.38232010629153,
          63.86997252067452,
          72.56538725317895,
          30.738776920865206,
          39.98079781842939,
          227.34288805359085,
          95.38693055971667,
          57.18490313280046,
          28.443907219248768,
          372.89572375164204,
          434.3834455624725,
          143.5128885599879,
          165.62569349053135,
          217.3169420656437,
          204.95146317849762,
          79.92477322570062,
          41.46166759208803,
          134.16917738834096,
          169.52960547097263,
          360.6037957734745,
          113.76319882212366,
          46.64747537547307,
          159.1104048148294,
          196.61882654535265,
          87.26185908129568,
          31.022036935802472,
          99.66017604910841,
          55.55318034905638,
          81.78964529077204,
          138.46663680004406,
          165.65818959399007,
          107.84841988382087,
          179.4059317871519,
          129.21011238521197,
          386.75128535926274,
          82.0611906637726,
          201.37883102906557,
          75.26895428935573,
          49.849894458782146,
          131.91186235768402,
          56.88478756528224,
          87.38242883761203,
          99.04953718254033,
          100.851154053681,
          113.22765633674214,
          156.05825195278152,
          50.00943330223166,
          222.46522150970006,
          134.19242054074317,
          175.0817484290018,
          82.44820702538914,
          46.51879367695117,
          96.87510776791899,
          314.0460695585194,
          74.39092919701386,
          237.06250728054306,
          59.42817333801917,
          132.23208819693994,
          73.09546102825234,
          55.91970998030289,
          37.98866640048673,
          213.55706853404533,
          91.68587532042663,
          47.33920017676173,
          160.29124379293157,
          193.821646414028,
          91.79972828113333,
          73.49322981791151,
          309.1837639339718,
          71.27385759116144,
          77.32826607934328,
          178.5581211928263,
          48.690688066351086,
          103.30704243587566,
          223.68084229152282,
          61.71636325939229,
          100.15813461005871,
          133.38652910466317,
          187.4989039890499,
          189.5602228982235,
          237.75289582031075,
          171.3887591428597,
          95.68134596764381,
          198.09641561964068,
          55.411868629278764,
          249.31545130158318,
          216.496478802759,
          203.9141853686816,
          42.627118662626124,
          53.517643880172415,
          85.83976640145241,
          108.60020288950771,
          62.94811460899583,
          41.95741246134622,
          68.57222414816293,
          47.609915335440604,
          65.46264629149478,
          105.7906750611564,
          56.427569349320095,
          76.23698003053832,
          92.3478681488643,
          99.73667659163908,
          234.7993262814003,
          48.356244605789314,
          107.95205001044829,
          23.491783927784155,
          137.2007105607167,
          141.5152416333337,
          90.33267255871291,
          195.71653922799453,
          114.21110368556684,
          101.9759573056719,
          351.6623253313672,
          102.80395167123082,
          29.437908855956533,
          79.18854211925957,
          280.060143103189,
          344.5231733422201,
          136.26549988537073,
          98.61517282438244,
          221.7003105164461,
          188.51415319313128,
          79.38316959760346,
          54.99821831219703,
          86.16965013597465,
          47.57190809077045,
          73.79390779330585,
          103.76201111269934,
          52.316554137905044,
          314.2348661956273,
          94.71964763992344,
          95.8056775957123,
          200.4256975574351,
          147.91229122243556,
          52.50078312688792,
          56.666115393339965,
          92.25880240218886,
          212.50564407039238,
          345.3486207380111,
          30.094642088177533,
          79.60518679538787,
          113.69819572317944,
          312.2477596747458,
          118.8024688529729,
          189.86026033103371,
          227.9904906410419,
          55.750900221311674,
          93.02608724008329,
          118.1662350112727,
          64.52823736387961,
          87.81406165518459,
          94.1570662898356,
          59.19819373544256,
          126.80526850451051,
          65.86276072305562,
          89.26301282504501,
          46.53762302345865,
          86.79625757208446,
          105.28104024721767,
          86.87662282341277,
          129.2257381747992,
          26.317468052799573,
          144.62446434127162,
          248.48867672497582,
          63.33287636855652,
          290.7072540058887,
          34.943797344756405,
          83.66469568882324,
          71.99676277336319,
          77.7425704860237,
          21.61645262123925,
          222.02801620529394,
          148.54315143211392,
          247.36290285308783,
          34.72132953802442,
          145.62732286396093,
          74.44570305538521,
          115.52713174157537,
          101.59299455542995,
          149.84643076908839,
          41.67485203397511,
          292.081046704693,
          61.960965394329975,
          56.41717768598626,
          86.25977188931954,
          62.865251861622525,
          182.64948718905308,
          76.72669117940885,
          331.38454496717264,
          58.943865284677756,
          116.947093769225,
          110.08846253680977,
          190.72013824662827,
          98.90048690372109,
          129.07579210124305,
          189.46073165053812,
          52.00769578713043,
          110.50406362277091,
          72.85144258769466,
          209.8464165261319,
          89.36569190986575,
          233.08002655724417,
          180.43473645563495,
          172.09170166723328,
          126.65969685798457,
          217.72279078257603,
          88.35851986889138,
          88.26621606097355,
          84.57502700620965,
          362.77903898750554,
          113.32233595959978,
          94.15540441411983,
          199.18680197567176,
          46.57774032938634,
          81.27331648974254,
          174.64711691966374,
          196.47195358784765,
          64.78730966594647,
          44.498812377890225,
          199.4961729876743,
          44.80421794150596,
          127.38659924892784,
          87.71197322049123,
          148.05934317713212,
          124.9363797924456,
          122.47231310333652,
          88.20184649529776,
          72.42429779475175,
          113.12524342551656,
          121.9746383122902,
          96.04440852670605,
          159.4494961147272,
          81.20210397267398,
          36.51697074497594,
          220.52605324888683,
          47.36448666737971,
          105.78262690980453,
          116.8569049367181,
          99.91966277697622,
          175.70603468312908,
          143.2082055647097,
          100.43691847814877,
          57.28139994470385,
          115.63132984321527,
          52.783731020180234,
          143.01314695801076,
          58.73216897782289,
          205.07297374972305,
          141.8985842078482,
          256.7877205083588,
          107.24173012267742,
          144.27780506418839,
          31.85298686215384,
          120.9554755528958,
          25.583688339207658,
          266.87878710937696,
          115.91534032141126,
          310.7349089981759,
          94.273440014798,
          46.402524616325245,
          113.0374054095208,
          110.4178703264659,
          116.25056305878952,
          71.16711954545003,
          103.9405366685923,
          199.376922146991,
          58.35416677431634,
          92.82807737227574,
          126.25163586248058,
          126.36214539205581,
          118.66586114041122,
          80.41642935873058,
          87.66535417620678,
          120.38062079068746,
          191.35585372470916,
          78.72079451937915,
          264.60507060408423,
          49.03307907998,
          110.8140879061345,
          126.91695807655582,
          98.57960503861527,
          164.52897142442512,
          155.03503553303995,
          59.519218285273034,
          137.8955463854301,
          231.1276953535672,
          171.5078814073467,
          110.54501933059547
         ],
         "yaxis": "y"
        }
       ],
       "layout": {
        "autosize": true,
        "barmode": "relative",
        "legend": {
         "tracegroupgap": 0
        },
        "template": {
         "data": {
          "bar": [
           {
            "error_x": {
             "color": "#2a3f5f"
            },
            "error_y": {
             "color": "#2a3f5f"
            },
            "marker": {
             "line": {
              "color": "white",
              "width": 0.5
             },
             "pattern": {
              "fillmode": "overlay",
              "size": 10,
              "solidity": 0.2
             }
            },
            "type": "bar"
           }
          ],
          "barpolar": [
           {
            "marker": {
             "line": {
              "color": "white",
              "width": 0.5
             },
             "pattern": {
              "fillmode": "overlay",
              "size": 10,
              "solidity": 0.2
             }
            },
            "type": "barpolar"
           }
          ],
          "carpet": [
           {
            "aaxis": {
             "endlinecolor": "#2a3f5f",
             "gridcolor": "#C8D4E3",
             "linecolor": "#C8D4E3",
             "minorgridcolor": "#C8D4E3",
             "startlinecolor": "#2a3f5f"
            },
            "baxis": {
             "endlinecolor": "#2a3f5f",
             "gridcolor": "#C8D4E3",
             "linecolor": "#C8D4E3",
             "minorgridcolor": "#C8D4E3",
             "startlinecolor": "#2a3f5f"
            },
            "type": "carpet"
           }
          ],
          "choropleth": [
           {
            "colorbar": {
             "outlinewidth": 0,
             "ticks": ""
            },
            "type": "choropleth"
           }
          ],
          "contour": [
           {
            "colorbar": {
             "outlinewidth": 0,
             "ticks": ""
            },
            "colorscale": [
             [
              0,
              "#0d0887"
             ],
             [
              0.1111111111111111,
              "#46039f"
             ],
             [
              0.2222222222222222,
              "#7201a8"
             ],
             [
              0.3333333333333333,
              "#9c179e"
             ],
             [
              0.4444444444444444,
              "#bd3786"
             ],
             [
              0.5555555555555556,
              "#d8576b"
             ],
             [
              0.6666666666666666,
              "#ed7953"
             ],
             [
              0.7777777777777778,
              "#fb9f3a"
             ],
             [
              0.8888888888888888,
              "#fdca26"
             ],
             [
              1,
              "#f0f921"
             ]
            ],
            "type": "contour"
           }
          ],
          "contourcarpet": [
           {
            "colorbar": {
             "outlinewidth": 0,
             "ticks": ""
            },
            "type": "contourcarpet"
           }
          ],
          "heatmap": [
           {
            "colorbar": {
             "outlinewidth": 0,
             "ticks": ""
            },
            "colorscale": [
             [
              0,
              "#0d0887"
             ],
             [
              0.1111111111111111,
              "#46039f"
             ],
             [
              0.2222222222222222,
              "#7201a8"
             ],
             [
              0.3333333333333333,
              "#9c179e"
             ],
             [
              0.4444444444444444,
              "#bd3786"
             ],
             [
              0.5555555555555556,
              "#d8576b"
             ],
             [
              0.6666666666666666,
              "#ed7953"
             ],
             [
              0.7777777777777778,
              "#fb9f3a"
             ],
             [
              0.8888888888888888,
              "#fdca26"
             ],
             [
              1,
              "#f0f921"
             ]
            ],
            "type": "heatmap"
           }
          ],
          "heatmapgl": [
           {
            "colorbar": {
             "outlinewidth": 0,
             "ticks": ""
            },
            "colorscale": [
             [
              0,
              "#0d0887"
             ],
             [
              0.1111111111111111,
              "#46039f"
             ],
             [
              0.2222222222222222,
              "#7201a8"
             ],
             [
              0.3333333333333333,
              "#9c179e"
             ],
             [
              0.4444444444444444,
              "#bd3786"
             ],
             [
              0.5555555555555556,
              "#d8576b"
             ],
             [
              0.6666666666666666,
              "#ed7953"
             ],
             [
              0.7777777777777778,
              "#fb9f3a"
             ],
             [
              0.8888888888888888,
              "#fdca26"
             ],
             [
              1,
              "#f0f921"
             ]
            ],
            "type": "heatmapgl"
           }
          ],
          "histogram": [
           {
            "marker": {
             "pattern": {
              "fillmode": "overlay",
              "size": 10,
              "solidity": 0.2
             }
            },
            "type": "histogram"
           }
          ],
          "histogram2d": [
           {
            "colorbar": {
             "outlinewidth": 0,
             "ticks": ""
            },
            "colorscale": [
             [
              0,
              "#0d0887"
             ],
             [
              0.1111111111111111,
              "#46039f"
             ],
             [
              0.2222222222222222,
              "#7201a8"
             ],
             [
              0.3333333333333333,
              "#9c179e"
             ],
             [
              0.4444444444444444,
              "#bd3786"
             ],
             [
              0.5555555555555556,
              "#d8576b"
             ],
             [
              0.6666666666666666,
              "#ed7953"
             ],
             [
              0.7777777777777778,
              "#fb9f3a"
             ],
             [
              0.8888888888888888,
              "#fdca26"
             ],
             [
              1,
              "#f0f921"
             ]
            ],
            "type": "histogram2d"
           }
          ],
          "histogram2dcontour": [
           {
            "colorbar": {
             "outlinewidth": 0,
             "ticks": ""
            },
            "colorscale": [
             [
              0,
              "#0d0887"
             ],
             [
              0.1111111111111111,
              "#46039f"
             ],
             [
              0.2222222222222222,
              "#7201a8"
             ],
             [
              0.3333333333333333,
              "#9c179e"
             ],
             [
              0.4444444444444444,
              "#bd3786"
             ],
             [
              0.5555555555555556,
              "#d8576b"
             ],
             [
              0.6666666666666666,
              "#ed7953"
             ],
             [
              0.7777777777777778,
              "#fb9f3a"
             ],
             [
              0.8888888888888888,
              "#fdca26"
             ],
             [
              1,
              "#f0f921"
             ]
            ],
            "type": "histogram2dcontour"
           }
          ],
          "mesh3d": [
           {
            "colorbar": {
             "outlinewidth": 0,
             "ticks": ""
            },
            "type": "mesh3d"
           }
          ],
          "parcoords": [
           {
            "line": {
             "colorbar": {
              "outlinewidth": 0,
              "ticks": ""
             }
            },
            "type": "parcoords"
           }
          ],
          "pie": [
           {
            "automargin": true,
            "type": "pie"
           }
          ],
          "scatter": [
           {
            "fillpattern": {
             "fillmode": "overlay",
             "size": 10,
             "solidity": 0.2
            },
            "type": "scatter"
           }
          ],
          "scatter3d": [
           {
            "line": {
             "colorbar": {
              "outlinewidth": 0,
              "ticks": ""
             }
            },
            "marker": {
             "colorbar": {
              "outlinewidth": 0,
              "ticks": ""
             }
            },
            "type": "scatter3d"
           }
          ],
          "scattercarpet": [
           {
            "marker": {
             "colorbar": {
              "outlinewidth": 0,
              "ticks": ""
             }
            },
            "type": "scattercarpet"
           }
          ],
          "scattergeo": [
           {
            "marker": {
             "colorbar": {
              "outlinewidth": 0,
              "ticks": ""
             }
            },
            "type": "scattergeo"
           }
          ],
          "scattergl": [
           {
            "marker": {
             "colorbar": {
              "outlinewidth": 0,
              "ticks": ""
             }
            },
            "type": "scattergl"
           }
          ],
          "scattermapbox": [
           {
            "marker": {
             "colorbar": {
              "outlinewidth": 0,
              "ticks": ""
             }
            },
            "type": "scattermapbox"
           }
          ],
          "scatterpolar": [
           {
            "marker": {
             "colorbar": {
              "outlinewidth": 0,
              "ticks": ""
             }
            },
            "type": "scatterpolar"
           }
          ],
          "scatterpolargl": [
           {
            "marker": {
             "colorbar": {
              "outlinewidth": 0,
              "ticks": ""
             }
            },
            "type": "scatterpolargl"
           }
          ],
          "scatterternary": [
           {
            "marker": {
             "colorbar": {
              "outlinewidth": 0,
              "ticks": ""
             }
            },
            "type": "scatterternary"
           }
          ],
          "surface": [
           {
            "colorbar": {
             "outlinewidth": 0,
             "ticks": ""
            },
            "colorscale": [
             [
              0,
              "#0d0887"
             ],
             [
              0.1111111111111111,
              "#46039f"
             ],
             [
              0.2222222222222222,
              "#7201a8"
             ],
             [
              0.3333333333333333,
              "#9c179e"
             ],
             [
              0.4444444444444444,
              "#bd3786"
             ],
             [
              0.5555555555555556,
              "#d8576b"
             ],
             [
              0.6666666666666666,
              "#ed7953"
             ],
             [
              0.7777777777777778,
              "#fb9f3a"
             ],
             [
              0.8888888888888888,
              "#fdca26"
             ],
             [
              1,
              "#f0f921"
             ]
            ],
            "type": "surface"
           }
          ],
          "table": [
           {
            "cells": {
             "fill": {
              "color": "#EBF0F8"
             },
             "line": {
              "color": "white"
             }
            },
            "header": {
             "fill": {
              "color": "#C8D4E3"
             },
             "line": {
              "color": "white"
             }
            },
            "type": "table"
           }
          ]
         },
         "layout": {
          "annotationdefaults": {
           "arrowcolor": "#2a3f5f",
           "arrowhead": 0,
           "arrowwidth": 1
          },
          "autotypenumbers": "strict",
          "coloraxis": {
           "colorbar": {
            "outlinewidth": 0,
            "ticks": ""
           }
          },
          "colorscale": {
           "diverging": [
            [
             0,
             "#8e0152"
            ],
            [
             0.1,
             "#c51b7d"
            ],
            [
             0.2,
             "#de77ae"
            ],
            [
             0.3,
             "#f1b6da"
            ],
            [
             0.4,
             "#fde0ef"
            ],
            [
             0.5,
             "#f7f7f7"
            ],
            [
             0.6,
             "#e6f5d0"
            ],
            [
             0.7,
             "#b8e186"
            ],
            [
             0.8,
             "#7fbc41"
            ],
            [
             0.9,
             "#4d9221"
            ],
            [
             1,
             "#276419"
            ]
           ],
           "sequential": [
            [
             0,
             "#0d0887"
            ],
            [
             0.1111111111111111,
             "#46039f"
            ],
            [
             0.2222222222222222,
             "#7201a8"
            ],
            [
             0.3333333333333333,
             "#9c179e"
            ],
            [
             0.4444444444444444,
             "#bd3786"
            ],
            [
             0.5555555555555556,
             "#d8576b"
            ],
            [
             0.6666666666666666,
             "#ed7953"
            ],
            [
             0.7777777777777778,
             "#fb9f3a"
            ],
            [
             0.8888888888888888,
             "#fdca26"
            ],
            [
             1,
             "#f0f921"
            ]
           ],
           "sequentialminus": [
            [
             0,
             "#0d0887"
            ],
            [
             0.1111111111111111,
             "#46039f"
            ],
            [
             0.2222222222222222,
             "#7201a8"
            ],
            [
             0.3333333333333333,
             "#9c179e"
            ],
            [
             0.4444444444444444,
             "#bd3786"
            ],
            [
             0.5555555555555556,
             "#d8576b"
            ],
            [
             0.6666666666666666,
             "#ed7953"
            ],
            [
             0.7777777777777778,
             "#fb9f3a"
            ],
            [
             0.8888888888888888,
             "#fdca26"
            ],
            [
             1,
             "#f0f921"
            ]
           ]
          },
          "colorway": [
           "#636efa",
           "#EF553B",
           "#00cc96",
           "#ab63fa",
           "#FFA15A",
           "#19d3f3",
           "#FF6692",
           "#B6E880",
           "#FF97FF",
           "#FECB52"
          ],
          "font": {
           "color": "#2a3f5f"
          },
          "geo": {
           "bgcolor": "white",
           "lakecolor": "white",
           "landcolor": "white",
           "showlakes": true,
           "showland": true,
           "subunitcolor": "#C8D4E3"
          },
          "hoverlabel": {
           "align": "left"
          },
          "hovermode": "closest",
          "mapbox": {
           "style": "light"
          },
          "paper_bgcolor": "white",
          "plot_bgcolor": "white",
          "polar": {
           "angularaxis": {
            "gridcolor": "#EBF0F8",
            "linecolor": "#EBF0F8",
            "ticks": ""
           },
           "bgcolor": "white",
           "radialaxis": {
            "gridcolor": "#EBF0F8",
            "linecolor": "#EBF0F8",
            "ticks": ""
           }
          },
          "scene": {
           "xaxis": {
            "backgroundcolor": "white",
            "gridcolor": "#DFE8F3",
            "gridwidth": 2,
            "linecolor": "#EBF0F8",
            "showbackground": true,
            "ticks": "",
            "zerolinecolor": "#EBF0F8"
           },
           "yaxis": {
            "backgroundcolor": "white",
            "gridcolor": "#DFE8F3",
            "gridwidth": 2,
            "linecolor": "#EBF0F8",
            "showbackground": true,
            "ticks": "",
            "zerolinecolor": "#EBF0F8"
           },
           "zaxis": {
            "backgroundcolor": "white",
            "gridcolor": "#DFE8F3",
            "gridwidth": 2,
            "linecolor": "#EBF0F8",
            "showbackground": true,
            "ticks": "",
            "zerolinecolor": "#EBF0F8"
           }
          },
          "shapedefaults": {
           "line": {
            "color": "#2a3f5f"
           }
          },
          "ternary": {
           "aaxis": {
            "gridcolor": "#DFE8F3",
            "linecolor": "#A2B1C6",
            "ticks": ""
           },
           "baxis": {
            "gridcolor": "#DFE8F3",
            "linecolor": "#A2B1C6",
            "ticks": ""
           },
           "bgcolor": "white",
           "caxis": {
            "gridcolor": "#DFE8F3",
            "linecolor": "#A2B1C6",
            "ticks": ""
           }
          },
          "title": {
           "x": 0.05
          },
          "xaxis": {
           "automargin": true,
           "gridcolor": "#EBF0F8",
           "linecolor": "#EBF0F8",
           "ticks": "",
           "title": {
            "standoff": 15
           },
           "zerolinecolor": "#EBF0F8",
           "zerolinewidth": 2
          },
          "yaxis": {
           "automargin": true,
           "gridcolor": "#EBF0F8",
           "linecolor": "#EBF0F8",
           "ticks": "",
           "title": {
            "standoff": 15
           },
           "zerolinecolor": "#EBF0F8",
           "zerolinewidth": 2
          }
         }
        },
        "title": {
         "text": "CAC by Marketing Channel"
        },
        "xaxis": {
         "anchor": "y",
         "autorange": true,
         "domain": [
          0,
          1
         ],
         "range": [
          -0.5,
          3.5
         ],
         "title": {
          "text": "Marketing_Channel"
         },
         "type": "category"
        },
        "yaxis": {
         "anchor": "x",
         "autorange": true,
         "domain": [
          0,
          1
         ],
         "range": [
          0,
          17348.74320555384
         ],
         "title": {
          "text": "CAC"
         },
         "type": "linear"
        }
       }
      },
      "image/png": "[encoded data removed]",
      "text/html": [
       "<div>                            <div id=\"49bfd737-9f91-4b1e-a4d1-efe0a1dcfca2\" class=\"plotly-graph-div\" style=\"height:525px; width:100%;\"></div>            <script type=\"text/javascript\">                require([\"plotly\"], function(Plotly) {                    window.PLOTLYENV=window.PLOTLYENV || {};                                    if (document.getElementById(\"49bfd737-9f91-4b1e-a4d1-efe0a1dcfca2\")) {                    Plotly.newPlot(                        \"49bfd737-9f91-4b1e-a4d1-efe0a1dcfca2\",                        [{\"alignmentgroup\":\"True\",\"hovertemplate\":\"Marketing_Channel=%{x}\\u003cbr\\u003eCAC=%{y}\\u003cextra\\u003e\\u003c\\u002fextra\\u003e\",\"legendgroup\":\"\",\"marker\":{\"color\":\"#636efa\",\"pattern\":{\"shape\":\"\"}},\"name\":\"\",\"offsetgroup\":\"\",\"orientation\":\"v\",\"showlegend\":false,\"textposition\":\"auto\",\"x\":[\"Email Marketing\",\"Online Ads\",\"Social Media\",\"Online Ads\",\"Email Marketing\",\"Email Marketing\",\"Referral\",\"Online Ads\",\"Social Media\",\"Online Ads\",\"Online Ads\",\"Email Marketing\",\"Online Ads\",\"Online Ads\",\"Email Marketing\",\"Email Marketing\",\"Online Ads\",\"Email Marketing\",\"Referral\",\"Online Ads\",\"Referral\",\"Email Marketing\",\"Social Media\",\"Online Ads\",\"Referral\",\"Social Media\",\"Online Ads\",\"Online Ads\",\"Referral\",\"Email Marketing\",\"Referral\",\"Email Marketing\",\"Email Marketing\",\"Referral\",\"Social Media\",\"Email Marketing\",\"Referral\",\"Email Marketing\",\"Referral\",\"Email Marketing\",\"Email Marketing\",\"Online Ads\",\"Online Ads\",\"Social Media\",\"Online Ads\",\"Online Ads\",\"Online Ads\",\"Social Media\",\"Email Marketing\",\"Social Media\",\"Social Media\",\"Online Ads\",\"Social Media\",\"Referral\",\"Email Marketing\",\"Email Marketing\",\"Online Ads\",\"Email Marketing\",\"Online Ads\",\"Social Media\",\"Referral\",\"Email Marketing\",\"Email Marketing\",\"Email Marketing\",\"Referral\",\"Referral\",\"Online Ads\",\"Online Ads\",\"Social Media\",\"Social Media\",\"Online Ads\",\"Referral\",\"Referral\",\"Social Media\",\"Email Marketing\",\"Social Media\",\"Referral\",\"Social Media\",\"Social Media\",\"Online Ads\",\"Email Marketing\",\"Social Media\",\"Email Marketing\",\"Referral\",\"Social Media\",\"Online Ads\",\"Referral\",\"Email Marketing\",\"Online Ads\",\"Online Ads\",\"Online Ads\",\"Email Marketing\",\"Referral\",\"Social Media\",\"Online Ads\",\"Social Media\",\"Referral\",\"Email Marketing\",\"Referral\",\"Referral\",\"Online Ads\",\"Email Marketing\",\"Email Marketing\",\"Email Marketing\",\"Social Media\",\"Email Marketing\",\"Online Ads\",\"Social Media\",\"Social Media\",\"Referral\",\"Referral\",\"Social Media\",\"Email Marketing\",\"Online Ads\",\"Referral\",\"Referral\",\"Social Media\",\"Email Marketing\",\"Email Marketing\",\"Online Ads\",\"Referral\",\"Email Marketing\",\"Referral\",\"Email Marketing\",\"Online Ads\",\"Social Media\",\"Online Ads\",\"Referral\",\"Referral\",\"Referral\",\"Social Media\",\"Online Ads\",\"Referral\",\"Referral\",\"Online Ads\",\"Social Media\",\"Online Ads\",\"Referral\",\"Referral\",\"Online Ads\",\"Social Media\",\"Email Marketing\",\"Social Media\",\"Referral\",\"Social Media\",\"Online Ads\",\"Email Marketing\",\"Email Marketing\",\"Online Ads\",\"Social Media\",\"Referral\",\"Email Marketing\",\"Social Media\",\"Email Marketing\",\"Online Ads\",\"Online Ads\",\"Social Media\",\"Email Marketing\",\"Online Ads\",\"Online Ads\",\"Online Ads\",\"Email Marketing\",\"Online Ads\",\"Referral\",\"Referral\",\"Online Ads\",\"Online Ads\",\"Email Marketing\",\"Online Ads\",\"Online Ads\",\"Referral\",\"Email Marketing\",\"Social Media\",\"Referral\",\"Referral\",\"Online Ads\",\"Online Ads\",\"Social Media\",\"Social Media\",\"Social Media\",\"Email Marketing\",\"Email Marketing\",\"Referral\",\"Online Ads\",\"Social Media\",\"Social Media\",\"Referral\",\"Online Ads\",\"Online Ads\",\"Social Media\",\"Social Media\",\"Social Media\",\"Online Ads\",\"Referral\",\"Social Media\",\"Referral\",\"Email Marketing\",\"Online Ads\",\"Referral\",\"Referral\",\"Referral\",\"Referral\",\"Referral\",\"Online Ads\",\"Social Media\",\"Online Ads\",\"Social Media\",\"Online Ads\",\"Social Media\",\"Referral\",\"Social Media\",\"Referral\",\"Social Media\",\"Social Media\",\"Referral\",\"Referral\",\"Email Marketing\",\"Email Marketing\",\"Online Ads\",\"Social Media\",\"Referral\",\"Email Marketing\",\"Email Marketing\",\"Email Marketing\",\"Online Ads\",\"Email Marketing\",\"Email Marketing\",\"Referral\",\"Online Ads\",\"Referral\",\"Online Ads\",\"Online Ads\",\"Email Marketing\",\"Email Marketing\",\"Online Ads\",\"Online Ads\",\"Referral\",\"Online Ads\",\"Email Marketing\",\"Email Marketing\",\"Social Media\",\"Email Marketing\",\"Email Marketing\",\"Referral\",\"Online Ads\",\"Email Marketing\",\"Online Ads\",\"Social Media\",\"Email Marketing\",\"Social Media\",\"Social Media\",\"Referral\",\"Online Ads\",\"Social Media\",\"Referral\",\"Referral\",\"Online Ads\",\"Online Ads\",\"Social Media\",\"Referral\",\"Referral\",\"Referral\",\"Social Media\",\"Online Ads\",\"Referral\",\"Email Marketing\",\"Email Marketing\",\"Referral\",\"Email Marketing\",\"Online Ads\",\"Referral\",\"Social Media\",\"Email Marketing\",\"Referral\",\"Online Ads\",\"Online Ads\",\"Online Ads\",\"Email Marketing\",\"Social Media\",\"Email Marketing\",\"Email Marketing\",\"Online Ads\",\"Email Marketing\",\"Social Media\",\"Social Media\",\"Referral\",\"Referral\",\"Online Ads\",\"Social Media\",\"Social Media\",\"Online Ads\",\"Referral\",\"Email Marketing\",\"Social Media\",\"Email Marketing\",\"Email Marketing\",\"Social Media\",\"Online Ads\",\"Online Ads\",\"Referral\",\"Referral\",\"Email Marketing\",\"Referral\",\"Email Marketing\",\"Online Ads\",\"Online Ads\",\"Social Media\",\"Referral\",\"Referral\",\"Referral\",\"Referral\",\"Online Ads\",\"Online Ads\",\"Online Ads\",\"Referral\",\"Referral\",\"Social Media\",\"Email Marketing\",\"Online Ads\",\"Referral\",\"Referral\",\"Referral\",\"Referral\",\"Referral\",\"Online Ads\",\"Email Marketing\",\"Social Media\",\"Referral\",\"Referral\",\"Referral\",\"Referral\",\"Social Media\",\"Referral\",\"Online Ads\",\"Referral\",\"Referral\",\"Online Ads\",\"Referral\",\"Social Media\",\"Social Media\",\"Referral\",\"Online Ads\",\"Online Ads\",\"Online Ads\",\"Social Media\",\"Referral\",\"Referral\",\"Social Media\",\"Email Marketing\",\"Social Media\",\"Referral\",\"Email Marketing\",\"Referral\",\"Online Ads\",\"Referral\",\"Online Ads\",\"Referral\",\"Social Media\",\"Online Ads\",\"Social Media\",\"Email Marketing\",\"Social Media\",\"Email Marketing\",\"Email Marketing\",\"Social Media\",\"Email Marketing\",\"Social Media\",\"Email Marketing\",\"Online Ads\",\"Referral\",\"Email Marketing\",\"Email Marketing\",\"Email Marketing\",\"Email Marketing\",\"Social Media\",\"Online Ads\",\"Email Marketing\",\"Social Media\",\"Social Media\",\"Referral\",\"Email Marketing\",\"Social Media\",\"Social Media\",\"Social Media\",\"Social Media\",\"Social Media\",\"Online Ads\",\"Social Media\",\"Referral\",\"Email Marketing\",\"Referral\",\"Email Marketing\",\"Social Media\",\"Email Marketing\",\"Online Ads\",\"Social Media\",\"Social Media\",\"Email Marketing\",\"Email Marketing\",\"Social Media\",\"Social Media\",\"Online Ads\",\"Social Media\",\"Referral\",\"Referral\",\"Online Ads\",\"Online Ads\",\"Email Marketing\",\"Email Marketing\",\"Social Media\",\"Referral\",\"Referral\",\"Email Marketing\",\"Online Ads\",\"Online Ads\",\"Online Ads\",\"Online Ads\",\"Social Media\",\"Referral\",\"Online Ads\",\"Social Media\",\"Email Marketing\",\"Online Ads\",\"Email Marketing\",\"Social Media\",\"Online Ads\",\"Email Marketing\",\"Online Ads\",\"Referral\",\"Referral\",\"Online Ads\",\"Social Media\",\"Online Ads\",\"Referral\",\"Email Marketing\",\"Online Ads\",\"Online Ads\",\"Referral\",\"Social Media\",\"Referral\",\"Email Marketing\",\"Referral\",\"Email Marketing\",\"Referral\",\"Referral\",\"Email Marketing\",\"Email Marketing\",\"Email Marketing\",\"Referral\",\"Email Marketing\",\"Referral\",\"Email Marketing\",\"Social Media\",\"Social Media\",\"Online Ads\",\"Email Marketing\",\"Referral\",\"Email Marketing\",\"Email Marketing\",\"Social Media\",\"Online Ads\",\"Social Media\",\"Social Media\",\"Social Media\",\"Email Marketing\",\"Online Ads\",\"Online Ads\",\"Email Marketing\",\"Email Marketing\",\"Online Ads\",\"Social Media\",\"Email Marketing\",\"Social Media\",\"Online Ads\",\"Social Media\",\"Referral\",\"Email Marketing\",\"Email Marketing\",\"Referral\",\"Referral\",\"Social Media\",\"Online Ads\",\"Social Media\",\"Referral\",\"Referral\",\"Referral\",\"Social Media\",\"Email Marketing\",\"Email Marketing\",\"Email Marketing\",\"Online Ads\",\"Online Ads\",\"Social Media\",\"Online Ads\",\"Social Media\",\"Email Marketing\",\"Social Media\",\"Online Ads\",\"Social Media\",\"Online Ads\"],\"xaxis\":\"x\",\"y\":[218.06424024351617,33.57169114001669,58.547296030882244,101.79899787809677,85.26216810471152,102.02853120106694,57.14066477489841,129.39971710027487,70.65520787967706,64.5234732500656,123.10940912306177,100.3210095445754,80.89837663152218,52.42718463034469,364.3672085653763,332.8997800477762,64.80922990740395,53.10499724186282,59.86295267778016,68.64513460195944,217.37527452334072,171.4172410629097,80.01280828887778,179.3448781931991,76.74507704203315,174.6492528799176,199.93528878599818,57.98202353064941,56.92210890954365,33.53186214873253,150.4883899496825,136.21612512887563,171.36201724842508,103.99212020144525,86.31499738601373,156.44586128557552,79.57888445100996,201.7052926802192,362.8820552564676,81.00730475086614,427.72046972443405,151.84009662926096,57.29579994521705,23.461993659358807,74.92763258595936,337.21719521833046,230.1281596582659,99.48529869486575,296.92760155368256,72.44366174290221,104.51271288144227,81.60394377684135,82.80030716375917,292.1373957003497,110.02932390887963,89.5170120859836,44.976371523310924,117.50898585854013,87.88385926476765,149.30094132711224,71.40821191944679,59.10198821124344,125.99346494617964,48.263769376431284,366.5252089998591,99.75171331070307,49.03984422675843,124.18334022713626,322.0309476732531,331.9099418469102,95.73086437060769,78.34138800087739,106.35624908252886,303.8684328095194,50.73974598901472,111.38939145334275,225.19225898521591,195.5993343688523,91.40993240051924,81.75218452542686,109.13590274720532,314.775188576952,240.16244864235634,49.87598489713695,92.37805583696098,39.50907513527648,60.826252476870785,76.47392926493517,83.8652405504352,32.78823503177525,91.74606969270492,40.17114950304109,66.01712145424843,107.46998531570222,56.22274696802701,94.19333164651879,102.83067571158936,131.56714393904622,61.212026926747555,106.49445135795831,58.36747164487327,104.87293665991288,77.74503651039868,168.02744224707774,104.51214882739144,115.60037416012287,75.9816753926755,119.19232778655056,38.117038950519074,117.89910011813255,125.57162070602693,60.13038163568522,110.87407804431562,111.2708444245423,94.65720377524458,142.21132899057156,99.59354367136098,165.9403706274086,254.0946512495384,138.91104719365234,133.70764698691772,40.07090645970874,110.64607336287935,44.794514091521556,174.63643675194442,89.97240973192027,133.89225921158828,39.692309776902604,65.26209664112966,86.62977787493791,158.27187392039443,182.26749861379008,59.22207814166167,43.81576351134885,48.01271114498091,146.91789645617067,61.348791955057614,22.01236393800532,108.15656403691906,65.53891584790841,306.07373277568445,69.85730146074854,90.23022789620899,65.43991181885373,235.4655152132514,74.0878694523779,187.11995583308908,206.01605490658307,89.92461811631378,61.37500427875647,52.65014186546445,70.91216874907714,176.45386618786713,63.28079889266849,178.68594088323843,70.34675051372321,28.807304022723535,71.79148628179578,24.784414227961886,35.48422973099157,295.57803530347786,46.15295932018564,184.28416632744003,133.9823862587133,193.22732291927508,126.86187425821673,143.5504592887475,61.3789854277464,96.57156689127724,280.2057859555017,131.9468579084435,233.7192980686695,107.82880525798242,63.472027922212604,248.86494887775672,180.97492889371165,79.20714443876359,435.48734557286474,122.07677488628035,42.88606467957145,158.3353282073107,47.889069809514965,47.090394258492715,33.33998655396594,32.603319045533645,140.10074092354049,102.28014486297735,74.65645365945208,64.19683127413678,83.21355042426376,79.4156298411431,187.7416870418782,288.4261292526901,247.13916725948394,207.56560532934628,71.43330670728342,280.3640131856517,315.6449222521369,100.02058757099432,83.63814512742933,97.04159171918711,113.01575075244936,89.71926330417163,33.83261440587518,46.21364324674719,82.60915742433075,173.73177775123884,78.0197189827707,126.73190313078628,46.79420727183853,101.47870175265878,223.46674940605112,170.38232010629153,63.86997252067452,72.56538725317895,30.738776920865206,39.98079781842939,227.34288805359085,95.38693055971667,57.18490313280046,28.443907219248768,372.89572375164204,434.3834455624725,143.5128885599879,165.62569349053135,217.3169420656437,204.95146317849762,79.92477322570062,41.46166759208803,134.16917738834096,169.52960547097263,360.6037957734745,113.76319882212366,46.64747537547307,159.1104048148294,196.61882654535265,87.26185908129568,31.022036935802472,99.66017604910841,55.55318034905638,81.78964529077204,138.46663680004406,165.65818959399007,107.84841988382087,179.4059317871519,129.21011238521197,386.75128535926274,82.0611906637726,201.37883102906557,75.26895428935573,49.849894458782146,131.91186235768402,56.88478756528224,87.38242883761203,99.04953718254033,100.851154053681,113.22765633674214,156.05825195278152,50.00943330223166,222.46522150970006,134.19242054074317,175.0817484290018,82.44820702538914,46.51879367695117,96.87510776791899,314.0460695585194,74.39092919701386,237.06250728054306,59.42817333801917,132.23208819693994,73.09546102825234,55.91970998030289,37.98866640048673,213.55706853404533,91.68587532042663,47.33920017676173,160.29124379293157,193.821646414028,91.79972828113333,73.49322981791151,309.1837639339718,71.27385759116144,77.32826607934328,178.5581211928263,48.690688066351086,103.30704243587566,223.68084229152282,61.71636325939229,100.15813461005871,133.38652910466317,187.4989039890499,189.5602228982235,237.75289582031075,171.3887591428597,95.68134596764381,198.09641561964068,55.411868629278764,249.31545130158318,216.496478802759,203.9141853686816,42.627118662626124,53.517643880172415,85.83976640145241,108.60020288950771,62.94811460899583,41.95741246134622,68.57222414816293,47.609915335440604,65.46264629149478,105.7906750611564,56.427569349320095,76.23698003053832,92.3478681488643,99.73667659163908,234.7993262814003,48.356244605789314,107.95205001044829,23.491783927784155,137.2007105607167,141.5152416333337,90.33267255871291,195.71653922799453,114.21110368556684,101.9759573056719,351.6623253313672,102.80395167123082,29.437908855956533,79.18854211925957,280.060143103189,344.5231733422201,136.26549988537073,98.61517282438244,221.7003105164461,188.51415319313128,79.38316959760346,54.99821831219703,86.16965013597465,47.57190809077045,73.79390779330585,103.76201111269934,52.316554137905044,314.2348661956273,94.71964763992344,95.8056775957123,200.4256975574351,147.91229122243556,52.50078312688792,56.666115393339965,92.25880240218886,212.50564407039238,345.3486207380111,30.094642088177533,79.60518679538787,113.69819572317944,312.2477596747458,118.8024688529729,189.86026033103371,227.9904906410419,55.750900221311674,93.02608724008329,118.1662350112727,64.52823736387961,87.81406165518459,94.1570662898356,59.19819373544256,126.80526850451051,65.86276072305562,89.26301282504501,46.53762302345865,86.79625757208446,105.28104024721767,86.87662282341277,129.2257381747992,26.317468052799573,144.62446434127162,248.48867672497582,63.33287636855652,290.7072540058887,34.943797344756405,83.66469568882324,71.99676277336319,77.7425704860237,21.61645262123925,222.02801620529394,148.54315143211392,247.36290285308783,34.72132953802442,145.62732286396093,74.44570305538521,115.52713174157537,101.59299455542995,149.84643076908839,41.67485203397511,292.081046704693,61.960965394329975,56.41717768598626,86.25977188931954,62.865251861622525,182.64948718905308,76.72669117940885,331.38454496717264,58.943865284677756,116.947093769225,110.08846253680977,190.72013824662827,98.90048690372109,129.07579210124305,189.46073165053812,52.00769578713043,110.50406362277091,72.85144258769466,209.8464165261319,89.36569190986575,233.08002655724417,180.43473645563495,172.09170166723328,126.65969685798457,217.72279078257603,88.35851986889138,88.26621606097355,84.57502700620965,362.77903898750554,113.32233595959978,94.15540441411983,199.18680197567176,46.57774032938634,81.27331648974254,174.64711691966374,196.47195358784765,64.78730966594647,44.498812377890225,199.4961729876743,44.80421794150596,127.38659924892784,87.71197322049123,148.05934317713212,124.9363797924456,122.47231310333652,88.20184649529776,72.42429779475175,113.12524342551656,121.9746383122902,96.04440852670605,159.4494961147272,81.20210397267398,36.51697074497594,220.52605324888683,47.36448666737971,105.78262690980453,116.8569049367181,99.91966277697622,175.70603468312908,143.2082055647097,100.43691847814877,57.28139994470385,115.63132984321527,52.783731020180234,143.01314695801076,58.73216897782289,205.07297374972305,141.8985842078482,256.7877205083588,107.24173012267742,144.27780506418839,31.85298686215384,120.9554755528958,25.583688339207658,266.87878710937696,115.91534032141126,310.7349089981759,94.273440014798,46.402524616325245,113.0374054095208,110.4178703264659,116.25056305878952,71.16711954545003,103.9405366685923,199.376922146991,58.35416677431634,92.82807737227574,126.25163586248058,126.36214539205581,118.66586114041122,80.41642935873058,87.66535417620678,120.38062079068746,191.35585372470916,78.72079451937915,264.60507060408423,49.03307907998,110.8140879061345,126.91695807655582,98.57960503861527,164.52897142442512,155.03503553303995,59.519218285273034,137.8955463854301,231.1276953535672,171.5078814073467,110.54501933059547],\"yaxis\":\"y\",\"type\":\"bar\"}],                        {\"template\":{\"data\":{\"histogram2dcontour\":[{\"type\":\"histogram2dcontour\",\"colorbar\":{\"outlinewidth\":0,\"ticks\":\"\"},\"colorscale\":[[0.0,\"#0d0887\"],[0.1111111111111111,\"#46039f\"],[0.2222222222222222,\"#7201a8\"],[0.3333333333333333,\"#9c179e\"],[0.4444444444444444,\"#bd3786\"],[0.5555555555555556,\"#d8576b\"],[0.6666666666666666,\"#ed7953\"],[0.7777777777777778,\"#fb9f3a\"],[0.8888888888888888,\"#fdca26\"],[1.0,\"#f0f921\"]]}],\"choropleth\":[{\"type\":\"choropleth\",\"colorbar\":{\"outlinewidth\":0,\"ticks\":\"\"}}],\"histogram2d\":[{\"type\":\"histogram2d\",\"colorbar\":{\"outlinewidth\":0,\"ticks\":\"\"},\"colorscale\":[[0.0,\"#0d0887\"],[0.1111111111111111,\"#46039f\"],[0.2222222222222222,\"#7201a8\"],[0.3333333333333333,\"#9c179e\"],[0.4444444444444444,\"#bd3786\"],[0.5555555555555556,\"#d8576b\"],[0.6666666666666666,\"#ed7953\"],[0.7777777777777778,\"#fb9f3a\"],[0.8888888888888888,\"#fdca26\"],[1.0,\"#f0f921\"]]}],\"heatmap\":[{\"type\":\"heatmap\",\"colorbar\":{\"outlinewidth\":0,\"ticks\":\"\"},\"colorscale\":[[0.0,\"#0d0887\"],[0.1111111111111111,\"#46039f\"],[0.2222222222222222,\"#7201a8\"],[0.3333333333333333,\"#9c179e\"],[0.4444444444444444,\"#bd3786\"],[0.5555555555555556,\"#d8576b\"],[0.6666666666666666,\"#ed7953\"],[0.7777777777777778,\"#fb9f3a\"],[0.8888888888888888,\"#fdca26\"],[1.0,\"#f0f921\"]]}],\"heatmapgl\":[{\"type\":\"heatmapgl\",\"colorbar\":{\"outlinewidth\":0,\"ticks\":\"\"},\"colorscale\":[[0.0,\"#0d0887\"],[0.1111111111111111,\"#46039f\"],[0.2222222222222222,\"#7201a8\"],[0.3333333333333333,\"#9c179e\"],[0.4444444444444444,\"#bd3786\"],[0.5555555555555556,\"#d8576b\"],[0.6666666666666666,\"#ed7953\"],[0.7777777777777778,\"#fb9f3a\"],[0.8888888888888888,\"#fdca26\"],[1.0,\"#f0f921\"]]}],\"contourcarpet\":[{\"type\":\"contourcarpet\",\"colorbar\":{\"outlinewidth\":0,\"ticks\":\"\"}}],\"contour\":[{\"type\":\"contour\",\"colorbar\":{\"outlinewidth\":0,\"ticks\":\"\"},\"colorscale\":[[0.0,\"#0d0887\"],[0.1111111111111111,\"#46039f\"],[0.2222222222222222,\"#7201a8\"],[0.3333333333333333,\"#9c179e\"],[0.4444444444444444,\"#bd3786\"],[0.5555555555555556,\"#d8576b\"],[0.6666666666666666,\"#ed7953\"],[0.7777777777777778,\"#fb9f3a\"],[0.8888888888888888,\"#fdca26\"],[1.0,\"#f0f921\"]]}],\"surface\":[{\"type\":\"surface\",\"colorbar\":{\"outlinewidth\":0,\"ticks\":\"\"},\"colorscale\":[[0.0,\"#0d0887\"],[0.1111111111111111,\"#46039f\"],[0.2222222222222222,\"#7201a8\"],[0.3333333333333333,\"#9c179e\"],[0.4444444444444444,\"#bd3786\"],[0.5555555555555556,\"#d8576b\"],[0.6666666666666666,\"#ed7953\"],[0.7777777777777778,\"#fb9f3a\"],[0.8888888888888888,\"#fdca26\"],[1.0,\"#f0f921\"]]}],\"mesh3d\":[{\"type\":\"mesh3d\",\"colorbar\":{\"outlinewidth\":0,\"ticks\":\"\"}}],\"scatter\":[{\"fillpattern\":{\"fillmode\":\"overlay\",\"size\":10,\"solidity\":0.2},\"type\":\"scatter\"}],\"parcoords\":[{\"type\":\"parcoords\",\"line\":{\"colorbar\":{\"outlinewidth\":0,\"ticks\":\"\"}}}],\"scatterpolargl\":[{\"type\":\"scatterpolargl\",\"marker\":{\"colorbar\":{\"outlinewidth\":0,\"ticks\":\"\"}}}],\"bar\":[{\"error_x\":{\"color\":\"#2a3f5f\"},\"error_y\":{\"color\":\"#2a3f5f\"},\"marker\":{\"line\":{\"color\":\"white\",\"width\":0.5},\"pattern\":{\"fillmode\":\"overlay\",\"size\":10,\"solidity\":0.2}},\"type\":\"bar\"}],\"scattergeo\":[{\"type\":\"scattergeo\",\"marker\":{\"colorbar\":{\"outlinewidth\":0,\"ticks\":\"\"}}}],\"scatterpolar\":[{\"type\":\"scatterpolar\",\"marker\":{\"colorbar\":{\"outlinewidth\":0,\"ticks\":\"\"}}}],\"histogram\":[{\"marker\":{\"pattern\":{\"fillmode\":\"overlay\",\"size\":10,\"solidity\":0.2}},\"type\":\"histogram\"}],\"scattergl\":[{\"type\":\"scattergl\",\"marker\":{\"colorbar\":{\"outlinewidth\":0,\"ticks\":\"\"}}}],\"scatter3d\":[{\"type\":\"scatter3d\",\"line\":{\"colorbar\":{\"outlinewidth\":0,\"ticks\":\"\"}},\"marker\":{\"colorbar\":{\"outlinewidth\":0,\"ticks\":\"\"}}}],\"scattermapbox\":[{\"type\":\"scattermapbox\",\"marker\":{\"colorbar\":{\"outlinewidth\":0,\"ticks\":\"\"}}}],\"scatterternary\":[{\"type\":\"scatterternary\",\"marker\":{\"colorbar\":{\"outlinewidth\":0,\"ticks\":\"\"}}}],\"scattercarpet\":[{\"type\":\"scattercarpet\",\"marker\":{\"colorbar\":{\"outlinewidth\":0,\"ticks\":\"\"}}}],\"carpet\":[{\"aaxis\":{\"endlinecolor\":\"#2a3f5f\",\"gridcolor\":\"#C8D4E3\",\"linecolor\":\"#C8D4E3\",\"minorgridcolor\":\"#C8D4E3\",\"startlinecolor\":\"#2a3f5f\"},\"baxis\":{\"endlinecolor\":\"#2a3f5f\",\"gridcolor\":\"#C8D4E3\",\"linecolor\":\"#C8D4E3\",\"minorgridcolor\":\"#C8D4E3\",\"startlinecolor\":\"#2a3f5f\"},\"type\":\"carpet\"}],\"table\":[{\"cells\":{\"fill\":{\"color\":\"#EBF0F8\"},\"line\":{\"color\":\"white\"}},\"header\":{\"fill\":{\"color\":\"#C8D4E3\"},\"line\":{\"color\":\"white\"}},\"type\":\"table\"}],\"barpolar\":[{\"marker\":{\"line\":{\"color\":\"white\",\"width\":0.5},\"pattern\":{\"fillmode\":\"overlay\",\"size\":10,\"solidity\":0.2}},\"type\":\"barpolar\"}],\"pie\":[{\"automargin\":true,\"type\":\"pie\"}]},\"layout\":{\"autotypenumbers\":\"strict\",\"colorway\":[\"#636efa\",\"#EF553B\",\"#00cc96\",\"#ab63fa\",\"#FFA15A\",\"#19d3f3\",\"#FF6692\",\"#B6E880\",\"#FF97FF\",\"#FECB52\"],\"font\":{\"color\":\"#2a3f5f\"},\"hovermode\":\"closest\",\"hoverlabel\":{\"align\":\"left\"},\"paper_bgcolor\":\"white\",\"plot_bgcolor\":\"white\",\"polar\":{\"bgcolor\":\"white\",\"angularaxis\":{\"gridcolor\":\"#EBF0F8\",\"linecolor\":\"#EBF0F8\",\"ticks\":\"\"},\"radialaxis\":{\"gridcolor\":\"#EBF0F8\",\"linecolor\":\"#EBF0F8\",\"ticks\":\"\"}},\"ternary\":{\"bgcolor\":\"white\",\"aaxis\":{\"gridcolor\":\"#DFE8F3\",\"linecolor\":\"#A2B1C6\",\"ticks\":\"\"},\"baxis\":{\"gridcolor\":\"#DFE8F3\",\"linecolor\":\"#A2B1C6\",\"ticks\":\"\"},\"caxis\":{\"gridcolor\":\"#DFE8F3\",\"linecolor\":\"#A2B1C6\",\"ticks\":\"\"}},\"coloraxis\":{\"colorbar\":{\"outlinewidth\":0,\"ticks\":\"\"}},\"colorscale\":{\"sequential\":[[0.0,\"#0d0887\"],[0.1111111111111111,\"#46039f\"],[0.2222222222222222,\"#7201a8\"],[0.3333333333333333,\"#9c179e\"],[0.4444444444444444,\"#bd3786\"],[0.5555555555555556,\"#d8576b\"],[0.6666666666666666,\"#ed7953\"],[0.7777777777777778,\"#fb9f3a\"],[0.8888888888888888,\"#fdca26\"],[1.0,\"#f0f921\"]],\"sequentialminus\":[[0.0,\"#0d0887\"],[0.1111111111111111,\"#46039f\"],[0.2222222222222222,\"#7201a8\"],[0.3333333333333333,\"#9c179e\"],[0.4444444444444444,\"#bd3786\"],[0.5555555555555556,\"#d8576b\"],[0.6666666666666666,\"#ed7953\"],[0.7777777777777778,\"#fb9f3a\"],[0.8888888888888888,\"#fdca26\"],[1.0,\"#f0f921\"]],\"diverging\":[[0,\"#8e0152\"],[0.1,\"#c51b7d\"],[0.2,\"#de77ae\"],[0.3,\"#f1b6da\"],[0.4,\"#fde0ef\"],[0.5,\"#f7f7f7\"],[0.6,\"#e6f5d0\"],[0.7,\"#b8e186\"],[0.8,\"#7fbc41\"],[0.9,\"#4d9221\"],[1,\"#276419\"]]},\"xaxis\":{\"gridcolor\":\"#EBF0F8\",\"linecolor\":\"#EBF0F8\",\"ticks\":\"\",\"title\":{\"standoff\":15},\"zerolinecolor\":\"#EBF0F8\",\"automargin\":true,\"zerolinewidth\":2},\"yaxis\":{\"gridcolor\":\"#EBF0F8\",\"linecolor\":\"#EBF0F8\",\"ticks\":\"\",\"title\":{\"standoff\":15},\"zerolinecolor\":\"#EBF0F8\",\"automargin\":true,\"zerolinewidth\":2},\"scene\":{\"xaxis\":{\"backgroundcolor\":\"white\",\"gridcolor\":\"#DFE8F3\",\"linecolor\":\"#EBF0F8\",\"showbackground\":true,\"ticks\":\"\",\"zerolinecolor\":\"#EBF0F8\",\"gridwidth\":2},\"yaxis\":{\"backgroundcolor\":\"white\",\"gridcolor\":\"#DFE8F3\",\"linecolor\":\"#EBF0F8\",\"showbackground\":true,\"ticks\":\"\",\"zerolinecolor\":\"#EBF0F8\",\"gridwidth\":2},\"zaxis\":{\"backgroundcolor\":\"white\",\"gridcolor\":\"#DFE8F3\",\"linecolor\":\"#EBF0F8\",\"showbackground\":true,\"ticks\":\"\",\"zerolinecolor\":\"#EBF0F8\",\"gridwidth\":2}},\"shapedefaults\":{\"line\":{\"color\":\"#2a3f5f\"}},\"annotationdefaults\":{\"arrowcolor\":\"#2a3f5f\",\"arrowhead\":0,\"arrowwidth\":1},\"geo\":{\"bgcolor\":\"white\",\"landcolor\":\"white\",\"subunitcolor\":\"#C8D4E3\",\"showland\":true,\"showlakes\":true,\"lakecolor\":\"white\"},\"title\":{\"x\":0.05},\"mapbox\":{\"style\":\"light\"}}},\"xaxis\":{\"anchor\":\"y\",\"domain\":[0.0,1.0],\"title\":{\"text\":\"Marketing_Channel\"}},\"yaxis\":{\"anchor\":\"x\",\"domain\":[0.0,1.0],\"title\":{\"text\":\"CAC\"}},\"legend\":{\"tracegroupgap\":0},\"title\":{\"text\":\"CAC by Marketing Channel\"},\"barmode\":\"relative\"},                        {\"responsive\": true}                    ).then(function(){\n",
       "                            \n",
       "var gd = document.getElementById('49bfd737-9f91-4b1e-a4d1-efe0a1dcfca2');\n",
       "var x = new MutationObserver(function (mutations, observer) {{\n",
       "        var display = window.getComputedStyle(gd).display;\n",
       "        if (!display || display === 'none') {{\n",
       "            console.log([gd, 'removed!']);\n",
       "            Plotly.purge(gd);\n",
       "            observer.disconnect();\n",
       "        }}\n",
       "}});\n",
       "\n",
       "// Listen for the removal of the full notebook cells\n",
       "var notebookContainer = gd.closest('#notebook-container');\n",
       "if (notebookContainer) {{\n",
       "    x.observe(notebookContainer, {childList: true});\n",
       "}}\n",
       "\n",
       "// Listen for the clearing of the current output cell\n",
       "var outputEl = gd.closest('.output');\n",
       "if (outputEl) {{\n",
       "    x.observe(outputEl, {childList: true});\n",
       "}}\n",
       "\n",
       "                        })                };                });            </script>        </div>"
      ]
     },
     "metadata": {},
     "output_type": "display_data"
    }
   ],
   "source": [
    "fig1 = px.bar(data, x='Marketing_Channel', y='CAC', title='CAC by Marketing Channel')\n",
    "fig1.show()"
   ]
  },
  {
   "cell_type": "code",
   "execution_count": 41,
   "id": "c20a830e-c8ef-414c-bea6-a79a18c81cb6",
   "metadata": {},
   "outputs": [
    {
     "data": {
      "application/vnd.plotly.v1+json": {
       "config": {
        "plotlyServerURL": "https://plot.ly"
       },
       "data": [
        {
         "hovertemplate": "Marketing_Channel=Email Marketing<br>New_Customers=%{x}<br>CAC=%{y}<extra></extra>",
         "legendgroup": "Email Marketing",
         "marker": {
          "color": "#636efa",
          "symbol": "circle"
         },
         "mode": "markers",
         "name": "Email Marketing",
         "orientation": "v",
         "showlegend": true,
         "type": "scatter",
         "x": [
          16,
          13,
          35,
          23,
          11,
          13,
          25,
          14,
          48,
          27,
          19,
          26,
          17,
          18,
          10,
          13,
          40,
          38,
          42,
          42,
          24,
          49,
          41,
          19,
          18,
          45,
          43,
          16,
          37,
          38,
          24,
          31,
          30,
          14,
          15,
          37,
          33,
          46,
          24,
          16,
          17,
          46,
          49,
          48,
          31,
          19,
          23,
          34,
          13,
          29,
          12,
          13,
          10,
          23,
          23,
          18,
          41,
          37,
          24,
          42,
          32,
          14,
          37,
          14,
          15,
          37,
          25,
          43,
          24,
          20,
          14,
          50,
          19,
          22,
          21,
          41,
          46,
          50,
          29,
          42,
          38,
          38,
          43,
          49,
          33,
          28,
          31,
          48,
          13,
          50,
          31,
          28,
          29,
          18,
          15,
          31,
          18,
          21,
          23,
          24,
          12,
          49,
          34,
          36,
          38,
          44,
          40,
          22,
          33,
          38,
          28,
          36,
          22,
          48,
          45,
          17,
          28,
          27,
          15,
          24,
          34,
          15,
          33,
          19
         ],
         "xaxis": "x",
         "y": [
          218.06424024351617,
          85.26216810471152,
          102.02853120106694,
          100.3210095445754,
          364.3672085653763,
          332.8997800477762,
          53.10499724186282,
          171.4172410629097,
          33.53186214873253,
          136.21612512887563,
          171.36201724842508,
          156.44586128557552,
          201.7052926802192,
          81.00730475086614,
          427.72046972443405,
          296.92760155368256,
          110.02932390887963,
          89.5170120859836,
          117.50898585854013,
          59.10198821124344,
          125.99346494617964,
          48.263769376431284,
          50.73974598901472,
          109.13590274720532,
          240.16244864235634,
          76.47392926493517,
          40.17114950304109,
          131.56714393904622,
          104.87293665991288,
          77.74503651039868,
          168.02744224707774,
          115.60037416012287,
          110.87407804431562,
          165.9403706274086,
          254.0946512495384,
          40.07090645970874,
          44.794514091521556,
          69.85730146074854,
          187.11995583308908,
          206.01605490658307,
          70.91216874907714,
          63.28079889266849,
          71.79148628179578,
          46.15295932018564,
          61.3789854277464,
          233.7192980686695,
          158.3353282073107,
          47.889069809514965,
          280.3640131856517,
          39.98079781842939,
          227.34288805359085,
          372.89572375164204,
          434.3834455624725,
          143.5128885599879,
          217.3169420656437,
          204.95146317849762,
          113.76319882212366,
          46.64747537547307,
          99.66017604910841,
          55.55318034905638,
          138.46663680004406,
          165.65818959399007,
          129.21011238521197,
          201.37883102906557,
          314.0460695585194,
          74.39092919701386,
          59.42817333801917,
          37.98866640048673,
          193.821646414028,
          73.49322981791151,
          309.1837639339718,
          77.32826607934328,
          237.75289582031075,
          95.68134596764381,
          198.09641561964068,
          53.517643880172415,
          108.60020288950771,
          23.491783927784155,
          102.80395167123082,
          92.25880240218886,
          30.094642088177533,
          118.1662350112727,
          87.81406165518459,
          94.1570662898356,
          126.80526850451051,
          89.26301282504501,
          105.28104024721767,
          86.87662282341277,
          129.2257381747992,
          26.317468052799573,
          63.33287636855652,
          71.99676277336319,
          115.52713174157537,
          149.84643076908839,
          292.081046704693,
          62.865251861622525,
          182.64948718905308,
          189.46073165053812,
          52.00769578713043,
          89.36569190986575,
          362.77903898750554,
          94.15540441411983,
          81.27331648974254,
          87.71197322049123,
          113.12524342551656,
          96.04440852670605,
          36.51697074497594,
          220.52605324888683,
          47.36448666737971,
          116.8569049367181,
          175.70603468312908,
          115.63132984321527,
          143.01314695801076,
          58.73216897782289,
          31.85298686215384,
          266.87878710937696,
          115.91534032141126,
          46.402524616325245,
          103.9405366685923,
          199.376922146991,
          78.72079451937915,
          264.60507060408423,
          49.03307907998,
          59.519218285273034
         ],
         "yaxis": "y"
        },
        {
         "hovertemplate": "Marketing_Channel=Online Ads<br>New_Customers=%{x}<br>CAC=%{y}<extra></extra>",
         "legendgroup": "Online Ads",
         "marker": {
          "color": "#EF553B",
          "symbol": "circle"
         },
         "mode": "markers",
         "name": "Online Ads",
         "orientation": "v",
         "showlegend": true,
         "type": "scatter",
         "x": [
          33,
          32,
          22,
          39,
          15,
          50,
          48,
          31,
          46,
          23,
          24,
          31,
          32,
          25,
          30,
          11,
          21,
          43,
          33,
          47,
          29,
          39,
          40,
          48,
          50,
          30,
          34,
          48,
          42,
          23,
          39,
          26,
          15,
          18,
          13,
          17,
          37,
          28,
          32,
          40,
          32,
          24,
          37,
          49,
          45,
          11,
          27,
          27,
          29,
          32,
          10,
          19,
          50,
          39,
          29,
          30,
          13,
          15,
          38,
          27,
          42,
          24,
          29,
          28,
          17,
          10,
          21,
          18,
          44,
          12,
          11,
          46,
          28,
          17,
          39,
          37,
          35,
          29,
          31,
          42,
          32,
          25,
          19,
          14,
          47,
          38,
          30,
          19,
          38,
          29,
          14,
          15,
          42,
          12,
          38,
          46,
          31,
          42,
          25,
          34,
          14,
          47,
          29,
          37,
          33,
          29,
          18,
          19,
          14,
          28,
          44,
          31,
          48,
          19,
          49,
          38,
          33,
          25,
          43,
          26,
          16,
          43,
          15,
          42,
          36,
          24,
          11,
          16,
          12,
          40
         ],
         "xaxis": "x",
         "y": [
          33.57169114001669,
          101.79899787809677,
          129.39971710027487,
          64.5234732500656,
          123.10940912306177,
          80.89837663152218,
          52.42718463034469,
          64.80922990740395,
          68.64513460195944,
          179.3448781931991,
          199.93528878599818,
          57.98202353064941,
          151.84009662926096,
          57.29579994521705,
          74.92763258595936,
          337.21719521833046,
          230.1281596582659,
          81.60394377684135,
          44.976371523310924,
          87.88385926476765,
          49.03984422675843,
          124.18334022713626,
          95.73086437060769,
          81.75218452542686,
          39.50907513527648,
          83.8652405504352,
          32.78823503177525,
          91.74606969270492,
          56.22274696802701,
          58.36747164487327,
          75.9816753926755,
          111.2708444245423,
          138.91104719365234,
          174.63643675194442,
          133.89225921158828,
          182.26749861379008,
          48.01271114498091,
          61.348791955057614,
          65.53891584790841,
          74.0878694523779,
          89.92461811631378,
          178.68594088323843,
          70.34675051372321,
          24.784414227961886,
          35.48422973099157,
          295.57803530347786,
          184.28416632744003,
          126.86187425821673,
          143.5504592887475,
          96.57156689127724,
          280.2057859555017,
          180.97492889371165,
          79.20714443876359,
          33.33998655396594,
          74.65645365945208,
          64.19683127413678,
          288.4261292526901,
          315.6449222521369,
          33.83261440587518,
          82.60915742433075,
          78.0197189827707,
          95.38693055971667,
          165.62569349053135,
          41.46166759208803,
          169.52960547097263,
          360.6037957734745,
          159.1104048148294,
          196.61882654535265,
          31.022036935802472,
          179.4059317871519,
          386.75128535926274,
          56.88478756528224,
          113.22765633674214,
          156.05825195278152,
          46.51879367695117,
          132.23208819693994,
          91.68587532042663,
          47.33920017676173,
          160.29124379293157,
          71.27385759116144,
          61.71636325939229,
          187.4989039890499,
          249.31545130158318,
          216.496478802759,
          62.94811460899583,
          41.95741246134622,
          76.23698003053832,
          92.3478681488643,
          99.73667659163908,
          137.2007105607167,
          351.6623253313672,
          188.51415319313128,
          86.16965013597465,
          314.2348661956273,
          94.71964763992344,
          95.8056775957123,
          113.69819572317944,
          118.8024688529729,
          55.750900221311674,
          46.53762302345865,
          248.48867672497582,
          34.72132953802442,
          61.960965394329975,
          58.943865284677756,
          98.90048690372109,
          129.07579210124305,
          233.08002655724417,
          180.43473645563495,
          172.09170166723328,
          126.65969685798457,
          88.26621606097355,
          113.32233595959978,
          46.57774032938634,
          174.64711691966374,
          44.498812377890225,
          44.80421794150596,
          148.05934317713212,
          124.9363797924456,
          57.28139994470385,
          141.8985842078482,
          120.9554755528958,
          25.583688339207658,
          310.7349089981759,
          110.4178703264659,
          126.36214539205581,
          110.8140879061345,
          126.91695807655582,
          164.52897142442512,
          231.1276953535672,
          110.54501933059547
         ],
         "yaxis": "y"
        },
        {
         "hovertemplate": "Marketing_Channel=Social Media<br>New_Customers=%{x}<br>CAC=%{y}<extra></extra>",
         "legendgroup": "Social Media",
         "marker": {
          "color": "#00cc96",
          "symbol": "circle"
         },
         "mode": "markers",
         "name": "Social Media",
         "orientation": "v",
         "showlegend": true,
         "type": "scatter",
         "x": [
          44,
          17,
          45,
          23,
          44,
          47,
          26,
          18,
          36,
          17,
          16,
          11,
          13,
          16,
          38,
          15,
          30,
          14,
          49,
          39,
          48,
          36,
          35,
          36,
          37,
          40,
          45,
          31,
          13,
          16,
          42,
          19,
          45,
          27,
          45,
          46,
          11,
          15,
          43,
          31,
          20,
          46,
          48,
          15,
          20,
          36,
          23,
          17,
          37,
          28,
          47,
          35,
          45,
          39,
          30,
          46,
          35,
          35,
          49,
          35,
          31,
          17,
          43,
          32,
          19,
          26,
          48,
          46,
          38,
          39,
          28,
          39,
          47,
          22,
          40,
          19,
          12,
          38,
          43,
          20,
          33,
          31,
          16,
          45,
          26,
          48,
          19,
          31,
          15,
          19,
          48,
          45,
          34,
          43,
          15,
          42,
          31,
          16,
          43,
          18,
          20,
          49,
          34,
          42,
          18,
          13,
          40,
          33,
          20,
          38,
          19,
          11,
          13,
          25,
          30,
          31,
          18,
          28
         ],
         "xaxis": "x",
         "y": [
          58.547296030882244,
          70.65520787967706,
          80.01280828887778,
          174.6492528799176,
          86.31499738601373,
          23.461993659358807,
          99.48529869486575,
          72.44366174290221,
          104.51271288144227,
          82.80030716375917,
          149.30094132711224,
          322.0309476732531,
          331.9099418469102,
          303.8684328095194,
          111.38939145334275,
          195.5993343688523,
          91.40993240051924,
          314.775188576952,
          92.37805583696098,
          107.46998531570222,
          94.19333164651879,
          104.51214882739144,
          119.19232778655056,
          38.117038950519074,
          60.13038163568522,
          99.59354367136098,
          89.97240973192027,
          158.27187392039443,
          146.91789645617067,
          306.07373277568445,
          90.23022789620899,
          235.4655152132514,
          61.37500427875647,
          176.45386618786713,
          28.807304022723535,
          107.82880525798242,
          435.48734557286474,
          122.07677488628035,
          42.88606467957145,
          32.603319045533645,
          140.10074092354049,
          83.21355042426376,
          79.4156298411431,
          187.7416870418782,
          207.56560532934628,
          46.21364324674719,
          173.73177775123884,
          126.73190313078628,
          101.47870175265878,
          170.38232010629153,
          63.86997252067452,
          57.18490313280046,
          81.78964529077204,
          82.0611906637726,
          75.26895428935573,
          49.849894458782146,
          87.38242883761203,
          50.00943330223166,
          82.44820702538914,
          55.91970998030289,
          91.79972828113333,
          178.5581211928263,
          48.690688066351086,
          100.15813461005871,
          133.38652910466317,
          171.3887591428597,
          55.411868629278764,
          68.57222414816293,
          107.95205001044829,
          29.437908855956533,
          98.61517282438244,
          73.79390779330585,
          103.76201111269934,
          200.4256975574351,
          56.666115393339965,
          212.50564407039238,
          227.9904906410419,
          93.02608724008329,
          64.52823736387961,
          59.19819373544256,
          65.86276072305562,
          144.62446434127162,
          290.7072540058887,
          34.943797344756405,
          77.7425704860237,
          21.61645262123925,
          222.02801620529394,
          148.54315143211392,
          247.36290285308783,
          145.62732286396093,
          41.67485203397511,
          56.41717768598626,
          86.25977188931954,
          76.72669117940885,
          331.38454496717264,
          116.947093769225,
          110.50406362277091,
          217.72279078257603,
          84.57502700620965,
          199.18680197567176,
          199.4961729876743,
          88.20184649529776,
          143.2082055647097,
          100.43691847814877,
          205.07297374972305,
          256.7877205083588,
          107.24173012267742,
          144.27780506418839,
          94.273440014798,
          113.0374054095208,
          116.25056305878952,
          126.25163586248058,
          118.66586114041122,
          191.35585372470916,
          98.57960503861527,
          155.03503553303995,
          137.8955463854301,
          171.5078814073467
         ],
         "yaxis": "y"
        },
        {
         "hovertemplate": "Marketing_Channel=Referral<br>New_Customers=%{x}<br>CAC=%{y}<extra></extra>",
         "legendgroup": "Referral",
         "marker": {
          "color": "#ab63fa",
          "symbol": "circle"
         },
         "mode": "markers",
         "name": "Referral",
         "orientation": "v",
         "showlegend": true,
         "type": "scatter",
         "x": [
          27,
          18,
          23,
          47,
          19,
          10,
          18,
          21,
          11,
          14,
          38,
          12,
          43,
          35,
          37,
          14,
          27,
          47,
          28,
          37,
          17,
          45,
          16,
          30,
          33,
          19,
          15,
          16,
          47,
          45,
          45,
          36,
          32,
          48,
          29,
          23,
          33,
          11,
          21,
          21,
          35,
          14,
          36,
          33,
          19,
          49,
          27,
          38,
          37,
          41,
          48,
          32,
          17,
          41,
          43,
          48,
          26,
          30,
          34,
          35,
          37,
          50,
          36,
          11,
          30,
          20,
          33,
          16,
          47,
          15,
          42,
          22,
          16,
          21,
          50,
          39,
          50,
          49,
          30,
          50,
          14,
          40,
          27,
          47,
          13,
          32,
          42,
          38,
          12,
          13,
          33,
          14,
          49,
          48,
          34,
          45,
          30,
          48,
          13,
          16,
          15,
          21,
          36,
          34,
          32,
          35,
          33,
          11,
          41,
          22,
          42,
          20,
          21,
          12,
          38,
          28,
          24,
          25,
          29,
          46,
          39,
          20,
          37,
          38,
          32,
          35,
          42,
          33
         ],
         "xaxis": "x",
         "y": [
          57.14066477489841,
          59.86295267778016,
          217.37527452334072,
          76.74507704203315,
          56.92210890954365,
          150.4883899496825,
          103.99212020144525,
          79.57888445100996,
          362.8820552564676,
          292.1373957003497,
          71.40821191944679,
          366.5252089998591,
          99.75171331070307,
          78.34138800087739,
          106.35624908252886,
          225.19225898521591,
          49.87598489713695,
          60.826252476870785,
          66.01712145424843,
          102.83067571158936,
          61.212026926747555,
          106.49445135795831,
          117.89910011813255,
          125.57162070602693,
          94.65720377524458,
          142.21132899057156,
          133.70764698691772,
          110.64607336287935,
          39.692309776902604,
          65.26209664112966,
          86.62977787493791,
          59.22207814166167,
          43.81576351134885,
          22.01236393800532,
          108.15656403691906,
          65.43991181885373,
          52.65014186546445,
          133.9823862587133,
          193.22732291927508,
          131.9468579084435,
          63.472027922212604,
          248.86494887775672,
          47.090394258492715,
          102.28014486297735,
          247.13916725948394,
          71.43330670728342,
          100.02058757099432,
          83.63814512742933,
          97.04159171918711,
          113.01575075244936,
          89.71926330417163,
          46.79420727183853,
          223.46674940605112,
          72.56538725317895,
          30.738776920865206,
          28.443907219248768,
          79.92477322570062,
          134.16917738834096,
          87.26185908129568,
          107.84841988382087,
          131.91186235768402,
          99.04953718254033,
          100.851154053681,
          222.46522150970006,
          134.19242054074317,
          175.0817484290018,
          96.87510776791899,
          237.06250728054306,
          73.09546102825234,
          213.55706853404533,
          103.30704243587566,
          223.68084229152282,
          189.5602228982235,
          203.9141853686816,
          42.627118662626124,
          85.83976640145241,
          47.609915335440604,
          65.46264629149478,
          105.7906750611564,
          56.427569349320095,
          234.7993262814003,
          48.356244605789314,
          141.5152416333337,
          90.33267255871291,
          195.71653922799453,
          114.21110368556684,
          101.9759573056719,
          79.18854211925957,
          280.060143103189,
          344.5231733422201,
          136.26549988537073,
          221.7003105164461,
          79.38316959760346,
          54.99821831219703,
          47.57190809077045,
          52.316554137905044,
          147.91229122243556,
          52.50078312688792,
          345.3486207380111,
          79.60518679538787,
          312.2477596747458,
          189.86026033103371,
          86.79625757208446,
          83.66469568882324,
          74.44570305538521,
          101.59299455542995,
          110.08846253680977,
          190.72013824662827,
          72.85144258769466,
          209.8464165261319,
          88.35851986889138,
          196.47195358784765,
          64.78730966594647,
          127.38659924892784,
          122.47231310333652,
          72.42429779475175,
          121.9746383122902,
          159.4494961147272,
          81.20210397267398,
          105.78262690980453,
          99.91966277697622,
          52.783731020180234,
          71.16711954545003,
          58.35416677431634,
          92.82807737227574,
          80.41642935873058,
          87.66535417620678,
          120.38062079068746
         ],
         "yaxis": "y"
        }
       ],
       "layout": {
        "autosize": true,
        "legend": {
         "title": {
          "text": "Marketing_Channel"
         },
         "tracegroupgap": 0
        },
        "template": {
         "data": {
          "bar": [
           {
            "error_x": {
             "color": "#2a3f5f"
            },
            "error_y": {
             "color": "#2a3f5f"
            },
            "marker": {
             "line": {
              "color": "white",
              "width": 0.5
             },
             "pattern": {
              "fillmode": "overlay",
              "size": 10,
              "solidity": 0.2
             }
            },
            "type": "bar"
           }
          ],
          "barpolar": [
           {
            "marker": {
             "line": {
              "color": "white",
              "width": 0.5
             },
             "pattern": {
              "fillmode": "overlay",
              "size": 10,
              "solidity": 0.2
             }
            },
            "type": "barpolar"
           }
          ],
          "carpet": [
           {
            "aaxis": {
             "endlinecolor": "#2a3f5f",
             "gridcolor": "#C8D4E3",
             "linecolor": "#C8D4E3",
             "minorgridcolor": "#C8D4E3",
             "startlinecolor": "#2a3f5f"
            },
            "baxis": {
             "endlinecolor": "#2a3f5f",
             "gridcolor": "#C8D4E3",
             "linecolor": "#C8D4E3",
             "minorgridcolor": "#C8D4E3",
             "startlinecolor": "#2a3f5f"
            },
            "type": "carpet"
           }
          ],
          "choropleth": [
           {
            "colorbar": {
             "outlinewidth": 0,
             "ticks": ""
            },
            "type": "choropleth"
           }
          ],
          "contour": [
           {
            "colorbar": {
             "outlinewidth": 0,
             "ticks": ""
            },
            "colorscale": [
             [
              0,
              "#0d0887"
             ],
             [
              0.1111111111111111,
              "#46039f"
             ],
             [
              0.2222222222222222,
              "#7201a8"
             ],
             [
              0.3333333333333333,
              "#9c179e"
             ],
             [
              0.4444444444444444,
              "#bd3786"
             ],
             [
              0.5555555555555556,
              "#d8576b"
             ],
             [
              0.6666666666666666,
              "#ed7953"
             ],
             [
              0.7777777777777778,
              "#fb9f3a"
             ],
             [
              0.8888888888888888,
              "#fdca26"
             ],
             [
              1,
              "#f0f921"
             ]
            ],
            "type": "contour"
           }
          ],
          "contourcarpet": [
           {
            "colorbar": {
             "outlinewidth": 0,
             "ticks": ""
            },
            "type": "contourcarpet"
           }
          ],
          "heatmap": [
           {
            "colorbar": {
             "outlinewidth": 0,
             "ticks": ""
            },
            "colorscale": [
             [
              0,
              "#0d0887"
             ],
             [
              0.1111111111111111,
              "#46039f"
             ],
             [
              0.2222222222222222,
              "#7201a8"
             ],
             [
              0.3333333333333333,
              "#9c179e"
             ],
             [
              0.4444444444444444,
              "#bd3786"
             ],
             [
              0.5555555555555556,
              "#d8576b"
             ],
             [
              0.6666666666666666,
              "#ed7953"
             ],
             [
              0.7777777777777778,
              "#fb9f3a"
             ],
             [
              0.8888888888888888,
              "#fdca26"
             ],
             [
              1,
              "#f0f921"
             ]
            ],
            "type": "heatmap"
           }
          ],
          "heatmapgl": [
           {
            "colorbar": {
             "outlinewidth": 0,
             "ticks": ""
            },
            "colorscale": [
             [
              0,
              "#0d0887"
             ],
             [
              0.1111111111111111,
              "#46039f"
             ],
             [
              0.2222222222222222,
              "#7201a8"
             ],
             [
              0.3333333333333333,
              "#9c179e"
             ],
             [
              0.4444444444444444,
              "#bd3786"
             ],
             [
              0.5555555555555556,
              "#d8576b"
             ],
             [
              0.6666666666666666,
              "#ed7953"
             ],
             [
              0.7777777777777778,
              "#fb9f3a"
             ],
             [
              0.8888888888888888,
              "#fdca26"
             ],
             [
              1,
              "#f0f921"
             ]
            ],
            "type": "heatmapgl"
           }
          ],
          "histogram": [
           {
            "marker": {
             "pattern": {
              "fillmode": "overlay",
              "size": 10,
              "solidity": 0.2
             }
            },
            "type": "histogram"
           }
          ],
          "histogram2d": [
           {
            "colorbar": {
             "outlinewidth": 0,
             "ticks": ""
            },
            "colorscale": [
             [
              0,
              "#0d0887"
             ],
             [
              0.1111111111111111,
              "#46039f"
             ],
             [
              0.2222222222222222,
              "#7201a8"
             ],
             [
              0.3333333333333333,
              "#9c179e"
             ],
             [
              0.4444444444444444,
              "#bd3786"
             ],
             [
              0.5555555555555556,
              "#d8576b"
             ],
             [
              0.6666666666666666,
              "#ed7953"
             ],
             [
              0.7777777777777778,
              "#fb9f3a"
             ],
             [
              0.8888888888888888,
              "#fdca26"
             ],
             [
              1,
              "#f0f921"
             ]
            ],
            "type": "histogram2d"
           }
          ],
          "histogram2dcontour": [
           {
            "colorbar": {
             "outlinewidth": 0,
             "ticks": ""
            },
            "colorscale": [
             [
              0,
              "#0d0887"
             ],
             [
              0.1111111111111111,
              "#46039f"
             ],
             [
              0.2222222222222222,
              "#7201a8"
             ],
             [
              0.3333333333333333,
              "#9c179e"
             ],
             [
              0.4444444444444444,
              "#bd3786"
             ],
             [
              0.5555555555555556,
              "#d8576b"
             ],
             [
              0.6666666666666666,
              "#ed7953"
             ],
             [
              0.7777777777777778,
              "#fb9f3a"
             ],
             [
              0.8888888888888888,
              "#fdca26"
             ],
             [
              1,
              "#f0f921"
             ]
            ],
            "type": "histogram2dcontour"
           }
          ],
          "mesh3d": [
           {
            "colorbar": {
             "outlinewidth": 0,
             "ticks": ""
            },
            "type": "mesh3d"
           }
          ],
          "parcoords": [
           {
            "line": {
             "colorbar": {
              "outlinewidth": 0,
              "ticks": ""
             }
            },
            "type": "parcoords"
           }
          ],
          "pie": [
           {
            "automargin": true,
            "type": "pie"
           }
          ],
          "scatter": [
           {
            "fillpattern": {
             "fillmode": "overlay",
             "size": 10,
             "solidity": 0.2
            },
            "type": "scatter"
           }
          ],
          "scatter3d": [
           {
            "line": {
             "colorbar": {
              "outlinewidth": 0,
              "ticks": ""
             }
            },
            "marker": {
             "colorbar": {
              "outlinewidth": 0,
              "ticks": ""
             }
            },
            "type": "scatter3d"
           }
          ],
          "scattercarpet": [
           {
            "marker": {
             "colorbar": {
              "outlinewidth": 0,
              "ticks": ""
             }
            },
            "type": "scattercarpet"
           }
          ],
          "scattergeo": [
           {
            "marker": {
             "colorbar": {
              "outlinewidth": 0,
              "ticks": ""
             }
            },
            "type": "scattergeo"
           }
          ],
          "scattergl": [
           {
            "marker": {
             "colorbar": {
              "outlinewidth": 0,
              "ticks": ""
             }
            },
            "type": "scattergl"
           }
          ],
          "scattermapbox": [
           {
            "marker": {
             "colorbar": {
              "outlinewidth": 0,
              "ticks": ""
             }
            },
            "type": "scattermapbox"
           }
          ],
          "scatterpolar": [
           {
            "marker": {
             "colorbar": {
              "outlinewidth": 0,
              "ticks": ""
             }
            },
            "type": "scatterpolar"
           }
          ],
          "scatterpolargl": [
           {
            "marker": {
             "colorbar": {
              "outlinewidth": 0,
              "ticks": ""
             }
            },
            "type": "scatterpolargl"
           }
          ],
          "scatterternary": [
           {
            "marker": {
             "colorbar": {
              "outlinewidth": 0,
              "ticks": ""
             }
            },
            "type": "scatterternary"
           }
          ],
          "surface": [
           {
            "colorbar": {
             "outlinewidth": 0,
             "ticks": ""
            },
            "colorscale": [
             [
              0,
              "#0d0887"
             ],
             [
              0.1111111111111111,
              "#46039f"
             ],
             [
              0.2222222222222222,
              "#7201a8"
             ],
             [
              0.3333333333333333,
              "#9c179e"
             ],
             [
              0.4444444444444444,
              "#bd3786"
             ],
             [
              0.5555555555555556,
              "#d8576b"
             ],
             [
              0.6666666666666666,
              "#ed7953"
             ],
             [
              0.7777777777777778,
              "#fb9f3a"
             ],
             [
              0.8888888888888888,
              "#fdca26"
             ],
             [
              1,
              "#f0f921"
             ]
            ],
            "type": "surface"
           }
          ],
          "table": [
           {
            "cells": {
             "fill": {
              "color": "#EBF0F8"
             },
             "line": {
              "color": "white"
             }
            },
            "header": {
             "fill": {
              "color": "#C8D4E3"
             },
             "line": {
              "color": "white"
             }
            },
            "type": "table"
           }
          ]
         },
         "layout": {
          "annotationdefaults": {
           "arrowcolor": "#2a3f5f",
           "arrowhead": 0,
           "arrowwidth": 1
          },
          "autotypenumbers": "strict",
          "coloraxis": {
           "colorbar": {
            "outlinewidth": 0,
            "ticks": ""
           }
          },
          "colorscale": {
           "diverging": [
            [
             0,
             "#8e0152"
            ],
            [
             0.1,
             "#c51b7d"
            ],
            [
             0.2,
             "#de77ae"
            ],
            [
             0.3,
             "#f1b6da"
            ],
            [
             0.4,
             "#fde0ef"
            ],
            [
             0.5,
             "#f7f7f7"
            ],
            [
             0.6,
             "#e6f5d0"
            ],
            [
             0.7,
             "#b8e186"
            ],
            [
             0.8,
             "#7fbc41"
            ],
            [
             0.9,
             "#4d9221"
            ],
            [
             1,
             "#276419"
            ]
           ],
           "sequential": [
            [
             0,
             "#0d0887"
            ],
            [
             0.1111111111111111,
             "#46039f"
            ],
            [
             0.2222222222222222,
             "#7201a8"
            ],
            [
             0.3333333333333333,
             "#9c179e"
            ],
            [
             0.4444444444444444,
             "#bd3786"
            ],
            [
             0.5555555555555556,
             "#d8576b"
            ],
            [
             0.6666666666666666,
             "#ed7953"
            ],
            [
             0.7777777777777778,
             "#fb9f3a"
            ],
            [
             0.8888888888888888,
             "#fdca26"
            ],
            [
             1,
             "#f0f921"
            ]
           ],
           "sequentialminus": [
            [
             0,
             "#0d0887"
            ],
            [
             0.1111111111111111,
             "#46039f"
            ],
            [
             0.2222222222222222,
             "#7201a8"
            ],
            [
             0.3333333333333333,
             "#9c179e"
            ],
            [
             0.4444444444444444,
             "#bd3786"
            ],
            [
             0.5555555555555556,
             "#d8576b"
            ],
            [
             0.6666666666666666,
             "#ed7953"
            ],
            [
             0.7777777777777778,
             "#fb9f3a"
            ],
            [
             0.8888888888888888,
             "#fdca26"
            ],
            [
             1,
             "#f0f921"
            ]
           ]
          },
          "colorway": [
           "#636efa",
           "#EF553B",
           "#00cc96",
           "#ab63fa",
           "#FFA15A",
           "#19d3f3",
           "#FF6692",
           "#B6E880",
           "#FF97FF",
           "#FECB52"
          ],
          "font": {
           "color": "#2a3f5f"
          },
          "geo": {
           "bgcolor": "white",
           "lakecolor": "white",
           "landcolor": "white",
           "showlakes": true,
           "showland": true,
           "subunitcolor": "#C8D4E3"
          },
          "hoverlabel": {
           "align": "left"
          },
          "hovermode": "closest",
          "mapbox": {
           "style": "light"
          },
          "paper_bgcolor": "white",
          "plot_bgcolor": "white",
          "polar": {
           "angularaxis": {
            "gridcolor": "#EBF0F8",
            "linecolor": "#EBF0F8",
            "ticks": ""
           },
           "bgcolor": "white",
           "radialaxis": {
            "gridcolor": "#EBF0F8",
            "linecolor": "#EBF0F8",
            "ticks": ""
           }
          },
          "scene": {
           "xaxis": {
            "backgroundcolor": "white",
            "gridcolor": "#DFE8F3",
            "gridwidth": 2,
            "linecolor": "#EBF0F8",
            "showbackground": true,
            "ticks": "",
            "zerolinecolor": "#EBF0F8"
           },
           "yaxis": {
            "backgroundcolor": "white",
            "gridcolor": "#DFE8F3",
            "gridwidth": 2,
            "linecolor": "#EBF0F8",
            "showbackground": true,
            "ticks": "",
            "zerolinecolor": "#EBF0F8"
           },
           "zaxis": {
            "backgroundcolor": "white",
            "gridcolor": "#DFE8F3",
            "gridwidth": 2,
            "linecolor": "#EBF0F8",
            "showbackground": true,
            "ticks": "",
            "zerolinecolor": "#EBF0F8"
           }
          },
          "shapedefaults": {
           "line": {
            "color": "#2a3f5f"
           }
          },
          "ternary": {
           "aaxis": {
            "gridcolor": "#DFE8F3",
            "linecolor": "#A2B1C6",
            "ticks": ""
           },
           "baxis": {
            "gridcolor": "#DFE8F3",
            "linecolor": "#A2B1C6",
            "ticks": ""
           },
           "bgcolor": "white",
           "caxis": {
            "gridcolor": "#DFE8F3",
            "linecolor": "#A2B1C6",
            "ticks": ""
           }
          },
          "title": {
           "x": 0.05
          },
          "xaxis": {
           "automargin": true,
           "gridcolor": "#EBF0F8",
           "linecolor": "#EBF0F8",
           "ticks": "",
           "title": {
            "standoff": 15
           },
           "zerolinecolor": "#EBF0F8",
           "zerolinewidth": 2
          },
          "yaxis": {
           "automargin": true,
           "gridcolor": "#EBF0F8",
           "linecolor": "#EBF0F8",
           "ticks": "",
           "title": {
            "standoff": 15
           },
           "zerolinecolor": "#EBF0F8",
           "zerolinewidth": 2
          }
         }
        },
        "title": {
         "text": "New Customers vs. CAC"
        },
        "xaxis": {
         "anchor": "y",
         "autorange": true,
         "domain": [
          0,
          1
         ],
         "range": [
          7.558277360726985,
          52.44172263927302
         ],
         "title": {
          "text": "New_Customers"
         },
         "type": "linear"
        },
        "yaxis": {
         "anchor": "x",
         "autorange": true,
         "domain": [
          0,
          1
         ],
         "range": [
          -12.537941457292948,
          469.64173965139696
         ],
         "title": {
          "text": "CAC"
         },
         "type": "linear"
        }
       }
      },
      "image/png": "[encoded data removed]",
      "text/html": [
       "<div>                            <div id=\"78ce7df9-207e-419b-a4ea-8bccfa7779e3\" class=\"plotly-graph-div\" style=\"height:525px; width:100%;\"></div>            <script type=\"text/javascript\">                require([\"plotly\"], function(Plotly) {                    window.PLOTLYENV=window.PLOTLYENV || {};                                    if (document.getElementById(\"78ce7df9-207e-419b-a4ea-8bccfa7779e3\")) {                    Plotly.newPlot(                        \"78ce7df9-207e-419b-a4ea-8bccfa7779e3\",                        [{\"hovertemplate\":\"Marketing_Channel=Email Marketing\\u003cbr\\u003eNew_Customers=%{x}\\u003cbr\\u003eCAC=%{y}\\u003cextra\\u003e\\u003c\\u002fextra\\u003e\",\"legendgroup\":\"Email Marketing\",\"marker\":{\"color\":\"#636efa\",\"symbol\":\"circle\"},\"mode\":\"markers\",\"name\":\"Email Marketing\",\"orientation\":\"v\",\"showlegend\":true,\"x\":[16,13,35,23,11,13,25,14,48,27,19,26,17,18,10,13,40,38,42,42,24,49,41,19,18,45,43,16,37,38,24,31,30,14,15,37,33,46,24,16,17,46,49,48,31,19,23,34,13,29,12,13,10,23,23,18,41,37,24,42,32,14,37,14,15,37,25,43,24,20,14,50,19,22,21,41,46,50,29,42,38,38,43,49,33,28,31,48,13,50,31,28,29,18,15,31,18,21,23,24,12,49,34,36,38,44,40,22,33,38,28,36,22,48,45,17,28,27,15,24,34,15,33,19],\"xaxis\":\"x\",\"y\":[218.06424024351617,85.26216810471152,102.02853120106694,100.3210095445754,364.3672085653763,332.8997800477762,53.10499724186282,171.4172410629097,33.53186214873253,136.21612512887563,171.36201724842508,156.44586128557552,201.7052926802192,81.00730475086614,427.72046972443405,296.92760155368256,110.02932390887963,89.5170120859836,117.50898585854013,59.10198821124344,125.99346494617964,48.263769376431284,50.73974598901472,109.13590274720532,240.16244864235634,76.47392926493517,40.17114950304109,131.56714393904622,104.87293665991288,77.74503651039868,168.02744224707774,115.60037416012287,110.87407804431562,165.9403706274086,254.0946512495384,40.07090645970874,44.794514091521556,69.85730146074854,187.11995583308908,206.01605490658307,70.91216874907714,63.28079889266849,71.79148628179578,46.15295932018564,61.3789854277464,233.7192980686695,158.3353282073107,47.889069809514965,280.3640131856517,39.98079781842939,227.34288805359085,372.89572375164204,434.3834455624725,143.5128885599879,217.3169420656437,204.95146317849762,113.76319882212366,46.64747537547307,99.66017604910841,55.55318034905638,138.46663680004406,165.65818959399007,129.21011238521197,201.37883102906557,314.0460695585194,74.39092919701386,59.42817333801917,37.98866640048673,193.821646414028,73.49322981791151,309.1837639339718,77.32826607934328,237.75289582031075,95.68134596764381,198.09641561964068,53.517643880172415,108.60020288950771,23.491783927784155,102.80395167123082,92.25880240218886,30.094642088177533,118.1662350112727,87.81406165518459,94.1570662898356,126.80526850451051,89.26301282504501,105.28104024721767,86.87662282341277,129.2257381747992,26.317468052799573,63.33287636855652,71.99676277336319,115.52713174157537,149.84643076908839,292.081046704693,62.865251861622525,182.64948718905308,189.46073165053812,52.00769578713043,89.36569190986575,362.77903898750554,94.15540441411983,81.27331648974254,87.71197322049123,113.12524342551656,96.04440852670605,36.51697074497594,220.52605324888683,47.36448666737971,116.8569049367181,175.70603468312908,115.63132984321527,143.01314695801076,58.73216897782289,31.85298686215384,266.87878710937696,115.91534032141126,46.402524616325245,103.9405366685923,199.376922146991,78.72079451937915,264.60507060408423,49.03307907998,59.519218285273034],\"yaxis\":\"y\",\"type\":\"scatter\"},{\"hovertemplate\":\"Marketing_Channel=Online Ads\\u003cbr\\u003eNew_Customers=%{x}\\u003cbr\\u003eCAC=%{y}\\u003cextra\\u003e\\u003c\\u002fextra\\u003e\",\"legendgroup\":\"Online Ads\",\"marker\":{\"color\":\"#EF553B\",\"symbol\":\"circle\"},\"mode\":\"markers\",\"name\":\"Online Ads\",\"orientation\":\"v\",\"showlegend\":true,\"x\":[33,32,22,39,15,50,48,31,46,23,24,31,32,25,30,11,21,43,33,47,29,39,40,48,50,30,34,48,42,23,39,26,15,18,13,17,37,28,32,40,32,24,37,49,45,11,27,27,29,32,10,19,50,39,29,30,13,15,38,27,42,24,29,28,17,10,21,18,44,12,11,46,28,17,39,37,35,29,31,42,32,25,19,14,47,38,30,19,38,29,14,15,42,12,38,46,31,42,25,34,14,47,29,37,33,29,18,19,14,28,44,31,48,19,49,38,33,25,43,26,16,43,15,42,36,24,11,16,12,40],\"xaxis\":\"x\",\"y\":[33.57169114001669,101.79899787809677,129.39971710027487,64.5234732500656,123.10940912306177,80.89837663152218,52.42718463034469,64.80922990740395,68.64513460195944,179.3448781931991,199.93528878599818,57.98202353064941,151.84009662926096,57.29579994521705,74.92763258595936,337.21719521833046,230.1281596582659,81.60394377684135,44.976371523310924,87.88385926476765,49.03984422675843,124.18334022713626,95.73086437060769,81.75218452542686,39.50907513527648,83.8652405504352,32.78823503177525,91.74606969270492,56.22274696802701,58.36747164487327,75.9816753926755,111.2708444245423,138.91104719365234,174.63643675194442,133.89225921158828,182.26749861379008,48.01271114498091,61.348791955057614,65.53891584790841,74.0878694523779,89.92461811631378,178.68594088323843,70.34675051372321,24.784414227961886,35.48422973099157,295.57803530347786,184.28416632744003,126.86187425821673,143.5504592887475,96.57156689127724,280.2057859555017,180.97492889371165,79.20714443876359,33.33998655396594,74.65645365945208,64.19683127413678,288.4261292526901,315.6449222521369,33.83261440587518,82.60915742433075,78.0197189827707,95.38693055971667,165.62569349053135,41.46166759208803,169.52960547097263,360.6037957734745,159.1104048148294,196.61882654535265,31.022036935802472,179.4059317871519,386.75128535926274,56.88478756528224,113.22765633674214,156.05825195278152,46.51879367695117,132.23208819693994,91.68587532042663,47.33920017676173,160.29124379293157,71.27385759116144,61.71636325939229,187.4989039890499,249.31545130158318,216.496478802759,62.94811460899583,41.95741246134622,76.23698003053832,92.3478681488643,99.73667659163908,137.2007105607167,351.6623253313672,188.51415319313128,86.16965013597465,314.2348661956273,94.71964763992344,95.8056775957123,113.69819572317944,118.8024688529729,55.750900221311674,46.53762302345865,248.48867672497582,34.72132953802442,61.960965394329975,58.943865284677756,98.90048690372109,129.07579210124305,233.08002655724417,180.43473645563495,172.09170166723328,126.65969685798457,88.26621606097355,113.32233595959978,46.57774032938634,174.64711691966374,44.498812377890225,44.80421794150596,148.05934317713212,124.9363797924456,57.28139994470385,141.8985842078482,120.9554755528958,25.583688339207658,310.7349089981759,110.4178703264659,126.36214539205581,110.8140879061345,126.91695807655582,164.52897142442512,231.1276953535672,110.54501933059547],\"yaxis\":\"y\",\"type\":\"scatter\"},{\"hovertemplate\":\"Marketing_Channel=Social Media\\u003cbr\\u003eNew_Customers=%{x}\\u003cbr\\u003eCAC=%{y}\\u003cextra\\u003e\\u003c\\u002fextra\\u003e\",\"legendgroup\":\"Social Media\",\"marker\":{\"color\":\"#00cc96\",\"symbol\":\"circle\"},\"mode\":\"markers\",\"name\":\"Social Media\",\"orientation\":\"v\",\"showlegend\":true,\"x\":[44,17,45,23,44,47,26,18,36,17,16,11,13,16,38,15,30,14,49,39,48,36,35,36,37,40,45,31,13,16,42,19,45,27,45,46,11,15,43,31,20,46,48,15,20,36,23,17,37,28,47,35,45,39,30,46,35,35,49,35,31,17,43,32,19,26,48,46,38,39,28,39,47,22,40,19,12,38,43,20,33,31,16,45,26,48,19,31,15,19,48,45,34,43,15,42,31,16,43,18,20,49,34,42,18,13,40,33,20,38,19,11,13,25,30,31,18,28],\"xaxis\":\"x\",\"y\":[58.547296030882244,70.65520787967706,80.01280828887778,174.6492528799176,86.31499738601373,23.461993659358807,99.48529869486575,72.44366174290221,104.51271288144227,82.80030716375917,149.30094132711224,322.0309476732531,331.9099418469102,303.8684328095194,111.38939145334275,195.5993343688523,91.40993240051924,314.775188576952,92.37805583696098,107.46998531570222,94.19333164651879,104.51214882739144,119.19232778655056,38.117038950519074,60.13038163568522,99.59354367136098,89.97240973192027,158.27187392039443,146.91789645617067,306.07373277568445,90.23022789620899,235.4655152132514,61.37500427875647,176.45386618786713,28.807304022723535,107.82880525798242,435.48734557286474,122.07677488628035,42.88606467957145,32.603319045533645,140.10074092354049,83.21355042426376,79.4156298411431,187.7416870418782,207.56560532934628,46.21364324674719,173.73177775123884,126.73190313078628,101.47870175265878,170.38232010629153,63.86997252067452,57.18490313280046,81.78964529077204,82.0611906637726,75.26895428935573,49.849894458782146,87.38242883761203,50.00943330223166,82.44820702538914,55.91970998030289,91.79972828113333,178.5581211928263,48.690688066351086,100.15813461005871,133.38652910466317,171.3887591428597,55.411868629278764,68.57222414816293,107.95205001044829,29.437908855956533,98.61517282438244,73.79390779330585,103.76201111269934,200.4256975574351,56.666115393339965,212.50564407039238,227.9904906410419,93.02608724008329,64.52823736387961,59.19819373544256,65.86276072305562,144.62446434127162,290.7072540058887,34.943797344756405,77.7425704860237,21.61645262123925,222.02801620529394,148.54315143211392,247.36290285308783,145.62732286396093,41.67485203397511,56.41717768598626,86.25977188931954,76.72669117940885,331.38454496717264,116.947093769225,110.50406362277091,217.72279078257603,84.57502700620965,199.18680197567176,199.4961729876743,88.20184649529776,143.2082055647097,100.43691847814877,205.07297374972305,256.7877205083588,107.24173012267742,144.27780506418839,94.273440014798,113.0374054095208,116.25056305878952,126.25163586248058,118.66586114041122,191.35585372470916,98.57960503861527,155.03503553303995,137.8955463854301,171.5078814073467],\"yaxis\":\"y\",\"type\":\"scatter\"},{\"hovertemplate\":\"Marketing_Channel=Referral\\u003cbr\\u003eNew_Customers=%{x}\\u003cbr\\u003eCAC=%{y}\\u003cextra\\u003e\\u003c\\u002fextra\\u003e\",\"legendgroup\":\"Referral\",\"marker\":{\"color\":\"#ab63fa\",\"symbol\":\"circle\"},\"mode\":\"markers\",\"name\":\"Referral\",\"orientation\":\"v\",\"showlegend\":true,\"x\":[27,18,23,47,19,10,18,21,11,14,38,12,43,35,37,14,27,47,28,37,17,45,16,30,33,19,15,16,47,45,45,36,32,48,29,23,33,11,21,21,35,14,36,33,19,49,27,38,37,41,48,32,17,41,43,48,26,30,34,35,37,50,36,11,30,20,33,16,47,15,42,22,16,21,50,39,50,49,30,50,14,40,27,47,13,32,42,38,12,13,33,14,49,48,34,45,30,48,13,16,15,21,36,34,32,35,33,11,41,22,42,20,21,12,38,28,24,25,29,46,39,20,37,38,32,35,42,33],\"xaxis\":\"x\",\"y\":[57.14066477489841,59.86295267778016,217.37527452334072,76.74507704203315,56.92210890954365,150.4883899496825,103.99212020144525,79.57888445100996,362.8820552564676,292.1373957003497,71.40821191944679,366.5252089998591,99.75171331070307,78.34138800087739,106.35624908252886,225.19225898521591,49.87598489713695,60.826252476870785,66.01712145424843,102.83067571158936,61.212026926747555,106.49445135795831,117.89910011813255,125.57162070602693,94.65720377524458,142.21132899057156,133.70764698691772,110.64607336287935,39.692309776902604,65.26209664112966,86.62977787493791,59.22207814166167,43.81576351134885,22.01236393800532,108.15656403691906,65.43991181885373,52.65014186546445,133.9823862587133,193.22732291927508,131.9468579084435,63.472027922212604,248.86494887775672,47.090394258492715,102.28014486297735,247.13916725948394,71.43330670728342,100.02058757099432,83.63814512742933,97.04159171918711,113.01575075244936,89.71926330417163,46.79420727183853,223.46674940605112,72.56538725317895,30.738776920865206,28.443907219248768,79.92477322570062,134.16917738834096,87.26185908129568,107.84841988382087,131.91186235768402,99.04953718254033,100.851154053681,222.46522150970006,134.19242054074317,175.0817484290018,96.87510776791899,237.06250728054306,73.09546102825234,213.55706853404533,103.30704243587566,223.68084229152282,189.5602228982235,203.9141853686816,42.627118662626124,85.83976640145241,47.609915335440604,65.46264629149478,105.7906750611564,56.427569349320095,234.7993262814003,48.356244605789314,141.5152416333337,90.33267255871291,195.71653922799453,114.21110368556684,101.9759573056719,79.18854211925957,280.060143103189,344.5231733422201,136.26549988537073,221.7003105164461,79.38316959760346,54.99821831219703,47.57190809077045,52.316554137905044,147.91229122243556,52.50078312688792,345.3486207380111,79.60518679538787,312.2477596747458,189.86026033103371,86.79625757208446,83.66469568882324,74.44570305538521,101.59299455542995,110.08846253680977,190.72013824662827,72.85144258769466,209.8464165261319,88.35851986889138,196.47195358784765,64.78730966594647,127.38659924892784,122.47231310333652,72.42429779475175,121.9746383122902,159.4494961147272,81.20210397267398,105.78262690980453,99.91966277697622,52.783731020180234,71.16711954545003,58.35416677431634,92.82807737227574,80.41642935873058,87.66535417620678,120.38062079068746],\"yaxis\":\"y\",\"type\":\"scatter\"}],                        {\"template\":{\"data\":{\"histogram2dcontour\":[{\"type\":\"histogram2dcontour\",\"colorbar\":{\"outlinewidth\":0,\"ticks\":\"\"},\"colorscale\":[[0.0,\"#0d0887\"],[0.1111111111111111,\"#46039f\"],[0.2222222222222222,\"#7201a8\"],[0.3333333333333333,\"#9c179e\"],[0.4444444444444444,\"#bd3786\"],[0.5555555555555556,\"#d8576b\"],[0.6666666666666666,\"#ed7953\"],[0.7777777777777778,\"#fb9f3a\"],[0.8888888888888888,\"#fdca26\"],[1.0,\"#f0f921\"]]}],\"choropleth\":[{\"type\":\"choropleth\",\"colorbar\":{\"outlinewidth\":0,\"ticks\":\"\"}}],\"histogram2d\":[{\"type\":\"histogram2d\",\"colorbar\":{\"outlinewidth\":0,\"ticks\":\"\"},\"colorscale\":[[0.0,\"#0d0887\"],[0.1111111111111111,\"#46039f\"],[0.2222222222222222,\"#7201a8\"],[0.3333333333333333,\"#9c179e\"],[0.4444444444444444,\"#bd3786\"],[0.5555555555555556,\"#d8576b\"],[0.6666666666666666,\"#ed7953\"],[0.7777777777777778,\"#fb9f3a\"],[0.8888888888888888,\"#fdca26\"],[1.0,\"#f0f921\"]]}],\"heatmap\":[{\"type\":\"heatmap\",\"colorbar\":{\"outlinewidth\":0,\"ticks\":\"\"},\"colorscale\":[[0.0,\"#0d0887\"],[0.1111111111111111,\"#46039f\"],[0.2222222222222222,\"#7201a8\"],[0.3333333333333333,\"#9c179e\"],[0.4444444444444444,\"#bd3786\"],[0.5555555555555556,\"#d8576b\"],[0.6666666666666666,\"#ed7953\"],[0.7777777777777778,\"#fb9f3a\"],[0.8888888888888888,\"#fdca26\"],[1.0,\"#f0f921\"]]}],\"heatmapgl\":[{\"type\":\"heatmapgl\",\"colorbar\":{\"outlinewidth\":0,\"ticks\":\"\"},\"colorscale\":[[0.0,\"#0d0887\"],[0.1111111111111111,\"#46039f\"],[0.2222222222222222,\"#7201a8\"],[0.3333333333333333,\"#9c179e\"],[0.4444444444444444,\"#bd3786\"],[0.5555555555555556,\"#d8576b\"],[0.6666666666666666,\"#ed7953\"],[0.7777777777777778,\"#fb9f3a\"],[0.8888888888888888,\"#fdca26\"],[1.0,\"#f0f921\"]]}],\"contourcarpet\":[{\"type\":\"contourcarpet\",\"colorbar\":{\"outlinewidth\":0,\"ticks\":\"\"}}],\"contour\":[{\"type\":\"contour\",\"colorbar\":{\"outlinewidth\":0,\"ticks\":\"\"},\"colorscale\":[[0.0,\"#0d0887\"],[0.1111111111111111,\"#46039f\"],[0.2222222222222222,\"#7201a8\"],[0.3333333333333333,\"#9c179e\"],[0.4444444444444444,\"#bd3786\"],[0.5555555555555556,\"#d8576b\"],[0.6666666666666666,\"#ed7953\"],[0.7777777777777778,\"#fb9f3a\"],[0.8888888888888888,\"#fdca26\"],[1.0,\"#f0f921\"]]}],\"surface\":[{\"type\":\"surface\",\"colorbar\":{\"outlinewidth\":0,\"ticks\":\"\"},\"colorscale\":[[0.0,\"#0d0887\"],[0.1111111111111111,\"#46039f\"],[0.2222222222222222,\"#7201a8\"],[0.3333333333333333,\"#9c179e\"],[0.4444444444444444,\"#bd3786\"],[0.5555555555555556,\"#d8576b\"],[0.6666666666666666,\"#ed7953\"],[0.7777777777777778,\"#fb9f3a\"],[0.8888888888888888,\"#fdca26\"],[1.0,\"#f0f921\"]]}],\"mesh3d\":[{\"type\":\"mesh3d\",\"colorbar\":{\"outlinewidth\":0,\"ticks\":\"\"}}],\"scatter\":[{\"fillpattern\":{\"fillmode\":\"overlay\",\"size\":10,\"solidity\":0.2},\"type\":\"scatter\"}],\"parcoords\":[{\"type\":\"parcoords\",\"line\":{\"colorbar\":{\"outlinewidth\":0,\"ticks\":\"\"}}}],\"scatterpolargl\":[{\"type\":\"scatterpolargl\",\"marker\":{\"colorbar\":{\"outlinewidth\":0,\"ticks\":\"\"}}}],\"bar\":[{\"error_x\":{\"color\":\"#2a3f5f\"},\"error_y\":{\"color\":\"#2a3f5f\"},\"marker\":{\"line\":{\"color\":\"white\",\"width\":0.5},\"pattern\":{\"fillmode\":\"overlay\",\"size\":10,\"solidity\":0.2}},\"type\":\"bar\"}],\"scattergeo\":[{\"type\":\"scattergeo\",\"marker\":{\"colorbar\":{\"outlinewidth\":0,\"ticks\":\"\"}}}],\"scatterpolar\":[{\"type\":\"scatterpolar\",\"marker\":{\"colorbar\":{\"outlinewidth\":0,\"ticks\":\"\"}}}],\"histogram\":[{\"marker\":{\"pattern\":{\"fillmode\":\"overlay\",\"size\":10,\"solidity\":0.2}},\"type\":\"histogram\"}],\"scattergl\":[{\"type\":\"scattergl\",\"marker\":{\"colorbar\":{\"outlinewidth\":0,\"ticks\":\"\"}}}],\"scatter3d\":[{\"type\":\"scatter3d\",\"line\":{\"colorbar\":{\"outlinewidth\":0,\"ticks\":\"\"}},\"marker\":{\"colorbar\":{\"outlinewidth\":0,\"ticks\":\"\"}}}],\"scattermapbox\":[{\"type\":\"scattermapbox\",\"marker\":{\"colorbar\":{\"outlinewidth\":0,\"ticks\":\"\"}}}],\"scatterternary\":[{\"type\":\"scatterternary\",\"marker\":{\"colorbar\":{\"outlinewidth\":0,\"ticks\":\"\"}}}],\"scattercarpet\":[{\"type\":\"scattercarpet\",\"marker\":{\"colorbar\":{\"outlinewidth\":0,\"ticks\":\"\"}}}],\"carpet\":[{\"aaxis\":{\"endlinecolor\":\"#2a3f5f\",\"gridcolor\":\"#C8D4E3\",\"linecolor\":\"#C8D4E3\",\"minorgridcolor\":\"#C8D4E3\",\"startlinecolor\":\"#2a3f5f\"},\"baxis\":{\"endlinecolor\":\"#2a3f5f\",\"gridcolor\":\"#C8D4E3\",\"linecolor\":\"#C8D4E3\",\"minorgridcolor\":\"#C8D4E3\",\"startlinecolor\":\"#2a3f5f\"},\"type\":\"carpet\"}],\"table\":[{\"cells\":{\"fill\":{\"color\":\"#EBF0F8\"},\"line\":{\"color\":\"white\"}},\"header\":{\"fill\":{\"color\":\"#C8D4E3\"},\"line\":{\"color\":\"white\"}},\"type\":\"table\"}],\"barpolar\":[{\"marker\":{\"line\":{\"color\":\"white\",\"width\":0.5},\"pattern\":{\"fillmode\":\"overlay\",\"size\":10,\"solidity\":0.2}},\"type\":\"barpolar\"}],\"pie\":[{\"automargin\":true,\"type\":\"pie\"}]},\"layout\":{\"autotypenumbers\":\"strict\",\"colorway\":[\"#636efa\",\"#EF553B\",\"#00cc96\",\"#ab63fa\",\"#FFA15A\",\"#19d3f3\",\"#FF6692\",\"#B6E880\",\"#FF97FF\",\"#FECB52\"],\"font\":{\"color\":\"#2a3f5f\"},\"hovermode\":\"closest\",\"hoverlabel\":{\"align\":\"left\"},\"paper_bgcolor\":\"white\",\"plot_bgcolor\":\"white\",\"polar\":{\"bgcolor\":\"white\",\"angularaxis\":{\"gridcolor\":\"#EBF0F8\",\"linecolor\":\"#EBF0F8\",\"ticks\":\"\"},\"radialaxis\":{\"gridcolor\":\"#EBF0F8\",\"linecolor\":\"#EBF0F8\",\"ticks\":\"\"}},\"ternary\":{\"bgcolor\":\"white\",\"aaxis\":{\"gridcolor\":\"#DFE8F3\",\"linecolor\":\"#A2B1C6\",\"ticks\":\"\"},\"baxis\":{\"gridcolor\":\"#DFE8F3\",\"linecolor\":\"#A2B1C6\",\"ticks\":\"\"},\"caxis\":{\"gridcolor\":\"#DFE8F3\",\"linecolor\":\"#A2B1C6\",\"ticks\":\"\"}},\"coloraxis\":{\"colorbar\":{\"outlinewidth\":0,\"ticks\":\"\"}},\"colorscale\":{\"sequential\":[[0.0,\"#0d0887\"],[0.1111111111111111,\"#46039f\"],[0.2222222222222222,\"#7201a8\"],[0.3333333333333333,\"#9c179e\"],[0.4444444444444444,\"#bd3786\"],[0.5555555555555556,\"#d8576b\"],[0.6666666666666666,\"#ed7953\"],[0.7777777777777778,\"#fb9f3a\"],[0.8888888888888888,\"#fdca26\"],[1.0,\"#f0f921\"]],\"sequentialminus\":[[0.0,\"#0d0887\"],[0.1111111111111111,\"#46039f\"],[0.2222222222222222,\"#7201a8\"],[0.3333333333333333,\"#9c179e\"],[0.4444444444444444,\"#bd3786\"],[0.5555555555555556,\"#d8576b\"],[0.6666666666666666,\"#ed7953\"],[0.7777777777777778,\"#fb9f3a\"],[0.8888888888888888,\"#fdca26\"],[1.0,\"#f0f921\"]],\"diverging\":[[0,\"#8e0152\"],[0.1,\"#c51b7d\"],[0.2,\"#de77ae\"],[0.3,\"#f1b6da\"],[0.4,\"#fde0ef\"],[0.5,\"#f7f7f7\"],[0.6,\"#e6f5d0\"],[0.7,\"#b8e186\"],[0.8,\"#7fbc41\"],[0.9,\"#4d9221\"],[1,\"#276419\"]]},\"xaxis\":{\"gridcolor\":\"#EBF0F8\",\"linecolor\":\"#EBF0F8\",\"ticks\":\"\",\"title\":{\"standoff\":15},\"zerolinecolor\":\"#EBF0F8\",\"automargin\":true,\"zerolinewidth\":2},\"yaxis\":{\"gridcolor\":\"#EBF0F8\",\"linecolor\":\"#EBF0F8\",\"ticks\":\"\",\"title\":{\"standoff\":15},\"zerolinecolor\":\"#EBF0F8\",\"automargin\":true,\"zerolinewidth\":2},\"scene\":{\"xaxis\":{\"backgroundcolor\":\"white\",\"gridcolor\":\"#DFE8F3\",\"linecolor\":\"#EBF0F8\",\"showbackground\":true,\"ticks\":\"\",\"zerolinecolor\":\"#EBF0F8\",\"gridwidth\":2},\"yaxis\":{\"backgroundcolor\":\"white\",\"gridcolor\":\"#DFE8F3\",\"linecolor\":\"#EBF0F8\",\"showbackground\":true,\"ticks\":\"\",\"zerolinecolor\":\"#EBF0F8\",\"gridwidth\":2},\"zaxis\":{\"backgroundcolor\":\"white\",\"gridcolor\":\"#DFE8F3\",\"linecolor\":\"#EBF0F8\",\"showbackground\":true,\"ticks\":\"\",\"zerolinecolor\":\"#EBF0F8\",\"gridwidth\":2}},\"shapedefaults\":{\"line\":{\"color\":\"#2a3f5f\"}},\"annotationdefaults\":{\"arrowcolor\":\"#2a3f5f\",\"arrowhead\":0,\"arrowwidth\":1},\"geo\":{\"bgcolor\":\"white\",\"landcolor\":\"white\",\"subunitcolor\":\"#C8D4E3\",\"showland\":true,\"showlakes\":true,\"lakecolor\":\"white\"},\"title\":{\"x\":0.05},\"mapbox\":{\"style\":\"light\"}}},\"xaxis\":{\"anchor\":\"y\",\"domain\":[0.0,1.0],\"title\":{\"text\":\"New_Customers\"}},\"yaxis\":{\"anchor\":\"x\",\"domain\":[0.0,1.0],\"title\":{\"text\":\"CAC\"}},\"legend\":{\"title\":{\"text\":\"Marketing_Channel\"},\"tracegroupgap\":0},\"title\":{\"text\":\"New Customers vs. CAC\"}},                        {\"responsive\": true}                    ).then(function(){\n",
       "                            \n",
       "var gd = document.getElementById('78ce7df9-207e-419b-a4ea-8bccfa7779e3');\n",
       "var x = new MutationObserver(function (mutations, observer) {{\n",
       "        var display = window.getComputedStyle(gd).display;\n",
       "        if (!display || display === 'none') {{\n",
       "            console.log([gd, 'removed!']);\n",
       "            Plotly.purge(gd);\n",
       "            observer.disconnect();\n",
       "        }}\n",
       "}});\n",
       "\n",
       "// Listen for the removal of the full notebook cells\n",
       "var notebookContainer = gd.closest('#notebook-container');\n",
       "if (notebookContainer) {{\n",
       "    x.observe(notebookContainer, {childList: true});\n",
       "}}\n",
       "\n",
       "// Listen for the clearing of the current output cell\n",
       "var outputEl = gd.closest('.output');\n",
       "if (outputEl) {{\n",
       "    x.observe(outputEl, {childList: true});\n",
       "}}\n",
       "\n",
       "                        })                };                });            </script>        </div>"
      ]
     },
     "metadata": {},
     "output_type": "display_data"
    }
   ],
   "source": [
    "fig2 = px.scatter(data, x='New_Customers', y='CAC', color='Marketing_Channel', title='New Customers vs. CAC')\n",
    "fig2.show()\n",
    "\n",
    "# ADD TRENDLINE INTO IT\n"
   ]
  },
  {
   "cell_type": "code",
   "execution_count": 42,
   "id": "37b3e575-6602-4d62-afd4-04fcf6b43d81",
   "metadata": {},
   "outputs": [
    {
     "name": "stdout",
     "output_type": "stream",
     "text": [
      "                   count        mean        std        min        25%  \\\n",
      "Marketing_Channel                                                       \n",
      "Email Marketing    124.0  132.913758  89.597107  23.491784  68.226195   \n",
      "Online Ads         130.0  122.135938  79.543793  24.784414  62.207753   \n",
      "Referral           128.0  119.892174  74.101916  22.012364  71.347939   \n",
      "Social Media       118.0  126.181913  77.498788  21.616453  75.633389   \n",
      "\n",
      "                          50%         75%         max  \n",
      "Marketing_Channel                                      \n",
      "Email Marketing    106.940622  177.441898  434.383446  \n",
      "Online Ads          97.736027  163.469540  386.751285  \n",
      "Referral            99.835688  137.577935  366.525209  \n",
      "Social Media       102.620356  167.354709  435.487346  \n"
     ]
    }
   ],
   "source": [
    "summary_stats = data.groupby('Marketing_Channel')['CAC'].describe()\n",
    "print(summary_stats)"
   ]
  },
  {
   "cell_type": "code",
   "execution_count": 12,
   "id": "4a96c96e-9884-4e81-afe8-da0032efd82f",
   "metadata": {},
   "outputs": [],
   "source": [
    "data['Conversion_Rate'] = data['New_Customers'] / data['Marketing_Spend'] * 100"
   ]
  },
  {
   "cell_type": "code",
   "execution_count": 13,
   "id": "c958d3c9-26bb-4b37-9c9a-f6221a05e926",
   "metadata": {},
   "outputs": [
    {
     "data": {
      "application/vnd.plotly.v1+json": {
       "config": {
        "plotlyServerURL": "https://plot.ly"
       },
       "data": [
        {
         "alignmentgroup": "True",
         "hovertemplate": "Marketing_Channel=%{x}<br>Conversion_Rate=%{y}<extra></extra>",
         "legendgroup": "",
         "marker": {
          "color": "#636efa",
          "pattern": {
           "shape": ""
          }
         },
         "name": "",
         "offsetgroup": "",
         "orientation": "v",
         "showlegend": false,
         "textposition": "auto",
         "type": "bar",
         "x": [
          "Email Marketing",
          "Online Ads",
          "Social Media",
          "Online Ads",
          "Email Marketing",
          "Email Marketing",
          "Referral",
          "Online Ads",
          "Social Media",
          "Online Ads",
          "Online Ads",
          "Email Marketing",
          "Online Ads",
          "Online Ads",
          "Email Marketing",
          "Email Marketing",
          "Online Ads",
          "Email Marketing",
          "Referral",
          "Online Ads",
          "Referral",
          "Email Marketing",
          "Social Media",
          "Online Ads",
          "Referral",
          "Social Media",
          "Online Ads",
          "Online Ads",
          "Referral",
          "Email Marketing",
          "Referral",
          "Email Marketing",
          "Email Marketing",
          "Referral",
          "Social Media",
          "Email Marketing",
          "Referral",
          "Email Marketing",
          "Referral",
          "Email Marketing",
          "Email Marketing",
          "Online Ads",
          "Online Ads",
          "Social Media",
          "Online Ads",
          "Online Ads",
          "Online Ads",
          "Social Media",
          "Email Marketing",
          "Social Media",
          "Social Media",
          "Online Ads",
          "Social Media",
          "Referral",
          "Email Marketing",
          "Email Marketing",
          "Online Ads",
          "Email Marketing",
          "Online Ads",
          "Social Media",
          "Referral",
          "Email Marketing",
          "Email Marketing",
          "Email Marketing",
          "Referral",
          "Referral",
          "Online Ads",
          "Online Ads",
          "Social Media",
          "Social Media",
          "Online Ads",
          "Referral",
          "Referral",
          "Social Media",
          "Email Marketing",
          "Social Media",
          "Referral",
          "Social Media",
          "Social Media",
          "Online Ads",
          "Email Marketing",
          "Social Media",
          "Email Marketing",
          "Referral",
          "Social Media",
          "Online Ads",
          "Referral",
          "Email Marketing",
          "Online Ads",
          "Online Ads",
          "Online Ads",
          "Email Marketing",
          "Referral",
          "Social Media",
          "Online Ads",
          "Social Media",
          "Referral",
          "Email Marketing",
          "Referral",
          "Referral",
          "Online Ads",
          "Email Marketing",
          "Email Marketing",
          "Email Marketing",
          "Social Media",
          "Email Marketing",
          "Online Ads",
          "Social Media",
          "Social Media",
          "Referral",
          "Referral",
          "Social Media",
          "Email Marketing",
          "Online Ads",
          "Referral",
          "Referral",
          "Social Media",
          "Email Marketing",
          "Email Marketing",
          "Online Ads",
          "Referral",
          "Email Marketing",
          "Referral",
          "Email Marketing",
          "Online Ads",
          "Social Media",
          "Online Ads",
          "Referral",
          "Referral",
          "Referral",
          "Social Media",
          "Online Ads",
          "Referral",
          "Referral",
          "Online Ads",
          "Social Media",
          "Online Ads",
          "Referral",
          "Referral",
          "Online Ads",
          "Social Media",
          "Email Marketing",
          "Social Media",
          "Referral",
          "Social Media",
          "Online Ads",
          "Email Marketing",
          "Email Marketing",
          "Online Ads",
          "Social Media",
          "Referral",
          "Email Marketing",
          "Social Media",
          "Email Marketing",
          "Online Ads",
          "Online Ads",
          "Social Media",
          "Email Marketing",
          "Online Ads",
          "Online Ads",
          "Online Ads",
          "Email Marketing",
          "Online Ads",
          "Referral",
          "Referral",
          "Online Ads",
          "Online Ads",
          "Email Marketing",
          "Online Ads",
          "Online Ads",
          "Referral",
          "Email Marketing",
          "Social Media",
          "Referral",
          "Referral",
          "Online Ads",
          "Online Ads",
          "Social Media",
          "Social Media",
          "Social Media",
          "Email Marketing",
          "Email Marketing",
          "Referral",
          "Online Ads",
          "Social Media",
          "Social Media",
          "Referral",
          "Online Ads",
          "Online Ads",
          "Social Media",
          "Social Media",
          "Social Media",
          "Online Ads",
          "Referral",
          "Social Media",
          "Referral",
          "Email Marketing",
          "Online Ads",
          "Referral",
          "Referral",
          "Referral",
          "Referral",
          "Referral",
          "Online Ads",
          "Social Media",
          "Online Ads",
          "Social Media",
          "Online Ads",
          "Social Media",
          "Referral",
          "Social Media",
          "Referral",
          "Social Media",
          "Social Media",
          "Referral",
          "Referral",
          "Email Marketing",
          "Email Marketing",
          "Online Ads",
          "Social Media",
          "Referral",
          "Email Marketing",
          "Email Marketing",
          "Email Marketing",
          "Online Ads",
          "Email Marketing",
          "Email Marketing",
          "Referral",
          "Online Ads",
          "Referral",
          "Online Ads",
          "Online Ads",
          "Email Marketing",
          "Email Marketing",
          "Online Ads",
          "Online Ads",
          "Referral",
          "Online Ads",
          "Email Marketing",
          "Email Marketing",
          "Social Media",
          "Email Marketing",
          "Email Marketing",
          "Referral",
          "Online Ads",
          "Email Marketing",
          "Online Ads",
          "Social Media",
          "Email Marketing",
          "Social Media",
          "Social Media",
          "Referral",
          "Online Ads",
          "Social Media",
          "Referral",
          "Referral",
          "Online Ads",
          "Online Ads",
          "Social Media",
          "Referral",
          "Referral",
          "Referral",
          "Social Media",
          "Online Ads",
          "Referral",
          "Email Marketing",
          "Email Marketing",
          "Referral",
          "Email Marketing",
          "Online Ads",
          "Referral",
          "Social Media",
          "Email Marketing",
          "Referral",
          "Online Ads",
          "Online Ads",
          "Online Ads",
          "Email Marketing",
          "Social Media",
          "Email Marketing",
          "Email Marketing",
          "Online Ads",
          "Email Marketing",
          "Social Media",
          "Social Media",
          "Referral",
          "Referral",
          "Online Ads",
          "Social Media",
          "Social Media",
          "Online Ads",
          "Referral",
          "Email Marketing",
          "Social Media",
          "Email Marketing",
          "Email Marketing",
          "Social Media",
          "Online Ads",
          "Online Ads",
          "Referral",
          "Referral",
          "Email Marketing",
          "Referral",
          "Email Marketing",
          "Online Ads",
          "Online Ads",
          "Social Media",
          "Referral",
          "Referral",
          "Referral",
          "Referral",
          "Online Ads",
          "Online Ads",
          "Online Ads",
          "Referral",
          "Referral",
          "Social Media",
          "Email Marketing",
          "Online Ads",
          "Referral",
          "Referral",
          "Referral",
          "Referral",
          "Referral",
          "Online Ads",
          "Email Marketing",
          "Social Media",
          "Referral",
          "Referral",
          "Referral",
          "Referral",
          "Social Media",
          "Referral",
          "Online Ads",
          "Referral",
          "Referral",
          "Online Ads",
          "Referral",
          "Social Media",
          "Social Media",
          "Referral",
          "Online Ads",
          "Online Ads",
          "Online Ads",
          "Social Media",
          "Referral",
          "Referral",
          "Social Media",
          "Email Marketing",
          "Social Media",
          "Referral",
          "Email Marketing",
          "Referral",
          "Online Ads",
          "Referral",
          "Online Ads",
          "Referral",
          "Social Media",
          "Online Ads",
          "Social Media",
          "Email Marketing",
          "Social Media",
          "Email Marketing",
          "Email Marketing",
          "Social Media",
          "Email Marketing",
          "Social Media",
          "Email Marketing",
          "Online Ads",
          "Referral",
          "Email Marketing",
          "Email Marketing",
          "Email Marketing",
          "Email Marketing",
          "Social Media",
          "Online Ads",
          "Email Marketing",
          "Social Media",
          "Social Media",
          "Referral",
          "Email Marketing",
          "Social Media",
          "Social Media",
          "Social Media",
          "Social Media",
          "Social Media",
          "Online Ads",
          "Social Media",
          "Referral",
          "Email Marketing",
          "Referral",
          "Email Marketing",
          "Social Media",
          "Email Marketing",
          "Online Ads",
          "Social Media",
          "Social Media",
          "Email Marketing",
          "Email Marketing",
          "Social Media",
          "Social Media",
          "Online Ads",
          "Social Media",
          "Referral",
          "Referral",
          "Online Ads",
          "Online Ads",
          "Email Marketing",
          "Email Marketing",
          "Social Media",
          "Referral",
          "Referral",
          "Email Marketing",
          "Online Ads",
          "Online Ads",
          "Online Ads",
          "Online Ads",
          "Social Media",
          "Referral",
          "Online Ads",
          "Social Media",
          "Email Marketing",
          "Online Ads",
          "Email Marketing",
          "Social Media",
          "Online Ads",
          "Email Marketing",
          "Online Ads",
          "Referral",
          "Referral",
          "Online Ads",
          "Social Media",
          "Online Ads",
          "Referral",
          "Email Marketing",
          "Online Ads",
          "Online Ads",
          "Referral",
          "Social Media",
          "Referral",
          "Email Marketing",
          "Referral",
          "Email Marketing",
          "Referral",
          "Referral",
          "Email Marketing",
          "Email Marketing",
          "Email Marketing",
          "Referral",
          "Email Marketing",
          "Referral",
          "Email Marketing",
          "Social Media",
          "Social Media",
          "Online Ads",
          "Email Marketing",
          "Referral",
          "Email Marketing",
          "Email Marketing",
          "Social Media",
          "Online Ads",
          "Social Media",
          "Social Media",
          "Social Media",
          "Email Marketing",
          "Online Ads",
          "Online Ads",
          "Email Marketing",
          "Email Marketing",
          "Online Ads",
          "Social Media",
          "Email Marketing",
          "Social Media",
          "Online Ads",
          "Social Media",
          "Referral",
          "Email Marketing",
          "Email Marketing",
          "Referral",
          "Referral",
          "Social Media",
          "Online Ads",
          "Social Media",
          "Referral",
          "Referral",
          "Referral",
          "Social Media",
          "Email Marketing",
          "Email Marketing",
          "Email Marketing",
          "Online Ads",
          "Online Ads",
          "Social Media",
          "Online Ads",
          "Social Media",
          "Email Marketing",
          "Social Media",
          "Online Ads",
          "Social Media",
          "Online Ads"
         ],
         "xaxis": "x",
         "y": [
          0.4585804618323859,
          2.97870010726991,
          1.7080208101711902,
          0.9823279411821808,
          1.1728531214124038,
          0.9801180005515386,
          1.7500671438448065,
          0.7727992165740801,
          1.415323838128053,
          1.5498235752505518,
          0.8122855979272771,
          0.9968001762937526,
          1.236118747542764,
          1.9074074014289204,
          0.2744484071267834,
          0.30039070613278407,
          1.5429900979054187,
          1.8830619563834514,
          1.670482251990852,
          1.4567674836658495,
          0.4600339216098953,
          0.5833718905982171,
          1.2497999025226132,
          0.5575849224546858,
          1.3030151751001589,
          0.5725761682402176,
          0.5001618303962115,
          1.724672474515137,
          1.7567866320433156,
          2.9822381935260314,
          0.6645030891315677,
          0.734127475035638,
          0.5835598903754097,
          0.9616113202258784,
          1.1585472169197304,
          0.6391987565427537,
          1.2566147501296228,
          0.49577281126945255,
          0.27557163147492864,
          1.234456575336569,
          0.2337975548947345,
          0.6585875682374209,
          1.7453286295961354,
          4.262212387058198,
          1.334621107710521,
          0.29654478305963977,
          0.43454047583093397,
          1.0051736418534856,
          0.3367824327436958,
          1.3803830120417355,
          0.9568213975407812,
          1.2254309702661619,
          1.207724988292905,
          0.34230468769760547,
          0.9088486273242451,
          1.117106097151089,
          2.2233896735793977,
          0.8509987493244319,
          1.137865369552446,
          0.6697881413949299,
          1.4003991601527097,
          1.6919904562698995,
          0.7936919588862548,
          2.0719475766605404,
          0.2728325297811601,
          1.0024890468650256,
          2.039158190177026,
          0.8052609940841986,
          0.31052916100928424,
          0.3012865461141381,
          1.0445951852358188,
          1.2764644915262422,
          0.9402362424647317,
          0.329089794143524,
          1.9708415572606581,
          0.8977515604965544,
          0.4440649978406455,
          0.5112491835551166,
          1.0939730221202084,
          1.2232089035969143,
          0.9162887508397024,
          0.31768704659374175,
          0.41638482854127373,
          2.0049729385041246,
          1.0825081681356346,
          2.531064056994667,
          1.6440269772993996,
          1.3076351766045846,
          1.1923891154865478,
          3.049874441338165,
          1.0899649471082615,
          2.4893487300489037,
          1.514758562584444,
          0.9304923575288625,
          1.7786395256864345,
          1.0616462784783112,
          0.9724724583204277,
          0.7600681827244729,
          1.6336658826813566,
          0.9390160588167303,
          1.7132830527323955,
          0.9535348506954174,
          1.2862557468427536,
          0.5951408809339247,
          0.9568265615240238,
          0.8650491032276926,
          1.316106804478805,
          0.8389801747901077,
          2.623498644000473,
          0.8481828945242329,
          0.7963582809376004,
          1.6630528075786168,
          0.9019240724602072,
          0.8987080175149964,
          1.0564436304017752,
          0.7031788586029589,
          1.0040811513844738,
          0.6026261097399457,
          0.3935541323213181,
          0.7198851496713041,
          0.7479003800716367,
          2.495576188189052,
          0.9037826373832168,
          2.2324162239082623,
          0.572618188162194,
          1.1114518361568586,
          0.746869166214988,
          2.51937971264628,
          1.532282981190306,
          1.1543374859435038,
          0.6318241992275692,
          0.548644167284546,
          1.6885594551544754,
          2.2822836346124316,
          2.082781780392205,
          0.6806522718614647,
          1.6300239468978812,
          4.542901447642595,
          0.924585584707232,
          1.5258110193959116,
          0.3267186605434321,
          1.4314895924828708,
          1.1082760437558585,
          1.528119418571546,
          0.4246906384972514,
          1.3497486260456966,
          0.5344165434134667,
          0.48539906292907364,
          1.112042531786503,
          1.629327788651783,
          1.8993301149221482,
          1.4101952001193223,
          0.5667203681076155,
          1.580258178624001,
          0.5596411195290657,
          1.4215297688909176,
          3.471341848620018,
          1.3929228266354625,
          4.034793765155021,
          2.8181533249589186,
          0.3383201322700698,
          2.1667082993801356,
          0.5426402169696873,
          0.7463667635155041,
          0.5175251537370684,
          0.7882588885330385,
          0.696619157441029,
          1.6292221075846416,
          1.0355014754247758,
          0.3568805678262496,
          0.7578808740514983,
          0.42786368445543943,
          0.9273959751362183,
          1.5754971642398732,
          0.4018243647847746,
          0.5525627257393811,
          1.2625123744653073,
          0.22962779749306916,
          0.8191566339555925,
          2.331759762691271,
          0.6315709900766339,
          2.0881591644557536,
          2.123575340037954,
          2.999401329635646,
          3.067172390036133,
          0.7137720995678009,
          0.9777068670949576,
          1.3394689286495358,
          1.5577092827677832,
          1.2017273567844495,
          1.2591979714828465,
          0.5326467529701793,
          0.34670922589121606,
          0.4046303186536391,
          0.48177538779283335,
          1.3999071946896713,
          0.3566791574415862,
          0.31681168601255083,
          0.9997941666661405,
          1.1956267065421178,
          1.0304859826431305,
          0.8848324179081978,
          1.1145878411972021,
          2.955727831149655,
          2.1638631575977,
          1.210519549138352,
          0.5755999351090905,
          1.2817272518256988,
          0.789067295050409,
          2.1370166486436353,
          0.9854284522060311,
          0.44749386772657895,
          0.5869153556402792,
          1.565680961701217,
          1.3780674752151783,
          3.253219874604734,
          2.5012007127557716,
          0.439864210647431,
          1.0483616509433158,
          1.7487132883266425,
          3.5156914002422033,
          0.2681714850304975,
          0.2302113513338715,
          0.6968015277471078,
          0.6037710568482353,
          0.4601574044318807,
          0.48792040051408353,
          1.2511765246753803,
          2.411866328769724,
          0.745327667252209,
          0.5898674731306581,
          0.2773126660674931,
          0.8790188833944155,
          2.14373873816501,
          0.6284944100065529,
          0.508598295275319,
          1.1459760432887076,
          3.223514955092784,
          1.0034098269174654,
          1.8000769599808983,
          1.2226486573512816,
          0.7221956300159678,
          0.6036526189564727,
          0.9272273076204962,
          0.5573951708499834,
          0.7739332328871572,
          0.25856410511243044,
          1.218602840040765,
          0.4965765243992638,
          1.328569008884738,
          2.0060223012645277,
          0.7580819360191141,
          1.7579392361312378,
          1.1443948323505169,
          1.0095958329992802,
          0.9915602943598648,
          0.8831764538391333,
          0.6407863650187301,
          1.9996227390870578,
          0.4495084639359674,
          0.7451985708063017,
          0.5711617624183795,
          1.2128826521261518,
          2.149668813306897,
          1.0322569161891126,
          0.3184246188483693,
          1.3442499116412987,
          0.4218296733091522,
          1.6827035795163,
          0.7562460924844878,
          1.3680740034097152,
          1.7882782302559135,
          2.6323640568419306,
          0.46825890936997,
          1.090680539947041,
          2.112414228094391,
          0.6238643960438826,
          0.5159382445157189,
          1.08932784303842,
          1.3606695507567468,
          0.3234322486007242,
          1.4030389736110036,
          1.2931881842196513,
          0.5600417350494478,
          2.053780794055106,
          0.9679882188290465,
          0.44706555543845006,
          1.6203158241794413,
          0.9984211506067443,
          0.7497008931204284,
          0.5333364508938148,
          0.5275368348437259,
          0.4206047613215115,
          0.5834688371636195,
          1.045135799341876,
          0.5048046916306006,
          1.8046675283417812,
          0.40109828523638313,
          0.4619012768845348,
          0.49040237107191764,
          2.345924452258986,
          1.8685426478023386,
          1.1649612317480398,
          0.9208085927955609,
          1.5886099309114037,
          2.3833690910307257,
          1.4583164137119364,
          2.1004028109573314,
          1.527588719140926,
          0.9452628971522407,
          1.7721833698159268,
          1.311699387356935,
          1.0828620303264662,
          1.0026401863121936,
          0.42589560022907746,
          2.067985237795488,
          0.9263372023997818,
          4.2568074143457535,
          0.7288591989889592,
          0.7066376656381667,
          1.107019167787864,
          0.510943021956401,
          0.8755716105792021,
          0.9806233022186887,
          0.2843637000516652,
          0.9727252539844196,
          3.396980420359096,
          1.2628089534644793,
          0.357066160475233,
          0.2902562374249017,
          0.7338614695878415,
          1.0140427394279754,
          0.45105935921809104,
          0.5304641498060402,
          1.2597128649171367,
          1.8182407188602117,
          1.160501404406322,
          2.1020809131555787,
          1.355125416045136,
          0.9637438492916903,
          1.9114408746494018,
          0.31823330495014157,
          1.0557471706414052,
          1.0437794764313155,
          0.49893801652526837,
          0.6760763366826398,
          1.9047334924188146,
          1.7647230502014104,
          1.0839074147533858,
          0.4705757366466702,
          0.2895624710656139,
          3.3228506159667637,
          1.256199552135135,
          0.8795214327188587,
          0.32025850274847584,
          0.8417333491929163,
          0.526703164873173,
          0.4386147848483924,
          1.7936930094946413,
          1.0749672803277033,
          0.8462654326801586,
          1.5497091519189103,
          1.1387697837353814,
          1.062055180141006,
          1.6892407299942496,
          0.7886107665663984,
          1.518308660344304,
          1.1202848395449012,
          2.1487990469472855,
          1.1521234071290438,
          0.9498386391812154,
          1.1510576349550568,
          0.7738396499986205,
          3.799757628635643,
          0.6914459490341076,
          0.40243282437645544,
          1.578958760976913,
          0.3439886642731466,
          2.8617382081688896,
          1.1952472805486936,
          1.3889513381981842,
          1.2862965473720436,
          4.626105945882395,
          0.45039361117174026,
          0.6732050521070387,
          0.4042643373222028,
          2.8800740447017406,
          0.6866843256702307,
          1.3432608719619883,
          0.8655975310084882,
          0.9843198385636638,
          0.6673498960685881,
          2.399528615445971,
          0.34237072596190904,
          1.6139193339481273,
          1.7725097940310384,
          1.159288945585326,
          1.5907038791496069,
          0.547496746577197,
          1.3033274140047502,
          0.3017642238261477,
          1.6965293931274412,
          0.8550875167307092,
          0.9083604012233657,
          0.5243284789920075,
          1.0111173678785754,
          0.7747386118813285,
          0.5278138595202452,
          1.922792357679217,
          0.9049440963670915,
          1.3726564148626894,
          0.4765389929236516,
          1.1189976585294055,
          0.42903719154777137,
          0.5542170092319662,
          0.581085543528217,
          0.7895171272368006,
          0.45929964263531214,
          1.1317527743604414,
          1.1329362972909234,
          1.182382123184635,
          0.27564988395992773,
          0.8824385691771366,
          1.0620739257852276,
          0.502041294945906,
          2.1469482910253816,
          1.2304161355667202,
          0.5725831709320411,
          0.5089784988333586,
          1.5435121556307199,
          2.247250986178818,
          0.5012627485649983,
          2.2319327196058807,
          0.7850119289595657,
          1.1400952039765313,
          0.6754048603360621,
          0.8004073766674532,
          0.8165110747571542,
          1.1337631123780525,
          1.3807520824488617,
          0.8839759983883844,
          0.8198425622215924,
          1.0411850261141862,
          0.6271578301385659,
          1.2314951843323156,
          2.7384527785278614,
          0.45346116037881246,
          2.1112864729698586,
          0.9453348146219219,
          0.8557474635679707,
          1.0008040181560969,
          0.5691324158577792,
          0.6982840096743915,
          0.9956498219502442,
          1.7457673886555534,
          0.8648175207842907,
          1.8945231431587903,
          0.6992364137638368,
          1.7026444236677132,
          0.4876312961748088,
          0.704728666309478,
          0.3894267210364713,
          0.9324728339015663,
          0.693107300568584,
          3.1394230133819914,
          0.8267505009003776,
          3.908740548826474,
          0.3747019427175987,
          0.8626985843523295,
          0.3218177201988819,
          1.0607441500416566,
          2.155055157598434,
          0.8846629099253662,
          0.9056505047990511,
          0.8602108873178412,
          1.4051432830035533,
          0.9620885479824254,
          0.5015625626233452,
          1.7136736848072587,
          1.077260273300309,
          0.792068944824801,
          0.7913762439671814,
          0.8427023495972032,
          1.2435269856848388,
          1.1407014885150712,
          0.8306984906970667,
          0.5225865739328952,
          1.2703123820146711,
          0.3779217071377486,
          2.0394395350307417,
          0.902412336639953,
          0.7879167726323885,
          1.0144086087667763,
          0.607795691751067,
          0.6450154937958441,
          1.6801295931123346,
          0.7251865823171059,
          0.4326612604648057,
          0.5830635838972962,
          0.9046088245815981
         ],
         "yaxis": "y"
        }
       ],
       "layout": {
        "autosize": true,
        "barmode": "relative",
        "legend": {
         "tracegroupgap": 0
        },
        "template": {
         "data": {
          "bar": [
           {
            "error_x": {
             "color": "#2a3f5f"
            },
            "error_y": {
             "color": "#2a3f5f"
            },
            "marker": {
             "line": {
              "color": "white",
              "width": 0.5
             },
             "pattern": {
              "fillmode": "overlay",
              "size": 10,
              "solidity": 0.2
             }
            },
            "type": "bar"
           }
          ],
          "barpolar": [
           {
            "marker": {
             "line": {
              "color": "white",
              "width": 0.5
             },
             "pattern": {
              "fillmode": "overlay",
              "size": 10,
              "solidity": 0.2
             }
            },
            "type": "barpolar"
           }
          ],
          "carpet": [
           {
            "aaxis": {
             "endlinecolor": "#2a3f5f",
             "gridcolor": "#C8D4E3",
             "linecolor": "#C8D4E3",
             "minorgridcolor": "#C8D4E3",
             "startlinecolor": "#2a3f5f"
            },
            "baxis": {
             "endlinecolor": "#2a3f5f",
             "gridcolor": "#C8D4E3",
             "linecolor": "#C8D4E3",
             "minorgridcolor": "#C8D4E3",
             "startlinecolor": "#2a3f5f"
            },
            "type": "carpet"
           }
          ],
          "choropleth": [
           {
            "colorbar": {
             "outlinewidth": 0,
             "ticks": ""
            },
            "type": "choropleth"
           }
          ],
          "contour": [
           {
            "colorbar": {
             "outlinewidth": 0,
             "ticks": ""
            },
            "colorscale": [
             [
              0,
              "#0d0887"
             ],
             [
              0.1111111111111111,
              "#46039f"
             ],
             [
              0.2222222222222222,
              "#7201a8"
             ],
             [
              0.3333333333333333,
              "#9c179e"
             ],
             [
              0.4444444444444444,
              "#bd3786"
             ],
             [
              0.5555555555555556,
              "#d8576b"
             ],
             [
              0.6666666666666666,
              "#ed7953"
             ],
             [
              0.7777777777777778,
              "#fb9f3a"
             ],
             [
              0.8888888888888888,
              "#fdca26"
             ],
             [
              1,
              "#f0f921"
             ]
            ],
            "type": "contour"
           }
          ],
          "contourcarpet": [
           {
            "colorbar": {
             "outlinewidth": 0,
             "ticks": ""
            },
            "type": "contourcarpet"
           }
          ],
          "heatmap": [
           {
            "colorbar": {
             "outlinewidth": 0,
             "ticks": ""
            },
            "colorscale": [
             [
              0,
              "#0d0887"
             ],
             [
              0.1111111111111111,
              "#46039f"
             ],
             [
              0.2222222222222222,
              "#7201a8"
             ],
             [
              0.3333333333333333,
              "#9c179e"
             ],
             [
              0.4444444444444444,
              "#bd3786"
             ],
             [
              0.5555555555555556,
              "#d8576b"
             ],
             [
              0.6666666666666666,
              "#ed7953"
             ],
             [
              0.7777777777777778,
              "#fb9f3a"
             ],
             [
              0.8888888888888888,
              "#fdca26"
             ],
             [
              1,
              "#f0f921"
             ]
            ],
            "type": "heatmap"
           }
          ],
          "heatmapgl": [
           {
            "colorbar": {
             "outlinewidth": 0,
             "ticks": ""
            },
            "colorscale": [
             [
              0,
              "#0d0887"
             ],
             [
              0.1111111111111111,
              "#46039f"
             ],
             [
              0.2222222222222222,
              "#7201a8"
             ],
             [
              0.3333333333333333,
              "#9c179e"
             ],
             [
              0.4444444444444444,
              "#bd3786"
             ],
             [
              0.5555555555555556,
              "#d8576b"
             ],
             [
              0.6666666666666666,
              "#ed7953"
             ],
             [
              0.7777777777777778,
              "#fb9f3a"
             ],
             [
              0.8888888888888888,
              "#fdca26"
             ],
             [
              1,
              "#f0f921"
             ]
            ],
            "type": "heatmapgl"
           }
          ],
          "histogram": [
           {
            "marker": {
             "pattern": {
              "fillmode": "overlay",
              "size": 10,
              "solidity": 0.2
             }
            },
            "type": "histogram"
           }
          ],
          "histogram2d": [
           {
            "colorbar": {
             "outlinewidth": 0,
             "ticks": ""
            },
            "colorscale": [
             [
              0,
              "#0d0887"
             ],
             [
              0.1111111111111111,
              "#46039f"
             ],
             [
              0.2222222222222222,
              "#7201a8"
             ],
             [
              0.3333333333333333,
              "#9c179e"
             ],
             [
              0.4444444444444444,
              "#bd3786"
             ],
             [
              0.5555555555555556,
              "#d8576b"
             ],
             [
              0.6666666666666666,
              "#ed7953"
             ],
             [
              0.7777777777777778,
              "#fb9f3a"
             ],
             [
              0.8888888888888888,
              "#fdca26"
             ],
             [
              1,
              "#f0f921"
             ]
            ],
            "type": "histogram2d"
           }
          ],
          "histogram2dcontour": [
           {
            "colorbar": {
             "outlinewidth": 0,
             "ticks": ""
            },
            "colorscale": [
             [
              0,
              "#0d0887"
             ],
             [
              0.1111111111111111,
              "#46039f"
             ],
             [
              0.2222222222222222,
              "#7201a8"
             ],
             [
              0.3333333333333333,
              "#9c179e"
             ],
             [
              0.4444444444444444,
              "#bd3786"
             ],
             [
              0.5555555555555556,
              "#d8576b"
             ],
             [
              0.6666666666666666,
              "#ed7953"
             ],
             [
              0.7777777777777778,
              "#fb9f3a"
             ],
             [
              0.8888888888888888,
              "#fdca26"
             ],
             [
              1,
              "#f0f921"
             ]
            ],
            "type": "histogram2dcontour"
           }
          ],
          "mesh3d": [
           {
            "colorbar": {
             "outlinewidth": 0,
             "ticks": ""
            },
            "type": "mesh3d"
           }
          ],
          "parcoords": [
           {
            "line": {
             "colorbar": {
              "outlinewidth": 0,
              "ticks": ""
             }
            },
            "type": "parcoords"
           }
          ],
          "pie": [
           {
            "automargin": true,
            "type": "pie"
           }
          ],
          "scatter": [
           {
            "fillpattern": {
             "fillmode": "overlay",
             "size": 10,
             "solidity": 0.2
            },
            "type": "scatter"
           }
          ],
          "scatter3d": [
           {
            "line": {
             "colorbar": {
              "outlinewidth": 0,
              "ticks": ""
             }
            },
            "marker": {
             "colorbar": {
              "outlinewidth": 0,
              "ticks": ""
             }
            },
            "type": "scatter3d"
           }
          ],
          "scattercarpet": [
           {
            "marker": {
             "colorbar": {
              "outlinewidth": 0,
              "ticks": ""
             }
            },
            "type": "scattercarpet"
           }
          ],
          "scattergeo": [
           {
            "marker": {
             "colorbar": {
              "outlinewidth": 0,
              "ticks": ""
             }
            },
            "type": "scattergeo"
           }
          ],
          "scattergl": [
           {
            "marker": {
             "colorbar": {
              "outlinewidth": 0,
              "ticks": ""
             }
            },
            "type": "scattergl"
           }
          ],
          "scattermapbox": [
           {
            "marker": {
             "colorbar": {
              "outlinewidth": 0,
              "ticks": ""
             }
            },
            "type": "scattermapbox"
           }
          ],
          "scatterpolar": [
           {
            "marker": {
             "colorbar": {
              "outlinewidth": 0,
              "ticks": ""
             }
            },
            "type": "scatterpolar"
           }
          ],
          "scatterpolargl": [
           {
            "marker": {
             "colorbar": {
              "outlinewidth": 0,
              "ticks": ""
             }
            },
            "type": "scatterpolargl"
           }
          ],
          "scatterternary": [
           {
            "marker": {
             "colorbar": {
              "outlinewidth": 0,
              "ticks": ""
             }
            },
            "type": "scatterternary"
           }
          ],
          "surface": [
           {
            "colorbar": {
             "outlinewidth": 0,
             "ticks": ""
            },
            "colorscale": [
             [
              0,
              "#0d0887"
             ],
             [
              0.1111111111111111,
              "#46039f"
             ],
             [
              0.2222222222222222,
              "#7201a8"
             ],
             [
              0.3333333333333333,
              "#9c179e"
             ],
             [
              0.4444444444444444,
              "#bd3786"
             ],
             [
              0.5555555555555556,
              "#d8576b"
             ],
             [
              0.6666666666666666,
              "#ed7953"
             ],
             [
              0.7777777777777778,
              "#fb9f3a"
             ],
             [
              0.8888888888888888,
              "#fdca26"
             ],
             [
              1,
              "#f0f921"
             ]
            ],
            "type": "surface"
           }
          ],
          "table": [
           {
            "cells": {
             "fill": {
              "color": "#EBF0F8"
             },
             "line": {
              "color": "white"
             }
            },
            "header": {
             "fill": {
              "color": "#C8D4E3"
             },
             "line": {
              "color": "white"
             }
            },
            "type": "table"
           }
          ]
         },
         "layout": {
          "annotationdefaults": {
           "arrowcolor": "#2a3f5f",
           "arrowhead": 0,
           "arrowwidth": 1
          },
          "autotypenumbers": "strict",
          "coloraxis": {
           "colorbar": {
            "outlinewidth": 0,
            "ticks": ""
           }
          },
          "colorscale": {
           "diverging": [
            [
             0,
             "#8e0152"
            ],
            [
             0.1,
             "#c51b7d"
            ],
            [
             0.2,
             "#de77ae"
            ],
            [
             0.3,
             "#f1b6da"
            ],
            [
             0.4,
             "#fde0ef"
            ],
            [
             0.5,
             "#f7f7f7"
            ],
            [
             0.6,
             "#e6f5d0"
            ],
            [
             0.7,
             "#b8e186"
            ],
            [
             0.8,
             "#7fbc41"
            ],
            [
             0.9,
             "#4d9221"
            ],
            [
             1,
             "#276419"
            ]
           ],
           "sequential": [
            [
             0,
             "#0d0887"
            ],
            [
             0.1111111111111111,
             "#46039f"
            ],
            [
             0.2222222222222222,
             "#7201a8"
            ],
            [
             0.3333333333333333,
             "#9c179e"
            ],
            [
             0.4444444444444444,
             "#bd3786"
            ],
            [
             0.5555555555555556,
             "#d8576b"
            ],
            [
             0.6666666666666666,
             "#ed7953"
            ],
            [
             0.7777777777777778,
             "#fb9f3a"
            ],
            [
             0.8888888888888888,
             "#fdca26"
            ],
            [
             1,
             "#f0f921"
            ]
           ],
           "sequentialminus": [
            [
             0,
             "#0d0887"
            ],
            [
             0.1111111111111111,
             "#46039f"
            ],
            [
             0.2222222222222222,
             "#7201a8"
            ],
            [
             0.3333333333333333,
             "#9c179e"
            ],
            [
             0.4444444444444444,
             "#bd3786"
            ],
            [
             0.5555555555555556,
             "#d8576b"
            ],
            [
             0.6666666666666666,
             "#ed7953"
            ],
            [
             0.7777777777777778,
             "#fb9f3a"
            ],
            [
             0.8888888888888888,
             "#fdca26"
            ],
            [
             1,
             "#f0f921"
            ]
           ]
          },
          "colorway": [
           "#636efa",
           "#EF553B",
           "#00cc96",
           "#ab63fa",
           "#FFA15A",
           "#19d3f3",
           "#FF6692",
           "#B6E880",
           "#FF97FF",
           "#FECB52"
          ],
          "font": {
           "color": "#2a3f5f"
          },
          "geo": {
           "bgcolor": "white",
           "lakecolor": "white",
           "landcolor": "white",
           "showlakes": true,
           "showland": true,
           "subunitcolor": "#C8D4E3"
          },
          "hoverlabel": {
           "align": "left"
          },
          "hovermode": "closest",
          "mapbox": {
           "style": "light"
          },
          "paper_bgcolor": "white",
          "plot_bgcolor": "white",
          "polar": {
           "angularaxis": {
            "gridcolor": "#EBF0F8",
            "linecolor": "#EBF0F8",
            "ticks": ""
           },
           "bgcolor": "white",
           "radialaxis": {
            "gridcolor": "#EBF0F8",
            "linecolor": "#EBF0F8",
            "ticks": ""
           }
          },
          "scene": {
           "xaxis": {
            "backgroundcolor": "white",
            "gridcolor": "#DFE8F3",
            "gridwidth": 2,
            "linecolor": "#EBF0F8",
            "showbackground": true,
            "ticks": "",
            "zerolinecolor": "#EBF0F8"
           },
           "yaxis": {
            "backgroundcolor": "white",
            "gridcolor": "#DFE8F3",
            "gridwidth": 2,
            "linecolor": "#EBF0F8",
            "showbackground": true,
            "ticks": "",
            "zerolinecolor": "#EBF0F8"
           },
           "zaxis": {
            "backgroundcolor": "white",
            "gridcolor": "#DFE8F3",
            "gridwidth": 2,
            "linecolor": "#EBF0F8",
            "showbackground": true,
            "ticks": "",
            "zerolinecolor": "#EBF0F8"
           }
          },
          "shapedefaults": {
           "line": {
            "color": "#2a3f5f"
           }
          },
          "ternary": {
           "aaxis": {
            "gridcolor": "#DFE8F3",
            "linecolor": "#A2B1C6",
            "ticks": ""
           },
           "baxis": {
            "gridcolor": "#DFE8F3",
            "linecolor": "#A2B1C6",
            "ticks": ""
           },
           "bgcolor": "white",
           "caxis": {
            "gridcolor": "#DFE8F3",
            "linecolor": "#A2B1C6",
            "ticks": ""
           }
          },
          "title": {
           "x": 0.05
          },
          "xaxis": {
           "automargin": true,
           "gridcolor": "#EBF0F8",
           "linecolor": "#EBF0F8",
           "ticks": "",
           "title": {
            "standoff": 15
           },
           "zerolinecolor": "#EBF0F8",
           "zerolinewidth": 2
          },
          "yaxis": {
           "automargin": true,
           "gridcolor": "#EBF0F8",
           "linecolor": "#EBF0F8",
           "ticks": "",
           "title": {
            "standoff": 15
           },
           "zerolinecolor": "#EBF0F8",
           "zerolinewidth": 2
          }
         }
        },
        "title": {
         "text": "Conversion Rates by Marketing Channel"
        },
        "xaxis": {
         "anchor": "y",
         "autorange": true,
         "domain": [
          0,
          1
         ],
         "range": [
          -0.5,
          3.5
         ],
         "title": {
          "text": "Marketing_Channel"
         },
         "type": "category"
        },
        "yaxis": {
         "anchor": "x",
         "autorange": true,
         "domain": [
          0,
          1
         ],
         "range": [
          0,
          165.70947419183022
         ],
         "title": {
          "text": "Conversion_Rate"
         },
         "type": "linear"
        }
       }
      },
      "image/png": "[encoded data removed]",
      "text/html": [
       "<div>                            <div id=\"ea50bbf3-d0d6-4a1a-92a3-d8c3ffac524b\" class=\"plotly-graph-div\" style=\"height:525px; width:100%;\"></div>            <script type=\"text/javascript\">                require([\"plotly\"], function(Plotly) {                    window.PLOTLYENV=window.PLOTLYENV || {};                                    if (document.getElementById(\"ea50bbf3-d0d6-4a1a-92a3-d8c3ffac524b\")) {                    Plotly.newPlot(                        \"ea50bbf3-d0d6-4a1a-92a3-d8c3ffac524b\",                        [{\"alignmentgroup\":\"True\",\"hovertemplate\":\"Marketing_Channel=%{x}\\u003cbr\\u003eConversion_Rate=%{y}\\u003cextra\\u003e\\u003c\\u002fextra\\u003e\",\"legendgroup\":\"\",\"marker\":{\"color\":\"#636efa\",\"pattern\":{\"shape\":\"\"}},\"name\":\"\",\"offsetgroup\":\"\",\"orientation\":\"v\",\"showlegend\":false,\"textposition\":\"auto\",\"x\":[\"Email Marketing\",\"Online Ads\",\"Social Media\",\"Online Ads\",\"Email Marketing\",\"Email Marketing\",\"Referral\",\"Online Ads\",\"Social Media\",\"Online Ads\",\"Online Ads\",\"Email Marketing\",\"Online Ads\",\"Online Ads\",\"Email Marketing\",\"Email Marketing\",\"Online Ads\",\"Email Marketing\",\"Referral\",\"Online Ads\",\"Referral\",\"Email Marketing\",\"Social Media\",\"Online Ads\",\"Referral\",\"Social Media\",\"Online Ads\",\"Online Ads\",\"Referral\",\"Email Marketing\",\"Referral\",\"Email Marketing\",\"Email Marketing\",\"Referral\",\"Social Media\",\"Email Marketing\",\"Referral\",\"Email Marketing\",\"Referral\",\"Email Marketing\",\"Email Marketing\",\"Online Ads\",\"Online Ads\",\"Social Media\",\"Online Ads\",\"Online Ads\",\"Online Ads\",\"Social Media\",\"Email Marketing\",\"Social Media\",\"Social Media\",\"Online Ads\",\"Social Media\",\"Referral\",\"Email Marketing\",\"Email Marketing\",\"Online Ads\",\"Email Marketing\",\"Online Ads\",\"Social Media\",\"Referral\",\"Email Marketing\",\"Email Marketing\",\"Email Marketing\",\"Referral\",\"Referral\",\"Online Ads\",\"Online Ads\",\"Social Media\",\"Social Media\",\"Online Ads\",\"Referral\",\"Referral\",\"Social Media\",\"Email Marketing\",\"Social Media\",\"Referral\",\"Social Media\",\"Social Media\",\"Online Ads\",\"Email Marketing\",\"Social Media\",\"Email Marketing\",\"Referral\",\"Social Media\",\"Online Ads\",\"Referral\",\"Email Marketing\",\"Online Ads\",\"Online Ads\",\"Online Ads\",\"Email Marketing\",\"Referral\",\"Social Media\",\"Online Ads\",\"Social Media\",\"Referral\",\"Email Marketing\",\"Referral\",\"Referral\",\"Online Ads\",\"Email Marketing\",\"Email Marketing\",\"Email Marketing\",\"Social Media\",\"Email Marketing\",\"Online Ads\",\"Social Media\",\"Social Media\",\"Referral\",\"Referral\",\"Social Media\",\"Email Marketing\",\"Online Ads\",\"Referral\",\"Referral\",\"Social Media\",\"Email Marketing\",\"Email Marketing\",\"Online Ads\",\"Referral\",\"Email Marketing\",\"Referral\",\"Email Marketing\",\"Online Ads\",\"Social Media\",\"Online Ads\",\"Referral\",\"Referral\",\"Referral\",\"Social Media\",\"Online Ads\",\"Referral\",\"Referral\",\"Online Ads\",\"Social Media\",\"Online Ads\",\"Referral\",\"Referral\",\"Online Ads\",\"Social Media\",\"Email Marketing\",\"Social Media\",\"Referral\",\"Social Media\",\"Online Ads\",\"Email Marketing\",\"Email Marketing\",\"Online Ads\",\"Social Media\",\"Referral\",\"Email Marketing\",\"Social Media\",\"Email Marketing\",\"Online Ads\",\"Online Ads\",\"Social Media\",\"Email Marketing\",\"Online Ads\",\"Online Ads\",\"Online Ads\",\"Email Marketing\",\"Online Ads\",\"Referral\",\"Referral\",\"Online Ads\",\"Online Ads\",\"Email Marketing\",\"Online Ads\",\"Online Ads\",\"Referral\",\"Email Marketing\",\"Social Media\",\"Referral\",\"Referral\",\"Online Ads\",\"Online Ads\",\"Social Media\",\"Social Media\",\"Social Media\",\"Email Marketing\",\"Email Marketing\",\"Referral\",\"Online Ads\",\"Social Media\",\"Social Media\",\"Referral\",\"Online Ads\",\"Online Ads\",\"Social Media\",\"Social Media\",\"Social Media\",\"Online Ads\",\"Referral\",\"Social Media\",\"Referral\",\"Email Marketing\",\"Online Ads\",\"Referral\",\"Referral\",\"Referral\",\"Referral\",\"Referral\",\"Online Ads\",\"Social Media\",\"Online Ads\",\"Social Media\",\"Online Ads\",\"Social Media\",\"Referral\",\"Social Media\",\"Referral\",\"Social Media\",\"Social Media\",\"Referral\",\"Referral\",\"Email Marketing\",\"Email Marketing\",\"Online Ads\",\"Social Media\",\"Referral\",\"Email Marketing\",\"Email Marketing\",\"Email Marketing\",\"Online Ads\",\"Email Marketing\",\"Email Marketing\",\"Referral\",\"Online Ads\",\"Referral\",\"Online Ads\",\"Online Ads\",\"Email Marketing\",\"Email Marketing\",\"Online Ads\",\"Online Ads\",\"Referral\",\"Online Ads\",\"Email Marketing\",\"Email Marketing\",\"Social Media\",\"Email Marketing\",\"Email Marketing\",\"Referral\",\"Online Ads\",\"Email Marketing\",\"Online Ads\",\"Social Media\",\"Email Marketing\",\"Social Media\",\"Social Media\",\"Referral\",\"Online Ads\",\"Social Media\",\"Referral\",\"Referral\",\"Online Ads\",\"Online Ads\",\"Social Media\",\"Referral\",\"Referral\",\"Referral\",\"Social Media\",\"Online Ads\",\"Referral\",\"Email Marketing\",\"Email Marketing\",\"Referral\",\"Email Marketing\",\"Online Ads\",\"Referral\",\"Social Media\",\"Email Marketing\",\"Referral\",\"Online Ads\",\"Online Ads\",\"Online Ads\",\"Email Marketing\",\"Social Media\",\"Email Marketing\",\"Email Marketing\",\"Online Ads\",\"Email Marketing\",\"Social Media\",\"Social Media\",\"Referral\",\"Referral\",\"Online Ads\",\"Social Media\",\"Social Media\",\"Online Ads\",\"Referral\",\"Email Marketing\",\"Social Media\",\"Email Marketing\",\"Email Marketing\",\"Social Media\",\"Online Ads\",\"Online Ads\",\"Referral\",\"Referral\",\"Email Marketing\",\"Referral\",\"Email Marketing\",\"Online Ads\",\"Online Ads\",\"Social Media\",\"Referral\",\"Referral\",\"Referral\",\"Referral\",\"Online Ads\",\"Online Ads\",\"Online Ads\",\"Referral\",\"Referral\",\"Social Media\",\"Email Marketing\",\"Online Ads\",\"Referral\",\"Referral\",\"Referral\",\"Referral\",\"Referral\",\"Online Ads\",\"Email Marketing\",\"Social Media\",\"Referral\",\"Referral\",\"Referral\",\"Referral\",\"Social Media\",\"Referral\",\"Online Ads\",\"Referral\",\"Referral\",\"Online Ads\",\"Referral\",\"Social Media\",\"Social Media\",\"Referral\",\"Online Ads\",\"Online Ads\",\"Online Ads\",\"Social Media\",\"Referral\",\"Referral\",\"Social Media\",\"Email Marketing\",\"Social Media\",\"Referral\",\"Email Marketing\",\"Referral\",\"Online Ads\",\"Referral\",\"Online Ads\",\"Referral\",\"Social Media\",\"Online Ads\",\"Social Media\",\"Email Marketing\",\"Social Media\",\"Email Marketing\",\"Email Marketing\",\"Social Media\",\"Email Marketing\",\"Social Media\",\"Email Marketing\",\"Online Ads\",\"Referral\",\"Email Marketing\",\"Email Marketing\",\"Email Marketing\",\"Email Marketing\",\"Social Media\",\"Online Ads\",\"Email Marketing\",\"Social Media\",\"Social Media\",\"Referral\",\"Email Marketing\",\"Social Media\",\"Social Media\",\"Social Media\",\"Social Media\",\"Social Media\",\"Online Ads\",\"Social Media\",\"Referral\",\"Email Marketing\",\"Referral\",\"Email Marketing\",\"Social Media\",\"Email Marketing\",\"Online Ads\",\"Social Media\",\"Social Media\",\"Email Marketing\",\"Email Marketing\",\"Social Media\",\"Social Media\",\"Online Ads\",\"Social Media\",\"Referral\",\"Referral\",\"Online Ads\",\"Online Ads\",\"Email Marketing\",\"Email Marketing\",\"Social Media\",\"Referral\",\"Referral\",\"Email Marketing\",\"Online Ads\",\"Online Ads\",\"Online Ads\",\"Online Ads\",\"Social Media\",\"Referral\",\"Online Ads\",\"Social Media\",\"Email Marketing\",\"Online Ads\",\"Email Marketing\",\"Social Media\",\"Online Ads\",\"Email Marketing\",\"Online Ads\",\"Referral\",\"Referral\",\"Online Ads\",\"Social Media\",\"Online Ads\",\"Referral\",\"Email Marketing\",\"Online Ads\",\"Online Ads\",\"Referral\",\"Social Media\",\"Referral\",\"Email Marketing\",\"Referral\",\"Email Marketing\",\"Referral\",\"Referral\",\"Email Marketing\",\"Email Marketing\",\"Email Marketing\",\"Referral\",\"Email Marketing\",\"Referral\",\"Email Marketing\",\"Social Media\",\"Social Media\",\"Online Ads\",\"Email Marketing\",\"Referral\",\"Email Marketing\",\"Email Marketing\",\"Social Media\",\"Online Ads\",\"Social Media\",\"Social Media\",\"Social Media\",\"Email Marketing\",\"Online Ads\",\"Online Ads\",\"Email Marketing\",\"Email Marketing\",\"Online Ads\",\"Social Media\",\"Email Marketing\",\"Social Media\",\"Online Ads\",\"Social Media\",\"Referral\",\"Email Marketing\",\"Email Marketing\",\"Referral\",\"Referral\",\"Social Media\",\"Online Ads\",\"Social Media\",\"Referral\",\"Referral\",\"Referral\",\"Social Media\",\"Email Marketing\",\"Email Marketing\",\"Email Marketing\",\"Online Ads\",\"Online Ads\",\"Social Media\",\"Online Ads\",\"Social Media\",\"Email Marketing\",\"Social Media\",\"Online Ads\",\"Social Media\",\"Online Ads\"],\"xaxis\":\"x\",\"y\":[0.4585804618323859,2.97870010726991,1.7080208101711902,0.9823279411821808,1.1728531214124038,0.9801180005515386,1.7500671438448065,0.7727992165740801,1.415323838128053,1.5498235752505518,0.8122855979272771,0.9968001762937526,1.236118747542764,1.9074074014289204,0.2744484071267834,0.30039070613278407,1.5429900979054187,1.8830619563834514,1.670482251990852,1.4567674836658495,0.4600339216098953,0.5833718905982171,1.2497999025226132,0.5575849224546858,1.3030151751001589,0.5725761682402176,0.5001618303962115,1.724672474515137,1.7567866320433156,2.9822381935260314,0.6645030891315677,0.734127475035638,0.5835598903754097,0.9616113202258784,1.1585472169197304,0.6391987565427537,1.2566147501296228,0.49577281126945255,0.27557163147492864,1.234456575336569,0.2337975548947345,0.6585875682374209,1.7453286295961354,4.262212387058198,1.334621107710521,0.29654478305963977,0.43454047583093397,1.0051736418534856,0.3367824327436958,1.3803830120417355,0.9568213975407812,1.2254309702661619,1.207724988292905,0.34230468769760547,0.9088486273242451,1.117106097151089,2.2233896735793977,0.8509987493244319,1.137865369552446,0.6697881413949299,1.4003991601527097,1.6919904562698995,0.7936919588862548,2.0719475766605404,0.2728325297811601,1.0024890468650256,2.039158190177026,0.8052609940841986,0.31052916100928424,0.3012865461141381,1.0445951852358188,1.2764644915262422,0.9402362424647317,0.329089794143524,1.9708415572606581,0.8977515604965544,0.4440649978406455,0.5112491835551166,1.0939730221202084,1.2232089035969143,0.9162887508397024,0.31768704659374175,0.41638482854127373,2.0049729385041246,1.0825081681356346,2.531064056994667,1.6440269772993996,1.3076351766045846,1.1923891154865478,3.049874441338165,1.0899649471082615,2.4893487300489037,1.514758562584444,0.9304923575288625,1.7786395256864345,1.0616462784783112,0.9724724583204277,0.7600681827244729,1.6336658826813566,0.9390160588167303,1.7132830527323955,0.9535348506954174,1.2862557468427536,0.5951408809339247,0.9568265615240238,0.8650491032276926,1.316106804478805,0.8389801747901077,2.623498644000473,0.8481828945242329,0.7963582809376004,1.6630528075786168,0.9019240724602072,0.8987080175149964,1.0564436304017752,0.7031788586029589,1.0040811513844738,0.6026261097399457,0.3935541323213181,0.7198851496713041,0.7479003800716367,2.495576188189052,0.9037826373832168,2.2324162239082623,0.572618188162194,1.1114518361568586,0.746869166214988,2.51937971264628,1.532282981190306,1.1543374859435038,0.6318241992275692,0.548644167284546,1.6885594551544754,2.2822836346124316,2.082781780392205,0.6806522718614647,1.6300239468978812,4.542901447642595,0.924585584707232,1.5258110193959116,0.3267186605434321,1.4314895924828708,1.1082760437558585,1.528119418571546,0.4246906384972514,1.3497486260456966,0.5344165434134667,0.48539906292907364,1.112042531786503,1.629327788651783,1.8993301149221482,1.4101952001193223,0.5667203681076155,1.580258178624001,0.5596411195290657,1.4215297688909176,3.471341848620018,1.3929228266354625,4.034793765155021,2.8181533249589186,0.3383201322700698,2.1667082993801356,0.5426402169696873,0.7463667635155041,0.5175251537370684,0.7882588885330385,0.696619157441029,1.6292221075846416,1.0355014754247758,0.3568805678262496,0.7578808740514983,0.42786368445543943,0.9273959751362183,1.5754971642398732,0.4018243647847746,0.5525627257393811,1.2625123744653073,0.22962779749306916,0.8191566339555925,2.331759762691271,0.6315709900766339,2.0881591644557536,2.123575340037954,2.999401329635646,3.067172390036133,0.7137720995678009,0.9777068670949576,1.3394689286495358,1.5577092827677832,1.2017273567844495,1.2591979714828465,0.5326467529701793,0.34670922589121606,0.4046303186536391,0.48177538779283335,1.3999071946896713,0.3566791574415862,0.31681168601255083,0.9997941666661405,1.1956267065421178,1.0304859826431305,0.8848324179081978,1.1145878411972021,2.955727831149655,2.1638631575977,1.210519549138352,0.5755999351090905,1.2817272518256988,0.789067295050409,2.1370166486436353,0.9854284522060311,0.44749386772657895,0.5869153556402792,1.565680961701217,1.3780674752151783,3.253219874604734,2.5012007127557716,0.439864210647431,1.0483616509433158,1.7487132883266425,3.5156914002422033,0.2681714850304975,0.2302113513338715,0.6968015277471078,0.6037710568482353,0.4601574044318807,0.48792040051408353,1.2511765246753803,2.411866328769724,0.745327667252209,0.5898674731306581,0.2773126660674931,0.8790188833944155,2.14373873816501,0.6284944100065529,0.508598295275319,1.1459760432887076,3.223514955092784,1.0034098269174654,1.8000769599808983,1.2226486573512816,0.7221956300159678,0.6036526189564727,0.9272273076204962,0.5573951708499834,0.7739332328871572,0.25856410511243044,1.218602840040765,0.4965765243992638,1.328569008884738,2.0060223012645277,0.7580819360191141,1.7579392361312378,1.1443948323505169,1.0095958329992802,0.9915602943598648,0.8831764538391333,0.6407863650187301,1.9996227390870578,0.4495084639359674,0.7451985708063017,0.5711617624183795,1.2128826521261518,2.149668813306897,1.0322569161891126,0.3184246188483693,1.3442499116412987,0.4218296733091522,1.6827035795163,0.7562460924844878,1.3680740034097152,1.7882782302559135,2.6323640568419306,0.46825890936997,1.090680539947041,2.112414228094391,0.6238643960438826,0.5159382445157189,1.08932784303842,1.3606695507567468,0.3234322486007242,1.4030389736110036,1.2931881842196513,0.5600417350494478,2.053780794055106,0.9679882188290465,0.44706555543845006,1.6203158241794413,0.9984211506067443,0.7497008931204284,0.5333364508938148,0.5275368348437259,0.4206047613215115,0.5834688371636195,1.045135799341876,0.5048046916306006,1.8046675283417812,0.40109828523638313,0.4619012768845348,0.49040237107191764,2.345924452258986,1.8685426478023386,1.1649612317480398,0.9208085927955609,1.5886099309114037,2.3833690910307257,1.4583164137119364,2.1004028109573314,1.527588719140926,0.9452628971522407,1.7721833698159268,1.311699387356935,1.0828620303264662,1.0026401863121936,0.42589560022907746,2.067985237795488,0.9263372023997818,4.2568074143457535,0.7288591989889592,0.7066376656381667,1.107019167787864,0.510943021956401,0.8755716105792021,0.9806233022186887,0.2843637000516652,0.9727252539844196,3.396980420359096,1.2628089534644793,0.357066160475233,0.2902562374249017,0.7338614695878415,1.0140427394279754,0.45105935921809104,0.5304641498060402,1.2597128649171367,1.8182407188602117,1.160501404406322,2.1020809131555787,1.355125416045136,0.9637438492916903,1.9114408746494018,0.31823330495014157,1.0557471706414052,1.0437794764313155,0.49893801652526837,0.6760763366826398,1.9047334924188146,1.7647230502014104,1.0839074147533858,0.4705757366466702,0.2895624710656139,3.3228506159667637,1.256199552135135,0.8795214327188587,0.32025850274847584,0.8417333491929163,0.526703164873173,0.4386147848483924,1.7936930094946413,1.0749672803277033,0.8462654326801586,1.5497091519189103,1.1387697837353814,1.062055180141006,1.6892407299942496,0.7886107665663984,1.518308660344304,1.1202848395449012,2.1487990469472855,1.1521234071290438,0.9498386391812154,1.1510576349550568,0.7738396499986205,3.799757628635643,0.6914459490341076,0.40243282437645544,1.578958760976913,0.3439886642731466,2.8617382081688896,1.1952472805486936,1.3889513381981842,1.2862965473720436,4.626105945882395,0.45039361117174026,0.6732050521070387,0.4042643373222028,2.8800740447017406,0.6866843256702307,1.3432608719619883,0.8655975310084882,0.9843198385636638,0.6673498960685881,2.399528615445971,0.34237072596190904,1.6139193339481273,1.7725097940310384,1.159288945585326,1.5907038791496069,0.547496746577197,1.3033274140047502,0.3017642238261477,1.6965293931274412,0.8550875167307092,0.9083604012233657,0.5243284789920075,1.0111173678785754,0.7747386118813285,0.5278138595202452,1.922792357679217,0.9049440963670915,1.3726564148626894,0.4765389929236516,1.1189976585294055,0.42903719154777137,0.5542170092319662,0.581085543528217,0.7895171272368006,0.45929964263531214,1.1317527743604414,1.1329362972909234,1.182382123184635,0.27564988395992773,0.8824385691771366,1.0620739257852276,0.502041294945906,2.1469482910253816,1.2304161355667202,0.5725831709320411,0.5089784988333586,1.5435121556307199,2.247250986178818,0.5012627485649983,2.2319327196058807,0.7850119289595657,1.1400952039765313,0.6754048603360621,0.8004073766674532,0.8165110747571542,1.1337631123780525,1.3807520824488617,0.8839759983883844,0.8198425622215924,1.0411850261141862,0.6271578301385659,1.2314951843323156,2.7384527785278614,0.45346116037881246,2.1112864729698586,0.9453348146219219,0.8557474635679707,1.0008040181560969,0.5691324158577792,0.6982840096743915,0.9956498219502442,1.7457673886555534,0.8648175207842907,1.8945231431587903,0.6992364137638368,1.7026444236677132,0.4876312961748088,0.704728666309478,0.3894267210364713,0.9324728339015663,0.693107300568584,3.1394230133819914,0.8267505009003776,3.908740548826474,0.3747019427175987,0.8626985843523295,0.3218177201988819,1.0607441500416566,2.155055157598434,0.8846629099253662,0.9056505047990511,0.8602108873178412,1.4051432830035533,0.9620885479824254,0.5015625626233452,1.7136736848072587,1.077260273300309,0.792068944824801,0.7913762439671814,0.8427023495972032,1.2435269856848388,1.1407014885150712,0.8306984906970667,0.5225865739328952,1.2703123820146711,0.3779217071377486,2.0394395350307417,0.902412336639953,0.7879167726323885,1.0144086087667763,0.607795691751067,0.6450154937958441,1.6801295931123346,0.7251865823171059,0.4326612604648057,0.5830635838972962,0.9046088245815981],\"yaxis\":\"y\",\"type\":\"bar\"}],                        {\"template\":{\"data\":{\"histogram2dcontour\":[{\"type\":\"histogram2dcontour\",\"colorbar\":{\"outlinewidth\":0,\"ticks\":\"\"},\"colorscale\":[[0.0,\"#0d0887\"],[0.1111111111111111,\"#46039f\"],[0.2222222222222222,\"#7201a8\"],[0.3333333333333333,\"#9c179e\"],[0.4444444444444444,\"#bd3786\"],[0.5555555555555556,\"#d8576b\"],[0.6666666666666666,\"#ed7953\"],[0.7777777777777778,\"#fb9f3a\"],[0.8888888888888888,\"#fdca26\"],[1.0,\"#f0f921\"]]}],\"choropleth\":[{\"type\":\"choropleth\",\"colorbar\":{\"outlinewidth\":0,\"ticks\":\"\"}}],\"histogram2d\":[{\"type\":\"histogram2d\",\"colorbar\":{\"outlinewidth\":0,\"ticks\":\"\"},\"colorscale\":[[0.0,\"#0d0887\"],[0.1111111111111111,\"#46039f\"],[0.2222222222222222,\"#7201a8\"],[0.3333333333333333,\"#9c179e\"],[0.4444444444444444,\"#bd3786\"],[0.5555555555555556,\"#d8576b\"],[0.6666666666666666,\"#ed7953\"],[0.7777777777777778,\"#fb9f3a\"],[0.8888888888888888,\"#fdca26\"],[1.0,\"#f0f921\"]]}],\"heatmap\":[{\"type\":\"heatmap\",\"colorbar\":{\"outlinewidth\":0,\"ticks\":\"\"},\"colorscale\":[[0.0,\"#0d0887\"],[0.1111111111111111,\"#46039f\"],[0.2222222222222222,\"#7201a8\"],[0.3333333333333333,\"#9c179e\"],[0.4444444444444444,\"#bd3786\"],[0.5555555555555556,\"#d8576b\"],[0.6666666666666666,\"#ed7953\"],[0.7777777777777778,\"#fb9f3a\"],[0.8888888888888888,\"#fdca26\"],[1.0,\"#f0f921\"]]}],\"heatmapgl\":[{\"type\":\"heatmapgl\",\"colorbar\":{\"outlinewidth\":0,\"ticks\":\"\"},\"colorscale\":[[0.0,\"#0d0887\"],[0.1111111111111111,\"#46039f\"],[0.2222222222222222,\"#7201a8\"],[0.3333333333333333,\"#9c179e\"],[0.4444444444444444,\"#bd3786\"],[0.5555555555555556,\"#d8576b\"],[0.6666666666666666,\"#ed7953\"],[0.7777777777777778,\"#fb9f3a\"],[0.8888888888888888,\"#fdca26\"],[1.0,\"#f0f921\"]]}],\"contourcarpet\":[{\"type\":\"contourcarpet\",\"colorbar\":{\"outlinewidth\":0,\"ticks\":\"\"}}],\"contour\":[{\"type\":\"contour\",\"colorbar\":{\"outlinewidth\":0,\"ticks\":\"\"},\"colorscale\":[[0.0,\"#0d0887\"],[0.1111111111111111,\"#46039f\"],[0.2222222222222222,\"#7201a8\"],[0.3333333333333333,\"#9c179e\"],[0.4444444444444444,\"#bd3786\"],[0.5555555555555556,\"#d8576b\"],[0.6666666666666666,\"#ed7953\"],[0.7777777777777778,\"#fb9f3a\"],[0.8888888888888888,\"#fdca26\"],[1.0,\"#f0f921\"]]}],\"surface\":[{\"type\":\"surface\",\"colorbar\":{\"outlinewidth\":0,\"ticks\":\"\"},\"colorscale\":[[0.0,\"#0d0887\"],[0.1111111111111111,\"#46039f\"],[0.2222222222222222,\"#7201a8\"],[0.3333333333333333,\"#9c179e\"],[0.4444444444444444,\"#bd3786\"],[0.5555555555555556,\"#d8576b\"],[0.6666666666666666,\"#ed7953\"],[0.7777777777777778,\"#fb9f3a\"],[0.8888888888888888,\"#fdca26\"],[1.0,\"#f0f921\"]]}],\"mesh3d\":[{\"type\":\"mesh3d\",\"colorbar\":{\"outlinewidth\":0,\"ticks\":\"\"}}],\"scatter\":[{\"fillpattern\":{\"fillmode\":\"overlay\",\"size\":10,\"solidity\":0.2},\"type\":\"scatter\"}],\"parcoords\":[{\"type\":\"parcoords\",\"line\":{\"colorbar\":{\"outlinewidth\":0,\"ticks\":\"\"}}}],\"scatterpolargl\":[{\"type\":\"scatterpolargl\",\"marker\":{\"colorbar\":{\"outlinewidth\":0,\"ticks\":\"\"}}}],\"bar\":[{\"error_x\":{\"color\":\"#2a3f5f\"},\"error_y\":{\"color\":\"#2a3f5f\"},\"marker\":{\"line\":{\"color\":\"white\",\"width\":0.5},\"pattern\":{\"fillmode\":\"overlay\",\"size\":10,\"solidity\":0.2}},\"type\":\"bar\"}],\"scattergeo\":[{\"type\":\"scattergeo\",\"marker\":{\"colorbar\":{\"outlinewidth\":0,\"ticks\":\"\"}}}],\"scatterpolar\":[{\"type\":\"scatterpolar\",\"marker\":{\"colorbar\":{\"outlinewidth\":0,\"ticks\":\"\"}}}],\"histogram\":[{\"marker\":{\"pattern\":{\"fillmode\":\"overlay\",\"size\":10,\"solidity\":0.2}},\"type\":\"histogram\"}],\"scattergl\":[{\"type\":\"scattergl\",\"marker\":{\"colorbar\":{\"outlinewidth\":0,\"ticks\":\"\"}}}],\"scatter3d\":[{\"type\":\"scatter3d\",\"line\":{\"colorbar\":{\"outlinewidth\":0,\"ticks\":\"\"}},\"marker\":{\"colorbar\":{\"outlinewidth\":0,\"ticks\":\"\"}}}],\"scattermapbox\":[{\"type\":\"scattermapbox\",\"marker\":{\"colorbar\":{\"outlinewidth\":0,\"ticks\":\"\"}}}],\"scatterternary\":[{\"type\":\"scatterternary\",\"marker\":{\"colorbar\":{\"outlinewidth\":0,\"ticks\":\"\"}}}],\"scattercarpet\":[{\"type\":\"scattercarpet\",\"marker\":{\"colorbar\":{\"outlinewidth\":0,\"ticks\":\"\"}}}],\"carpet\":[{\"aaxis\":{\"endlinecolor\":\"#2a3f5f\",\"gridcolor\":\"#C8D4E3\",\"linecolor\":\"#C8D4E3\",\"minorgridcolor\":\"#C8D4E3\",\"startlinecolor\":\"#2a3f5f\"},\"baxis\":{\"endlinecolor\":\"#2a3f5f\",\"gridcolor\":\"#C8D4E3\",\"linecolor\":\"#C8D4E3\",\"minorgridcolor\":\"#C8D4E3\",\"startlinecolor\":\"#2a3f5f\"},\"type\":\"carpet\"}],\"table\":[{\"cells\":{\"fill\":{\"color\":\"#EBF0F8\"},\"line\":{\"color\":\"white\"}},\"header\":{\"fill\":{\"color\":\"#C8D4E3\"},\"line\":{\"color\":\"white\"}},\"type\":\"table\"}],\"barpolar\":[{\"marker\":{\"line\":{\"color\":\"white\",\"width\":0.5},\"pattern\":{\"fillmode\":\"overlay\",\"size\":10,\"solidity\":0.2}},\"type\":\"barpolar\"}],\"pie\":[{\"automargin\":true,\"type\":\"pie\"}]},\"layout\":{\"autotypenumbers\":\"strict\",\"colorway\":[\"#636efa\",\"#EF553B\",\"#00cc96\",\"#ab63fa\",\"#FFA15A\",\"#19d3f3\",\"#FF6692\",\"#B6E880\",\"#FF97FF\",\"#FECB52\"],\"font\":{\"color\":\"#2a3f5f\"},\"hovermode\":\"closest\",\"hoverlabel\":{\"align\":\"left\"},\"paper_bgcolor\":\"white\",\"plot_bgcolor\":\"white\",\"polar\":{\"bgcolor\":\"white\",\"angularaxis\":{\"gridcolor\":\"#EBF0F8\",\"linecolor\":\"#EBF0F8\",\"ticks\":\"\"},\"radialaxis\":{\"gridcolor\":\"#EBF0F8\",\"linecolor\":\"#EBF0F8\",\"ticks\":\"\"}},\"ternary\":{\"bgcolor\":\"white\",\"aaxis\":{\"gridcolor\":\"#DFE8F3\",\"linecolor\":\"#A2B1C6\",\"ticks\":\"\"},\"baxis\":{\"gridcolor\":\"#DFE8F3\",\"linecolor\":\"#A2B1C6\",\"ticks\":\"\"},\"caxis\":{\"gridcolor\":\"#DFE8F3\",\"linecolor\":\"#A2B1C6\",\"ticks\":\"\"}},\"coloraxis\":{\"colorbar\":{\"outlinewidth\":0,\"ticks\":\"\"}},\"colorscale\":{\"sequential\":[[0.0,\"#0d0887\"],[0.1111111111111111,\"#46039f\"],[0.2222222222222222,\"#7201a8\"],[0.3333333333333333,\"#9c179e\"],[0.4444444444444444,\"#bd3786\"],[0.5555555555555556,\"#d8576b\"],[0.6666666666666666,\"#ed7953\"],[0.7777777777777778,\"#fb9f3a\"],[0.8888888888888888,\"#fdca26\"],[1.0,\"#f0f921\"]],\"sequentialminus\":[[0.0,\"#0d0887\"],[0.1111111111111111,\"#46039f\"],[0.2222222222222222,\"#7201a8\"],[0.3333333333333333,\"#9c179e\"],[0.4444444444444444,\"#bd3786\"],[0.5555555555555556,\"#d8576b\"],[0.6666666666666666,\"#ed7953\"],[0.7777777777777778,\"#fb9f3a\"],[0.8888888888888888,\"#fdca26\"],[1.0,\"#f0f921\"]],\"diverging\":[[0,\"#8e0152\"],[0.1,\"#c51b7d\"],[0.2,\"#de77ae\"],[0.3,\"#f1b6da\"],[0.4,\"#fde0ef\"],[0.5,\"#f7f7f7\"],[0.6,\"#e6f5d0\"],[0.7,\"#b8e186\"],[0.8,\"#7fbc41\"],[0.9,\"#4d9221\"],[1,\"#276419\"]]},\"xaxis\":{\"gridcolor\":\"#EBF0F8\",\"linecolor\":\"#EBF0F8\",\"ticks\":\"\",\"title\":{\"standoff\":15},\"zerolinecolor\":\"#EBF0F8\",\"automargin\":true,\"zerolinewidth\":2},\"yaxis\":{\"gridcolor\":\"#EBF0F8\",\"linecolor\":\"#EBF0F8\",\"ticks\":\"\",\"title\":{\"standoff\":15},\"zerolinecolor\":\"#EBF0F8\",\"automargin\":true,\"zerolinewidth\":2},\"scene\":{\"xaxis\":{\"backgroundcolor\":\"white\",\"gridcolor\":\"#DFE8F3\",\"linecolor\":\"#EBF0F8\",\"showbackground\":true,\"ticks\":\"\",\"zerolinecolor\":\"#EBF0F8\",\"gridwidth\":2},\"yaxis\":{\"backgroundcolor\":\"white\",\"gridcolor\":\"#DFE8F3\",\"linecolor\":\"#EBF0F8\",\"showbackground\":true,\"ticks\":\"\",\"zerolinecolor\":\"#EBF0F8\",\"gridwidth\":2},\"zaxis\":{\"backgroundcolor\":\"white\",\"gridcolor\":\"#DFE8F3\",\"linecolor\":\"#EBF0F8\",\"showbackground\":true,\"ticks\":\"\",\"zerolinecolor\":\"#EBF0F8\",\"gridwidth\":2}},\"shapedefaults\":{\"line\":{\"color\":\"#2a3f5f\"}},\"annotationdefaults\":{\"arrowcolor\":\"#2a3f5f\",\"arrowhead\":0,\"arrowwidth\":1},\"geo\":{\"bgcolor\":\"white\",\"landcolor\":\"white\",\"subunitcolor\":\"#C8D4E3\",\"showland\":true,\"showlakes\":true,\"lakecolor\":\"white\"},\"title\":{\"x\":0.05},\"mapbox\":{\"style\":\"light\"}}},\"xaxis\":{\"anchor\":\"y\",\"domain\":[0.0,1.0],\"title\":{\"text\":\"Marketing_Channel\"}},\"yaxis\":{\"anchor\":\"x\",\"domain\":[0.0,1.0],\"title\":{\"text\":\"Conversion_Rate\"}},\"legend\":{\"tracegroupgap\":0},\"title\":{\"text\":\"Conversion Rates by Marketing Channel\"},\"barmode\":\"relative\"},                        {\"responsive\": true}                    ).then(function(){\n",
       "                            \n",
       "var gd = document.getElementById('ea50bbf3-d0d6-4a1a-92a3-d8c3ffac524b');\n",
       "var x = new MutationObserver(function (mutations, observer) {{\n",
       "        var display = window.getComputedStyle(gd).display;\n",
       "        if (!display || display === 'none') {{\n",
       "            console.log([gd, 'removed!']);\n",
       "            Plotly.purge(gd);\n",
       "            observer.disconnect();\n",
       "        }}\n",
       "}});\n",
       "\n",
       "// Listen for the removal of the full notebook cells\n",
       "var notebookContainer = gd.closest('#notebook-container');\n",
       "if (notebookContainer) {{\n",
       "    x.observe(notebookContainer, {childList: true});\n",
       "}}\n",
       "\n",
       "// Listen for the clearing of the current output cell\n",
       "var outputEl = gd.closest('.output');\n",
       "if (outputEl) {{\n",
       "    x.observe(outputEl, {childList: true});\n",
       "}}\n",
       "\n",
       "                        })                };                });            </script>        </div>"
      ]
     },
     "metadata": {},
     "output_type": "display_data"
    }
   ],
   "source": [
    "# Conversion Rates by Marketing Channel\n",
    "fig = px.bar(data, x='Marketing_Channel', \n",
    "             y='Conversion_Rate', \n",
    "             title='Conversion Rates by Marketing Channel')\n",
    "fig.show()"
   ]
  },
  {
   "cell_type": "code",
   "execution_count": 14,
   "id": "dd2cf267-5bd3-47da-bb85-06ccdb66150c",
   "metadata": {},
   "outputs": [
    {
     "data": {
      "application/vnd.plotly.v1+json": {
       "config": {
        "plotlyServerURL": "https://plot.ly"
       },
       "data": [
        {
         "alignmentgroup": "True",
         "hovertemplate": "Marketing_Channel=%{x}<br>Break_Even_Customers=%{y}<extra></extra>",
         "legendgroup": "",
         "marker": {
          "color": "#636efa",
          "pattern": {
           "shape": ""
          }
         },
         "name": "",
         "offsetgroup": "",
         "orientation": "v",
         "showlegend": false,
         "textposition": "auto",
         "type": "bar",
         "x": [
          "Email Marketing",
          "Online Ads",
          "Social Media",
          "Online Ads",
          "Email Marketing",
          "Email Marketing",
          "Referral",
          "Online Ads",
          "Social Media",
          "Online Ads",
          "Online Ads",
          "Email Marketing",
          "Online Ads",
          "Online Ads",
          "Email Marketing",
          "Email Marketing",
          "Online Ads",
          "Email Marketing",
          "Referral",
          "Online Ads",
          "Referral",
          "Email Marketing",
          "Social Media",
          "Online Ads",
          "Referral",
          "Social Media",
          "Online Ads",
          "Online Ads",
          "Referral",
          "Email Marketing",
          "Referral",
          "Email Marketing",
          "Email Marketing",
          "Referral",
          "Social Media",
          "Email Marketing",
          "Referral",
          "Email Marketing",
          "Referral",
          "Email Marketing",
          "Email Marketing",
          "Online Ads",
          "Online Ads",
          "Social Media",
          "Online Ads",
          "Online Ads",
          "Online Ads",
          "Social Media",
          "Email Marketing",
          "Social Media",
          "Social Media",
          "Online Ads",
          "Social Media",
          "Referral",
          "Email Marketing",
          "Email Marketing",
          "Online Ads",
          "Email Marketing",
          "Online Ads",
          "Social Media",
          "Referral",
          "Email Marketing",
          "Email Marketing",
          "Email Marketing",
          "Referral",
          "Referral",
          "Online Ads",
          "Online Ads",
          "Social Media",
          "Social Media",
          "Online Ads",
          "Referral",
          "Referral",
          "Social Media",
          "Email Marketing",
          "Social Media",
          "Referral",
          "Social Media",
          "Social Media",
          "Online Ads",
          "Email Marketing",
          "Social Media",
          "Email Marketing",
          "Referral",
          "Social Media",
          "Online Ads",
          "Referral",
          "Email Marketing",
          "Online Ads",
          "Online Ads",
          "Online Ads",
          "Email Marketing",
          "Referral",
          "Social Media",
          "Online Ads",
          "Social Media",
          "Referral",
          "Email Marketing",
          "Referral",
          "Referral",
          "Online Ads",
          "Email Marketing",
          "Email Marketing",
          "Email Marketing",
          "Social Media",
          "Email Marketing",
          "Online Ads",
          "Social Media",
          "Social Media",
          "Referral",
          "Referral",
          "Social Media",
          "Email Marketing",
          "Online Ads",
          "Referral",
          "Referral",
          "Social Media",
          "Email Marketing",
          "Email Marketing",
          "Online Ads",
          "Referral",
          "Email Marketing",
          "Referral",
          "Email Marketing",
          "Online Ads",
          "Social Media",
          "Online Ads",
          "Referral",
          "Referral",
          "Referral",
          "Social Media",
          "Online Ads",
          "Referral",
          "Referral",
          "Online Ads",
          "Social Media",
          "Online Ads",
          "Referral",
          "Referral",
          "Online Ads",
          "Social Media",
          "Email Marketing",
          "Social Media",
          "Referral",
          "Social Media",
          "Online Ads",
          "Email Marketing",
          "Email Marketing",
          "Online Ads",
          "Social Media",
          "Referral",
          "Email Marketing",
          "Social Media",
          "Email Marketing",
          "Online Ads",
          "Online Ads",
          "Social Media",
          "Email Marketing",
          "Online Ads",
          "Online Ads",
          "Online Ads",
          "Email Marketing",
          "Online Ads",
          "Referral",
          "Referral",
          "Online Ads",
          "Online Ads",
          "Email Marketing",
          "Online Ads",
          "Online Ads",
          "Referral",
          "Email Marketing",
          "Social Media",
          "Referral",
          "Referral",
          "Online Ads",
          "Online Ads",
          "Social Media",
          "Social Media",
          "Social Media",
          "Email Marketing",
          "Email Marketing",
          "Referral",
          "Online Ads",
          "Social Media",
          "Social Media",
          "Referral",
          "Online Ads",
          "Online Ads",
          "Social Media",
          "Social Media",
          "Social Media",
          "Online Ads",
          "Referral",
          "Social Media",
          "Referral",
          "Email Marketing",
          "Online Ads",
          "Referral",
          "Referral",
          "Referral",
          "Referral",
          "Referral",
          "Online Ads",
          "Social Media",
          "Online Ads",
          "Social Media",
          "Online Ads",
          "Social Media",
          "Referral",
          "Social Media",
          "Referral",
          "Social Media",
          "Social Media",
          "Referral",
          "Referral",
          "Email Marketing",
          "Email Marketing",
          "Online Ads",
          "Social Media",
          "Referral",
          "Email Marketing",
          "Email Marketing",
          "Email Marketing",
          "Online Ads",
          "Email Marketing",
          "Email Marketing",
          "Referral",
          "Online Ads",
          "Referral",
          "Online Ads",
          "Online Ads",
          "Email Marketing",
          "Email Marketing",
          "Online Ads",
          "Online Ads",
          "Referral",
          "Online Ads",
          "Email Marketing",
          "Email Marketing",
          "Social Media",
          "Email Marketing",
          "Email Marketing",
          "Referral",
          "Online Ads",
          "Email Marketing",
          "Online Ads",
          "Social Media",
          "Email Marketing",
          "Social Media",
          "Social Media",
          "Referral",
          "Online Ads",
          "Social Media",
          "Referral",
          "Referral",
          "Online Ads",
          "Online Ads",
          "Social Media",
          "Referral",
          "Referral",
          "Referral",
          "Social Media",
          "Online Ads",
          "Referral",
          "Email Marketing",
          "Email Marketing",
          "Referral",
          "Email Marketing",
          "Online Ads",
          "Referral",
          "Social Media",
          "Email Marketing",
          "Referral",
          "Online Ads",
          "Online Ads",
          "Online Ads",
          "Email Marketing",
          "Social Media",
          "Email Marketing",
          "Email Marketing",
          "Online Ads",
          "Email Marketing",
          "Social Media",
          "Social Media",
          "Referral",
          "Referral",
          "Online Ads",
          "Social Media",
          "Social Media",
          "Online Ads",
          "Referral",
          "Email Marketing",
          "Social Media",
          "Email Marketing",
          "Email Marketing",
          "Social Media",
          "Online Ads",
          "Online Ads",
          "Referral",
          "Referral",
          "Email Marketing",
          "Referral",
          "Email Marketing",
          "Online Ads",
          "Online Ads",
          "Social Media",
          "Referral",
          "Referral",
          "Referral",
          "Referral",
          "Online Ads",
          "Online Ads",
          "Online Ads",
          "Referral",
          "Referral",
          "Social Media",
          "Email Marketing",
          "Online Ads",
          "Referral",
          "Referral",
          "Referral",
          "Referral",
          "Referral",
          "Online Ads",
          "Email Marketing",
          "Social Media",
          "Referral",
          "Referral",
          "Referral",
          "Referral",
          "Social Media",
          "Referral",
          "Online Ads",
          "Referral",
          "Referral",
          "Online Ads",
          "Referral",
          "Social Media",
          "Social Media",
          "Referral",
          "Online Ads",
          "Online Ads",
          "Online Ads",
          "Social Media",
          "Referral",
          "Referral",
          "Social Media",
          "Email Marketing",
          "Social Media",
          "Referral",
          "Email Marketing",
          "Referral",
          "Online Ads",
          "Referral",
          "Online Ads",
          "Referral",
          "Social Media",
          "Online Ads",
          "Social Media",
          "Email Marketing",
          "Social Media",
          "Email Marketing",
          "Email Marketing",
          "Social Media",
          "Email Marketing",
          "Social Media",
          "Email Marketing",
          "Online Ads",
          "Referral",
          "Email Marketing",
          "Email Marketing",
          "Email Marketing",
          "Email Marketing",
          "Social Media",
          "Online Ads",
          "Email Marketing",
          "Social Media",
          "Social Media",
          "Referral",
          "Email Marketing",
          "Social Media",
          "Social Media",
          "Social Media",
          "Social Media",
          "Social Media",
          "Online Ads",
          "Social Media",
          "Referral",
          "Email Marketing",
          "Referral",
          "Email Marketing",
          "Social Media",
          "Email Marketing",
          "Online Ads",
          "Social Media",
          "Social Media",
          "Email Marketing",
          "Email Marketing",
          "Social Media",
          "Social Media",
          "Online Ads",
          "Social Media",
          "Referral",
          "Referral",
          "Online Ads",
          "Online Ads",
          "Email Marketing",
          "Email Marketing",
          "Social Media",
          "Referral",
          "Referral",
          "Email Marketing",
          "Online Ads",
          "Online Ads",
          "Online Ads",
          "Online Ads",
          "Social Media",
          "Referral",
          "Online Ads",
          "Social Media",
          "Email Marketing",
          "Online Ads",
          "Email Marketing",
          "Social Media",
          "Online Ads",
          "Email Marketing",
          "Online Ads",
          "Referral",
          "Referral",
          "Online Ads",
          "Social Media",
          "Online Ads",
          "Referral",
          "Email Marketing",
          "Online Ads",
          "Online Ads",
          "Referral",
          "Social Media",
          "Referral",
          "Email Marketing",
          "Referral",
          "Email Marketing",
          "Referral",
          "Referral",
          "Email Marketing",
          "Email Marketing",
          "Email Marketing",
          "Referral",
          "Email Marketing",
          "Referral",
          "Email Marketing",
          "Social Media",
          "Social Media",
          "Online Ads",
          "Email Marketing",
          "Referral",
          "Email Marketing",
          "Email Marketing",
          "Social Media",
          "Online Ads",
          "Social Media",
          "Social Media",
          "Social Media",
          "Email Marketing",
          "Online Ads",
          "Online Ads",
          "Email Marketing",
          "Email Marketing",
          "Online Ads",
          "Social Media",
          "Email Marketing",
          "Social Media",
          "Online Ads",
          "Social Media",
          "Referral",
          "Email Marketing",
          "Email Marketing",
          "Referral",
          "Referral",
          "Social Media",
          "Online Ads",
          "Social Media",
          "Referral",
          "Referral",
          "Referral",
          "Social Media",
          "Email Marketing",
          "Email Marketing",
          "Email Marketing",
          "Online Ads",
          "Online Ads",
          "Social Media",
          "Online Ads",
          "Social Media",
          "Email Marketing",
          "Social Media",
          "Online Ads",
          "Social Media",
          "Online Ads"
         ],
         "xaxis": "x",
         "y": [
          16,
          33,
          44,
          32,
          13,
          35,
          27,
          22,
          17,
          38.99999999999999,
          15,
          23,
          50,
          48,
          11,
          13,
          31,
          25,
          18,
          46.00000000000001,
          23,
          14.000000000000002,
          45,
          23,
          46.99999999999999,
          23,
          24,
          31,
          19,
          48,
          10,
          27,
          19,
          18,
          44,
          25.999999999999996,
          21,
          17,
          11,
          18,
          10,
          32,
          25,
          47,
          30,
          11,
          21,
          26,
          13,
          18,
          36,
          43,
          17,
          14,
          40,
          38,
          33,
          42,
          47,
          16,
          38,
          42,
          24,
          49,
          12,
          43,
          29,
          39,
          11,
          13,
          40,
          35,
          37,
          16,
          41,
          38,
          14,
          15,
          30,
          48,
          19,
          14,
          18,
          27,
          49,
          50,
          47,
          45,
          30,
          34,
          48,
          43,
          28,
          39,
          42,
          48,
          37,
          16,
          17,
          45,
          23,
          37,
          38,
          24,
          36,
          31,
          39,
          35,
          36,
          16,
          30,
          37,
          30,
          26,
          33,
          19,
          40,
          14,
          15,
          15,
          15.000000000000002,
          37,
          16,
          33,
          18,
          45,
          13.000000000000002,
          47,
          45,
          45,
          31,
          17,
          36,
          32,
          37,
          13,
          28,
          48,
          29,
          32,
          16,
          46,
          42,
          23,
          19,
          40,
          24,
          16,
          32,
          45,
          33,
          17,
          27.000000000000004,
          46,
          24,
          37,
          45,
          49,
          49,
          45,
          11,
          48,
          26.999999999999996,
          11,
          21,
          27,
          28.999999999999996,
          31,
          32,
          10,
          21,
          19,
          46,
          35,
          14,
          19,
          50.00000000000001,
          11,
          15,
          43,
          23,
          34,
          36,
          39,
          31,
          20,
          33,
          29,
          30,
          46,
          48,
          15,
          13,
          19,
          20,
          49,
          13,
          15,
          27,
          38,
          37,
          41,
          48,
          38,
          36,
          27.000000000000004,
          23,
          42,
          17,
          32,
          37,
          17,
          28.000000000000004,
          47,
          41,
          43,
          29.000000000000004,
          12,
          24,
          35,
          48,
          13,
          10,
          23,
          29,
          23,
          18,
          26,
          28,
          30.000000000000004,
          17,
          10,
          41,
          37,
          21,
          18,
          34,
          44,
          24,
          42,
          45,
          32,
          14,
          35,
          12,
          36.99999999999999,
          11,
          39,
          14,
          30.000000000000004,
          46,
          37,
          46,
          35,
          50,
          36,
          28,
          17,
          35,
          11,
          29.999999999999996,
          20,
          49,
          39,
          33,
          14.999999999999998,
          37,
          16,
          25,
          37,
          47,
          35,
          43,
          15,
          35,
          29,
          31,
          24,
          31,
          20,
          14,
          42,
          50,
          17,
          43,
          42,
          22,
          32,
          32,
          19,
          25,
          16,
          19,
          26,
          22,
          21,
          48,
          19,
          14,
          21,
          50,
          41,
          39,
          46,
          47,
          38,
          46,
          49.99999999999999,
          49,
          30,
          50,
          30.000000000000004,
          19,
          38,
          14,
          40,
          38,
          50,
          29.000000000000004,
          27,
          47,
          13,
          32,
          42,
          13.999999999999998,
          29.000000000000004,
          39,
          38,
          12,
          13,
          33,
          28,
          14,
          15,
          49,
          48,
          42,
          34,
          39,
          47,
          45,
          12,
          38,
          46,
          22,
          30,
          48,
          40,
          42,
          19,
          13,
          38,
          16,
          30.999999999999996,
          15,
          42,
          21,
          12,
          25,
          38,
          38,
          43,
          43,
          49,
          20,
          33,
          33,
          27.999999999999996,
          34,
          36,
          31,
          48,
          13,
          50,
          30.999999999999996,
          14,
          31,
          16,
          45,
          34,
          27.999999999999996,
          26,
          48,
          19,
          31.000000000000004,
          15,
          47,
          19,
          32,
          29,
          35,
          18,
          48,
          15,
          29,
          45,
          34,
          31,
          18,
          43,
          15,
          37,
          42,
          33,
          11,
          33,
          29.000000000000004,
          21,
          23,
          31,
          41,
          22,
          24,
          18,
          19,
          14,
          28,
          16,
          42,
          44,
          43,
          12,
          31,
          49,
          18,
          48,
          34,
          19,
          20,
          20.999999999999996,
          49,
          20,
          38,
          12,
          36,
          33,
          25,
          38,
          49,
          28,
          38,
          24,
          44,
          25.000000000000004,
          28.999999999999996,
          40,
          22,
          33,
          46,
          38,
          39,
          28,
          34,
          42,
          43,
          36,
          20,
          21.999999999999996,
          48,
          18,
          26,
          13,
          40,
          33,
          45,
          16,
          43,
          17,
          28,
          14.999999999999998,
          20,
          26.999999999999996,
          38,
          42,
          19,
          37,
          15,
          24,
          38,
          32,
          11,
          36,
          13,
          35,
          42,
          33,
          25,
          34,
          14.999999999999998,
          33,
          24,
          11,
          30,
          16,
          31,
          19,
          18,
          12,
          28,
          40
         ],
         "yaxis": "y"
        }
       ],
       "layout": {
        "autosize": true,
        "barmode": "relative",
        "legend": {
         "tracegroupgap": 0
        },
        "template": {
         "data": {
          "bar": [
           {
            "error_x": {
             "color": "#2a3f5f"
            },
            "error_y": {
             "color": "#2a3f5f"
            },
            "marker": {
             "line": {
              "color": "white",
              "width": 0.5
             },
             "pattern": {
              "fillmode": "overlay",
              "size": 10,
              "solidity": 0.2
             }
            },
            "type": "bar"
           }
          ],
          "barpolar": [
           {
            "marker": {
             "line": {
              "color": "white",
              "width": 0.5
             },
             "pattern": {
              "fillmode": "overlay",
              "size": 10,
              "solidity": 0.2
             }
            },
            "type": "barpolar"
           }
          ],
          "carpet": [
           {
            "aaxis": {
             "endlinecolor": "#2a3f5f",
             "gridcolor": "#C8D4E3",
             "linecolor": "#C8D4E3",
             "minorgridcolor": "#C8D4E3",
             "startlinecolor": "#2a3f5f"
            },
            "baxis": {
             "endlinecolor": "#2a3f5f",
             "gridcolor": "#C8D4E3",
             "linecolor": "#C8D4E3",
             "minorgridcolor": "#C8D4E3",
             "startlinecolor": "#2a3f5f"
            },
            "type": "carpet"
           }
          ],
          "choropleth": [
           {
            "colorbar": {
             "outlinewidth": 0,
             "ticks": ""
            },
            "type": "choropleth"
           }
          ],
          "contour": [
           {
            "colorbar": {
             "outlinewidth": 0,
             "ticks": ""
            },
            "colorscale": [
             [
              0,
              "#0d0887"
             ],
             [
              0.1111111111111111,
              "#46039f"
             ],
             [
              0.2222222222222222,
              "#7201a8"
             ],
             [
              0.3333333333333333,
              "#9c179e"
             ],
             [
              0.4444444444444444,
              "#bd3786"
             ],
             [
              0.5555555555555556,
              "#d8576b"
             ],
             [
              0.6666666666666666,
              "#ed7953"
             ],
             [
              0.7777777777777778,
              "#fb9f3a"
             ],
             [
              0.8888888888888888,
              "#fdca26"
             ],
             [
              1,
              "#f0f921"
             ]
            ],
            "type": "contour"
           }
          ],
          "contourcarpet": [
           {
            "colorbar": {
             "outlinewidth": 0,
             "ticks": ""
            },
            "type": "contourcarpet"
           }
          ],
          "heatmap": [
           {
            "colorbar": {
             "outlinewidth": 0,
             "ticks": ""
            },
            "colorscale": [
             [
              0,
              "#0d0887"
             ],
             [
              0.1111111111111111,
              "#46039f"
             ],
             [
              0.2222222222222222,
              "#7201a8"
             ],
             [
              0.3333333333333333,
              "#9c179e"
             ],
             [
              0.4444444444444444,
              "#bd3786"
             ],
             [
              0.5555555555555556,
              "#d8576b"
             ],
             [
              0.6666666666666666,
              "#ed7953"
             ],
             [
              0.7777777777777778,
              "#fb9f3a"
             ],
             [
              0.8888888888888888,
              "#fdca26"
             ],
             [
              1,
              "#f0f921"
             ]
            ],
            "type": "heatmap"
           }
          ],
          "heatmapgl": [
           {
            "colorbar": {
             "outlinewidth": 0,
             "ticks": ""
            },
            "colorscale": [
             [
              0,
              "#0d0887"
             ],
             [
              0.1111111111111111,
              "#46039f"
             ],
             [
              0.2222222222222222,
              "#7201a8"
             ],
             [
              0.3333333333333333,
              "#9c179e"
             ],
             [
              0.4444444444444444,
              "#bd3786"
             ],
             [
              0.5555555555555556,
              "#d8576b"
             ],
             [
              0.6666666666666666,
              "#ed7953"
             ],
             [
              0.7777777777777778,
              "#fb9f3a"
             ],
             [
              0.8888888888888888,
              "#fdca26"
             ],
             [
              1,
              "#f0f921"
             ]
            ],
            "type": "heatmapgl"
           }
          ],
          "histogram": [
           {
            "marker": {
             "pattern": {
              "fillmode": "overlay",
              "size": 10,
              "solidity": 0.2
             }
            },
            "type": "histogram"
           }
          ],
          "histogram2d": [
           {
            "colorbar": {
             "outlinewidth": 0,
             "ticks": ""
            },
            "colorscale": [
             [
              0,
              "#0d0887"
             ],
             [
              0.1111111111111111,
              "#46039f"
             ],
             [
              0.2222222222222222,
              "#7201a8"
             ],
             [
              0.3333333333333333,
              "#9c179e"
             ],
             [
              0.4444444444444444,
              "#bd3786"
             ],
             [
              0.5555555555555556,
              "#d8576b"
             ],
             [
              0.6666666666666666,
              "#ed7953"
             ],
             [
              0.7777777777777778,
              "#fb9f3a"
             ],
             [
              0.8888888888888888,
              "#fdca26"
             ],
             [
              1,
              "#f0f921"
             ]
            ],
            "type": "histogram2d"
           }
          ],
          "histogram2dcontour": [
           {
            "colorbar": {
             "outlinewidth": 0,
             "ticks": ""
            },
            "colorscale": [
             [
              0,
              "#0d0887"
             ],
             [
              0.1111111111111111,
              "#46039f"
             ],
             [
              0.2222222222222222,
              "#7201a8"
             ],
             [
              0.3333333333333333,
              "#9c179e"
             ],
             [
              0.4444444444444444,
              "#bd3786"
             ],
             [
              0.5555555555555556,
              "#d8576b"
             ],
             [
              0.6666666666666666,
              "#ed7953"
             ],
             [
              0.7777777777777778,
              "#fb9f3a"
             ],
             [
              0.8888888888888888,
              "#fdca26"
             ],
             [
              1,
              "#f0f921"
             ]
            ],
            "type": "histogram2dcontour"
           }
          ],
          "mesh3d": [
           {
            "colorbar": {
             "outlinewidth": 0,
             "ticks": ""
            },
            "type": "mesh3d"
           }
          ],
          "parcoords": [
           {
            "line": {
             "colorbar": {
              "outlinewidth": 0,
              "ticks": ""
             }
            },
            "type": "parcoords"
           }
          ],
          "pie": [
           {
            "automargin": true,
            "type": "pie"
           }
          ],
          "scatter": [
           {
            "fillpattern": {
             "fillmode": "overlay",
             "size": 10,
             "solidity": 0.2
            },
            "type": "scatter"
           }
          ],
          "scatter3d": [
           {
            "line": {
             "colorbar": {
              "outlinewidth": 0,
              "ticks": ""
             }
            },
            "marker": {
             "colorbar": {
              "outlinewidth": 0,
              "ticks": ""
             }
            },
            "type": "scatter3d"
           }
          ],
          "scattercarpet": [
           {
            "marker": {
             "colorbar": {
              "outlinewidth": 0,
              "ticks": ""
             }
            },
            "type": "scattercarpet"
           }
          ],
          "scattergeo": [
           {
            "marker": {
             "colorbar": {
              "outlinewidth": 0,
              "ticks": ""
             }
            },
            "type": "scattergeo"
           }
          ],
          "scattergl": [
           {
            "marker": {
             "colorbar": {
              "outlinewidth": 0,
              "ticks": ""
             }
            },
            "type": "scattergl"
           }
          ],
          "scattermapbox": [
           {
            "marker": {
             "colorbar": {
              "outlinewidth": 0,
              "ticks": ""
             }
            },
            "type": "scattermapbox"
           }
          ],
          "scatterpolar": [
           {
            "marker": {
             "colorbar": {
              "outlinewidth": 0,
              "ticks": ""
             }
            },
            "type": "scatterpolar"
           }
          ],
          "scatterpolargl": [
           {
            "marker": {
             "colorbar": {
              "outlinewidth": 0,
              "ticks": ""
             }
            },
            "type": "scatterpolargl"
           }
          ],
          "scatterternary": [
           {
            "marker": {
             "colorbar": {
              "outlinewidth": 0,
              "ticks": ""
             }
            },
            "type": "scatterternary"
           }
          ],
          "surface": [
           {
            "colorbar": {
             "outlinewidth": 0,
             "ticks": ""
            },
            "colorscale": [
             [
              0,
              "#0d0887"
             ],
             [
              0.1111111111111111,
              "#46039f"
             ],
             [
              0.2222222222222222,
              "#7201a8"
             ],
             [
              0.3333333333333333,
              "#9c179e"
             ],
             [
              0.4444444444444444,
              "#bd3786"
             ],
             [
              0.5555555555555556,
              "#d8576b"
             ],
             [
              0.6666666666666666,
              "#ed7953"
             ],
             [
              0.7777777777777778,
              "#fb9f3a"
             ],
             [
              0.8888888888888888,
              "#fdca26"
             ],
             [
              1,
              "#f0f921"
             ]
            ],
            "type": "surface"
           }
          ],
          "table": [
           {
            "cells": {
             "fill": {
              "color": "#EBF0F8"
             },
             "line": {
              "color": "white"
             }
            },
            "header": {
             "fill": {
              "color": "#C8D4E3"
             },
             "line": {
              "color": "white"
             }
            },
            "type": "table"
           }
          ]
         },
         "layout": {
          "annotationdefaults": {
           "arrowcolor": "#2a3f5f",
           "arrowhead": 0,
           "arrowwidth": 1
          },
          "autotypenumbers": "strict",
          "coloraxis": {
           "colorbar": {
            "outlinewidth": 0,
            "ticks": ""
           }
          },
          "colorscale": {
           "diverging": [
            [
             0,
             "#8e0152"
            ],
            [
             0.1,
             "#c51b7d"
            ],
            [
             0.2,
             "#de77ae"
            ],
            [
             0.3,
             "#f1b6da"
            ],
            [
             0.4,
             "#fde0ef"
            ],
            [
             0.5,
             "#f7f7f7"
            ],
            [
             0.6,
             "#e6f5d0"
            ],
            [
             0.7,
             "#b8e186"
            ],
            [
             0.8,
             "#7fbc41"
            ],
            [
             0.9,
             "#4d9221"
            ],
            [
             1,
             "#276419"
            ]
           ],
           "sequential": [
            [
             0,
             "#0d0887"
            ],
            [
             0.1111111111111111,
             "#46039f"
            ],
            [
             0.2222222222222222,
             "#7201a8"
            ],
            [
             0.3333333333333333,
             "#9c179e"
            ],
            [
             0.4444444444444444,
             "#bd3786"
            ],
            [
             0.5555555555555556,
             "#d8576b"
            ],
            [
             0.6666666666666666,
             "#ed7953"
            ],
            [
             0.7777777777777778,
             "#fb9f3a"
            ],
            [
             0.8888888888888888,
             "#fdca26"
            ],
            [
             1,
             "#f0f921"
            ]
           ],
           "sequentialminus": [
            [
             0,
             "#0d0887"
            ],
            [
             0.1111111111111111,
             "#46039f"
            ],
            [
             0.2222222222222222,
             "#7201a8"
            ],
            [
             0.3333333333333333,
             "#9c179e"
            ],
            [
             0.4444444444444444,
             "#bd3786"
            ],
            [
             0.5555555555555556,
             "#d8576b"
            ],
            [
             0.6666666666666666,
             "#ed7953"
            ],
            [
             0.7777777777777778,
             "#fb9f3a"
            ],
            [
             0.8888888888888888,
             "#fdca26"
            ],
            [
             1,
             "#f0f921"
            ]
           ]
          },
          "colorway": [
           "#636efa",
           "#EF553B",
           "#00cc96",
           "#ab63fa",
           "#FFA15A",
           "#19d3f3",
           "#FF6692",
           "#B6E880",
           "#FF97FF",
           "#FECB52"
          ],
          "font": {
           "color": "#2a3f5f"
          },
          "geo": {
           "bgcolor": "white",
           "lakecolor": "white",
           "landcolor": "white",
           "showlakes": true,
           "showland": true,
           "subunitcolor": "#C8D4E3"
          },
          "hoverlabel": {
           "align": "left"
          },
          "hovermode": "closest",
          "mapbox": {
           "style": "light"
          },
          "paper_bgcolor": "white",
          "plot_bgcolor": "white",
          "polar": {
           "angularaxis": {
            "gridcolor": "#EBF0F8",
            "linecolor": "#EBF0F8",
            "ticks": ""
           },
           "bgcolor": "white",
           "radialaxis": {
            "gridcolor": "#EBF0F8",
            "linecolor": "#EBF0F8",
            "ticks": ""
           }
          },
          "scene": {
           "xaxis": {
            "backgroundcolor": "white",
            "gridcolor": "#DFE8F3",
            "gridwidth": 2,
            "linecolor": "#EBF0F8",
            "showbackground": true,
            "ticks": "",
            "zerolinecolor": "#EBF0F8"
           },
           "yaxis": {
            "backgroundcolor": "white",
            "gridcolor": "#DFE8F3",
            "gridwidth": 2,
            "linecolor": "#EBF0F8",
            "showbackground": true,
            "ticks": "",
            "zerolinecolor": "#EBF0F8"
           },
           "zaxis": {
            "backgroundcolor": "white",
            "gridcolor": "#DFE8F3",
            "gridwidth": 2,
            "linecolor": "#EBF0F8",
            "showbackground": true,
            "ticks": "",
            "zerolinecolor": "#EBF0F8"
           }
          },
          "shapedefaults": {
           "line": {
            "color": "#2a3f5f"
           }
          },
          "ternary": {
           "aaxis": {
            "gridcolor": "#DFE8F3",
            "linecolor": "#A2B1C6",
            "ticks": ""
           },
           "baxis": {
            "gridcolor": "#DFE8F3",
            "linecolor": "#A2B1C6",
            "ticks": ""
           },
           "bgcolor": "white",
           "caxis": {
            "gridcolor": "#DFE8F3",
            "linecolor": "#A2B1C6",
            "ticks": ""
           }
          },
          "title": {
           "x": 0.05
          },
          "xaxis": {
           "automargin": true,
           "gridcolor": "#EBF0F8",
           "linecolor": "#EBF0F8",
           "ticks": "",
           "title": {
            "standoff": 15
           },
           "zerolinecolor": "#EBF0F8",
           "zerolinewidth": 2
          },
          "yaxis": {
           "automargin": true,
           "gridcolor": "#EBF0F8",
           "linecolor": "#EBF0F8",
           "ticks": "",
           "title": {
            "standoff": 15
           },
           "zerolinecolor": "#EBF0F8",
           "zerolinewidth": 2
          }
         }
        },
        "title": {
         "text": "Break-Even Customers by Marketing Channel"
        },
        "xaxis": {
         "anchor": "y",
         "autorange": true,
         "domain": [
          0,
          1
         ],
         "range": [
          -0.5,
          3.5
         ],
         "title": {
          "text": "Marketing_Channel"
         },
         "type": "category"
        },
        "yaxis": {
         "anchor": "x",
         "autorange": true,
         "domain": [
          0,
          1
         ],
         "range": [
          0,
          4109.473684210527
         ],
         "title": {
          "text": "Break_Even_Customers"
         },
         "type": "linear"
        }
       }
      },
      "image/png": "[encoded data removed]",
      "text/html": [
       "<div>                            <div id=\"ac636d43-9b93-4663-bdfe-b422aa3952d9\" class=\"plotly-graph-div\" style=\"height:525px; width:100%;\"></div>            <script type=\"text/javascript\">                require([\"plotly\"], function(Plotly) {                    window.PLOTLYENV=window.PLOTLYENV || {};                                    if (document.getElementById(\"ac636d43-9b93-4663-bdfe-b422aa3952d9\")) {                    Plotly.newPlot(                        \"ac636d43-9b93-4663-bdfe-b422aa3952d9\",                        [{\"alignmentgroup\":\"True\",\"hovertemplate\":\"Marketing_Channel=%{x}\\u003cbr\\u003eBreak_Even_Customers=%{y}\\u003cextra\\u003e\\u003c\\u002fextra\\u003e\",\"legendgroup\":\"\",\"marker\":{\"color\":\"#636efa\",\"pattern\":{\"shape\":\"\"}},\"name\":\"\",\"offsetgroup\":\"\",\"orientation\":\"v\",\"showlegend\":false,\"textposition\":\"auto\",\"x\":[\"Email Marketing\",\"Online Ads\",\"Social Media\",\"Online Ads\",\"Email Marketing\",\"Email Marketing\",\"Referral\",\"Online Ads\",\"Social Media\",\"Online Ads\",\"Online Ads\",\"Email Marketing\",\"Online Ads\",\"Online Ads\",\"Email Marketing\",\"Email Marketing\",\"Online Ads\",\"Email Marketing\",\"Referral\",\"Online Ads\",\"Referral\",\"Email Marketing\",\"Social Media\",\"Online Ads\",\"Referral\",\"Social Media\",\"Online Ads\",\"Online Ads\",\"Referral\",\"Email Marketing\",\"Referral\",\"Email Marketing\",\"Email Marketing\",\"Referral\",\"Social Media\",\"Email Marketing\",\"Referral\",\"Email Marketing\",\"Referral\",\"Email Marketing\",\"Email Marketing\",\"Online Ads\",\"Online Ads\",\"Social Media\",\"Online Ads\",\"Online Ads\",\"Online Ads\",\"Social Media\",\"Email Marketing\",\"Social Media\",\"Social Media\",\"Online Ads\",\"Social Media\",\"Referral\",\"Email Marketing\",\"Email Marketing\",\"Online Ads\",\"Email Marketing\",\"Online Ads\",\"Social Media\",\"Referral\",\"Email Marketing\",\"Email Marketing\",\"Email Marketing\",\"Referral\",\"Referral\",\"Online Ads\",\"Online Ads\",\"Social Media\",\"Social Media\",\"Online Ads\",\"Referral\",\"Referral\",\"Social Media\",\"Email Marketing\",\"Social Media\",\"Referral\",\"Social Media\",\"Social Media\",\"Online Ads\",\"Email Marketing\",\"Social Media\",\"Email Marketing\",\"Referral\",\"Social Media\",\"Online Ads\",\"Referral\",\"Email Marketing\",\"Online Ads\",\"Online Ads\",\"Online Ads\",\"Email Marketing\",\"Referral\",\"Social Media\",\"Online Ads\",\"Social Media\",\"Referral\",\"Email Marketing\",\"Referral\",\"Referral\",\"Online Ads\",\"Email Marketing\",\"Email Marketing\",\"Email Marketing\",\"Social Media\",\"Email Marketing\",\"Online Ads\",\"Social Media\",\"Social Media\",\"Referral\",\"Referral\",\"Social Media\",\"Email Marketing\",\"Online Ads\",\"Referral\",\"Referral\",\"Social Media\",\"Email Marketing\",\"Email Marketing\",\"Online Ads\",\"Referral\",\"Email Marketing\",\"Referral\",\"Email Marketing\",\"Online Ads\",\"Social Media\",\"Online Ads\",\"Referral\",\"Referral\",\"Referral\",\"Social Media\",\"Online Ads\",\"Referral\",\"Referral\",\"Online Ads\",\"Social Media\",\"Online Ads\",\"Referral\",\"Referral\",\"Online Ads\",\"Social Media\",\"Email Marketing\",\"Social Media\",\"Referral\",\"Social Media\",\"Online Ads\",\"Email Marketing\",\"Email Marketing\",\"Online Ads\",\"Social Media\",\"Referral\",\"Email Marketing\",\"Social Media\",\"Email Marketing\",\"Online Ads\",\"Online Ads\",\"Social Media\",\"Email Marketing\",\"Online Ads\",\"Online Ads\",\"Online Ads\",\"Email Marketing\",\"Online Ads\",\"Referral\",\"Referral\",\"Online Ads\",\"Online Ads\",\"Email Marketing\",\"Online Ads\",\"Online Ads\",\"Referral\",\"Email Marketing\",\"Social Media\",\"Referral\",\"Referral\",\"Online Ads\",\"Online Ads\",\"Social Media\",\"Social Media\",\"Social Media\",\"Email Marketing\",\"Email Marketing\",\"Referral\",\"Online Ads\",\"Social Media\",\"Social Media\",\"Referral\",\"Online Ads\",\"Online Ads\",\"Social Media\",\"Social Media\",\"Social Media\",\"Online Ads\",\"Referral\",\"Social Media\",\"Referral\",\"Email Marketing\",\"Online Ads\",\"Referral\",\"Referral\",\"Referral\",\"Referral\",\"Referral\",\"Online Ads\",\"Social Media\",\"Online Ads\",\"Social Media\",\"Online Ads\",\"Social Media\",\"Referral\",\"Social Media\",\"Referral\",\"Social Media\",\"Social Media\",\"Referral\",\"Referral\",\"Email Marketing\",\"Email Marketing\",\"Online Ads\",\"Social Media\",\"Referral\",\"Email Marketing\",\"Email Marketing\",\"Email Marketing\",\"Online Ads\",\"Email Marketing\",\"Email Marketing\",\"Referral\",\"Online Ads\",\"Referral\",\"Online Ads\",\"Online Ads\",\"Email Marketing\",\"Email Marketing\",\"Online Ads\",\"Online Ads\",\"Referral\",\"Online Ads\",\"Email Marketing\",\"Email Marketing\",\"Social Media\",\"Email Marketing\",\"Email Marketing\",\"Referral\",\"Online Ads\",\"Email Marketing\",\"Online Ads\",\"Social Media\",\"Email Marketing\",\"Social Media\",\"Social Media\",\"Referral\",\"Online Ads\",\"Social Media\",\"Referral\",\"Referral\",\"Online Ads\",\"Online Ads\",\"Social Media\",\"Referral\",\"Referral\",\"Referral\",\"Social Media\",\"Online Ads\",\"Referral\",\"Email Marketing\",\"Email Marketing\",\"Referral\",\"Email Marketing\",\"Online Ads\",\"Referral\",\"Social Media\",\"Email Marketing\",\"Referral\",\"Online Ads\",\"Online Ads\",\"Online Ads\",\"Email Marketing\",\"Social Media\",\"Email Marketing\",\"Email Marketing\",\"Online Ads\",\"Email Marketing\",\"Social Media\",\"Social Media\",\"Referral\",\"Referral\",\"Online Ads\",\"Social Media\",\"Social Media\",\"Online Ads\",\"Referral\",\"Email Marketing\",\"Social Media\",\"Email Marketing\",\"Email Marketing\",\"Social Media\",\"Online Ads\",\"Online Ads\",\"Referral\",\"Referral\",\"Email Marketing\",\"Referral\",\"Email Marketing\",\"Online Ads\",\"Online Ads\",\"Social Media\",\"Referral\",\"Referral\",\"Referral\",\"Referral\",\"Online Ads\",\"Online Ads\",\"Online Ads\",\"Referral\",\"Referral\",\"Social Media\",\"Email Marketing\",\"Online Ads\",\"Referral\",\"Referral\",\"Referral\",\"Referral\",\"Referral\",\"Online Ads\",\"Email Marketing\",\"Social Media\",\"Referral\",\"Referral\",\"Referral\",\"Referral\",\"Social Media\",\"Referral\",\"Online Ads\",\"Referral\",\"Referral\",\"Online Ads\",\"Referral\",\"Social Media\",\"Social Media\",\"Referral\",\"Online Ads\",\"Online Ads\",\"Online Ads\",\"Social Media\",\"Referral\",\"Referral\",\"Social Media\",\"Email Marketing\",\"Social Media\",\"Referral\",\"Email Marketing\",\"Referral\",\"Online Ads\",\"Referral\",\"Online Ads\",\"Referral\",\"Social Media\",\"Online Ads\",\"Social Media\",\"Email Marketing\",\"Social Media\",\"Email Marketing\",\"Email Marketing\",\"Social Media\",\"Email Marketing\",\"Social Media\",\"Email Marketing\",\"Online Ads\",\"Referral\",\"Email Marketing\",\"Email Marketing\",\"Email Marketing\",\"Email Marketing\",\"Social Media\",\"Online Ads\",\"Email Marketing\",\"Social Media\",\"Social Media\",\"Referral\",\"Email Marketing\",\"Social Media\",\"Social Media\",\"Social Media\",\"Social Media\",\"Social Media\",\"Online Ads\",\"Social Media\",\"Referral\",\"Email Marketing\",\"Referral\",\"Email Marketing\",\"Social Media\",\"Email Marketing\",\"Online Ads\",\"Social Media\",\"Social Media\",\"Email Marketing\",\"Email Marketing\",\"Social Media\",\"Social Media\",\"Online Ads\",\"Social Media\",\"Referral\",\"Referral\",\"Online Ads\",\"Online Ads\",\"Email Marketing\",\"Email Marketing\",\"Social Media\",\"Referral\",\"Referral\",\"Email Marketing\",\"Online Ads\",\"Online Ads\",\"Online Ads\",\"Online Ads\",\"Social Media\",\"Referral\",\"Online Ads\",\"Social Media\",\"Email Marketing\",\"Online Ads\",\"Email Marketing\",\"Social Media\",\"Online Ads\",\"Email Marketing\",\"Online Ads\",\"Referral\",\"Referral\",\"Online Ads\",\"Social Media\",\"Online Ads\",\"Referral\",\"Email Marketing\",\"Online Ads\",\"Online Ads\",\"Referral\",\"Social Media\",\"Referral\",\"Email Marketing\",\"Referral\",\"Email Marketing\",\"Referral\",\"Referral\",\"Email Marketing\",\"Email Marketing\",\"Email Marketing\",\"Referral\",\"Email Marketing\",\"Referral\",\"Email Marketing\",\"Social Media\",\"Social Media\",\"Online Ads\",\"Email Marketing\",\"Referral\",\"Email Marketing\",\"Email Marketing\",\"Social Media\",\"Online Ads\",\"Social Media\",\"Social Media\",\"Social Media\",\"Email Marketing\",\"Online Ads\",\"Online Ads\",\"Email Marketing\",\"Email Marketing\",\"Online Ads\",\"Social Media\",\"Email Marketing\",\"Social Media\",\"Online Ads\",\"Social Media\",\"Referral\",\"Email Marketing\",\"Email Marketing\",\"Referral\",\"Referral\",\"Social Media\",\"Online Ads\",\"Social Media\",\"Referral\",\"Referral\",\"Referral\",\"Social Media\",\"Email Marketing\",\"Email Marketing\",\"Email Marketing\",\"Online Ads\",\"Online Ads\",\"Social Media\",\"Online Ads\",\"Social Media\",\"Email Marketing\",\"Social Media\",\"Online Ads\",\"Social Media\",\"Online Ads\"],\"xaxis\":\"x\",\"y\":[16.0,33.0,44.0,32.0,13.0,35.0,27.0,22.0,17.0,38.99999999999999,15.0,23.0,50.0,48.0,11.0,13.0,31.0,25.0,18.0,46.00000000000001,23.0,14.000000000000002,45.0,23.0,46.99999999999999,23.0,24.0,31.0,19.0,48.0,10.0,27.0,19.0,18.0,44.0,25.999999999999996,21.0,17.0,11.0,18.0,10.0,32.0,25.0,47.0,30.0,11.0,21.0,26.0,13.0,18.0,36.0,43.0,17.0,14.0,40.0,38.0,33.0,42.0,47.0,16.0,38.0,42.0,24.0,49.0,12.0,43.0,29.0,39.0,11.0,13.0,40.0,35.0,37.0,16.0,41.0,38.0,14.0,15.0,30.0,48.0,19.0,14.0,18.0,27.0,49.0,50.0,47.0,45.0,30.0,34.0,48.0,43.0,28.0,39.0,42.0,48.0,37.0,16.0,17.0,45.0,23.0,37.0,38.0,24.0,36.0,31.0,39.0,35.0,36.0,16.0,30.0,37.0,30.0,26.0,33.0,19.0,40.0,14.0,15.0,15.0,15.000000000000002,37.0,16.0,33.0,18.0,45.0,13.000000000000002,47.0,45.0,45.0,31.0,17.0,36.0,32.0,37.0,13.0,28.0,48.0,29.0,32.0,16.0,46.0,42.0,23.0,19.0,40.0,24.0,16.0,32.0,45.0,33.0,17.0,27.000000000000004,46.0,24.0,37.0,45.0,49.0,49.0,45.0,11.0,48.0,26.999999999999996,11.0,21.0,27.0,28.999999999999996,31.0,32.0,10.0,21.0,19.0,46.0,35.0,14.0,19.0,50.00000000000001,11.0,15.0,43.0,23.0,34.0,36.0,39.0,31.0,20.0,33.0,29.0,30.0,46.0,48.0,15.0,13.0,19.0,20.0,49.0,13.0,15.0,27.0,38.0,37.0,41.0,48.0,38.0,36.0,27.000000000000004,23.0,42.0,17.0,32.0,37.0,17.0,28.000000000000004,47.0,41.0,43.0,29.000000000000004,12.0,24.0,35.0,48.0,13.0,10.0,23.0,29.0,23.0,18.0,26.0,28.0,30.000000000000004,17.0,10.0,41.0,37.0,21.0,18.0,34.0,44.0,24.0,42.0,45.0,32.0,14.0,35.0,12.0,36.99999999999999,11.0,39.0,14.0,30.000000000000004,46.0,37.0,46.0,35.0,50.0,36.0,28.0,17.0,35.0,11.0,29.999999999999996,20.0,49.0,39.0,33.0,14.999999999999998,37.0,16.0,25.0,37.0,47.0,35.0,43.0,15.0,35.0,29.0,31.0,24.0,31.0,20.0,14.0,42.0,50.0,17.0,43.0,42.0,22.0,32.0,32.0,19.0,25.0,16.0,19.0,26.0,22.0,21.0,48.0,19.0,14.0,21.0,50.0,41.0,39.0,46.0,47.0,38.0,46.0,49.99999999999999,49.0,30.0,50.0,30.000000000000004,19.0,38.0,14.0,40.0,38.0,50.0,29.000000000000004,27.0,47.0,13.0,32.0,42.0,13.999999999999998,29.000000000000004,39.0,38.0,12.0,13.0,33.0,28.0,14.0,15.0,49.0,48.0,42.0,34.0,39.0,47.0,45.0,12.0,38.0,46.0,22.0,30.0,48.0,40.0,42.0,19.0,13.0,38.0,16.0,30.999999999999996,15.0,42.0,21.0,12.0,25.0,38.0,38.0,43.0,43.0,49.0,20.0,33.0,33.0,27.999999999999996,34.0,36.0,31.0,48.0,13.0,50.0,30.999999999999996,14.0,31.0,16.0,45.0,34.0,27.999999999999996,26.0,48.0,19.0,31.000000000000004,15.0,47.0,19.0,32.0,29.0,35.0,18.0,48.0,15.0,29.0,45.0,34.0,31.0,18.0,43.0,15.0,37.0,42.0,33.0,11.0,33.0,29.000000000000004,21.0,23.0,31.0,41.0,22.0,24.0,18.0,19.0,14.0,28.0,16.0,42.0,44.0,43.0,12.0,31.0,49.0,18.0,48.0,34.0,19.0,20.0,20.999999999999996,49.0,20.0,38.0,12.0,36.0,33.0,25.0,38.0,49.0,28.0,38.0,24.0,44.0,25.000000000000004,28.999999999999996,40.0,22.0,33.0,46.0,38.0,39.0,28.0,34.0,42.0,43.0,36.0,20.0,21.999999999999996,48.0,18.0,26.0,13.0,40.0,33.0,45.0,16.0,43.0,17.0,28.0,14.999999999999998,20.0,26.999999999999996,38.0,42.0,19.0,37.0,15.0,24.0,38.0,32.0,11.0,36.0,13.0,35.0,42.0,33.0,25.0,34.0,14.999999999999998,33.0,24.0,11.0,30.0,16.0,31.0,19.0,18.0,12.0,28.0,40.0],\"yaxis\":\"y\",\"type\":\"bar\"}],                        {\"template\":{\"data\":{\"histogram2dcontour\":[{\"type\":\"histogram2dcontour\",\"colorbar\":{\"outlinewidth\":0,\"ticks\":\"\"},\"colorscale\":[[0.0,\"#0d0887\"],[0.1111111111111111,\"#46039f\"],[0.2222222222222222,\"#7201a8\"],[0.3333333333333333,\"#9c179e\"],[0.4444444444444444,\"#bd3786\"],[0.5555555555555556,\"#d8576b\"],[0.6666666666666666,\"#ed7953\"],[0.7777777777777778,\"#fb9f3a\"],[0.8888888888888888,\"#fdca26\"],[1.0,\"#f0f921\"]]}],\"choropleth\":[{\"type\":\"choropleth\",\"colorbar\":{\"outlinewidth\":0,\"ticks\":\"\"}}],\"histogram2d\":[{\"type\":\"histogram2d\",\"colorbar\":{\"outlinewidth\":0,\"ticks\":\"\"},\"colorscale\":[[0.0,\"#0d0887\"],[0.1111111111111111,\"#46039f\"],[0.2222222222222222,\"#7201a8\"],[0.3333333333333333,\"#9c179e\"],[0.4444444444444444,\"#bd3786\"],[0.5555555555555556,\"#d8576b\"],[0.6666666666666666,\"#ed7953\"],[0.7777777777777778,\"#fb9f3a\"],[0.8888888888888888,\"#fdca26\"],[1.0,\"#f0f921\"]]}],\"heatmap\":[{\"type\":\"heatmap\",\"colorbar\":{\"outlinewidth\":0,\"ticks\":\"\"},\"colorscale\":[[0.0,\"#0d0887\"],[0.1111111111111111,\"#46039f\"],[0.2222222222222222,\"#7201a8\"],[0.3333333333333333,\"#9c179e\"],[0.4444444444444444,\"#bd3786\"],[0.5555555555555556,\"#d8576b\"],[0.6666666666666666,\"#ed7953\"],[0.7777777777777778,\"#fb9f3a\"],[0.8888888888888888,\"#fdca26\"],[1.0,\"#f0f921\"]]}],\"heatmapgl\":[{\"type\":\"heatmapgl\",\"colorbar\":{\"outlinewidth\":0,\"ticks\":\"\"},\"colorscale\":[[0.0,\"#0d0887\"],[0.1111111111111111,\"#46039f\"],[0.2222222222222222,\"#7201a8\"],[0.3333333333333333,\"#9c179e\"],[0.4444444444444444,\"#bd3786\"],[0.5555555555555556,\"#d8576b\"],[0.6666666666666666,\"#ed7953\"],[0.7777777777777778,\"#fb9f3a\"],[0.8888888888888888,\"#fdca26\"],[1.0,\"#f0f921\"]]}],\"contourcarpet\":[{\"type\":\"contourcarpet\",\"colorbar\":{\"outlinewidth\":0,\"ticks\":\"\"}}],\"contour\":[{\"type\":\"contour\",\"colorbar\":{\"outlinewidth\":0,\"ticks\":\"\"},\"colorscale\":[[0.0,\"#0d0887\"],[0.1111111111111111,\"#46039f\"],[0.2222222222222222,\"#7201a8\"],[0.3333333333333333,\"#9c179e\"],[0.4444444444444444,\"#bd3786\"],[0.5555555555555556,\"#d8576b\"],[0.6666666666666666,\"#ed7953\"],[0.7777777777777778,\"#fb9f3a\"],[0.8888888888888888,\"#fdca26\"],[1.0,\"#f0f921\"]]}],\"surface\":[{\"type\":\"surface\",\"colorbar\":{\"outlinewidth\":0,\"ticks\":\"\"},\"colorscale\":[[0.0,\"#0d0887\"],[0.1111111111111111,\"#46039f\"],[0.2222222222222222,\"#7201a8\"],[0.3333333333333333,\"#9c179e\"],[0.4444444444444444,\"#bd3786\"],[0.5555555555555556,\"#d8576b\"],[0.6666666666666666,\"#ed7953\"],[0.7777777777777778,\"#fb9f3a\"],[0.8888888888888888,\"#fdca26\"],[1.0,\"#f0f921\"]]}],\"mesh3d\":[{\"type\":\"mesh3d\",\"colorbar\":{\"outlinewidth\":0,\"ticks\":\"\"}}],\"scatter\":[{\"fillpattern\":{\"fillmode\":\"overlay\",\"size\":10,\"solidity\":0.2},\"type\":\"scatter\"}],\"parcoords\":[{\"type\":\"parcoords\",\"line\":{\"colorbar\":{\"outlinewidth\":0,\"ticks\":\"\"}}}],\"scatterpolargl\":[{\"type\":\"scatterpolargl\",\"marker\":{\"colorbar\":{\"outlinewidth\":0,\"ticks\":\"\"}}}],\"bar\":[{\"error_x\":{\"color\":\"#2a3f5f\"},\"error_y\":{\"color\":\"#2a3f5f\"},\"marker\":{\"line\":{\"color\":\"white\",\"width\":0.5},\"pattern\":{\"fillmode\":\"overlay\",\"size\":10,\"solidity\":0.2}},\"type\":\"bar\"}],\"scattergeo\":[{\"type\":\"scattergeo\",\"marker\":{\"colorbar\":{\"outlinewidth\":0,\"ticks\":\"\"}}}],\"scatterpolar\":[{\"type\":\"scatterpolar\",\"marker\":{\"colorbar\":{\"outlinewidth\":0,\"ticks\":\"\"}}}],\"histogram\":[{\"marker\":{\"pattern\":{\"fillmode\":\"overlay\",\"size\":10,\"solidity\":0.2}},\"type\":\"histogram\"}],\"scattergl\":[{\"type\":\"scattergl\",\"marker\":{\"colorbar\":{\"outlinewidth\":0,\"ticks\":\"\"}}}],\"scatter3d\":[{\"type\":\"scatter3d\",\"line\":{\"colorbar\":{\"outlinewidth\":0,\"ticks\":\"\"}},\"marker\":{\"colorbar\":{\"outlinewidth\":0,\"ticks\":\"\"}}}],\"scattermapbox\":[{\"type\":\"scattermapbox\",\"marker\":{\"colorbar\":{\"outlinewidth\":0,\"ticks\":\"\"}}}],\"scatterternary\":[{\"type\":\"scatterternary\",\"marker\":{\"colorbar\":{\"outlinewidth\":0,\"ticks\":\"\"}}}],\"scattercarpet\":[{\"type\":\"scattercarpet\",\"marker\":{\"colorbar\":{\"outlinewidth\":0,\"ticks\":\"\"}}}],\"carpet\":[{\"aaxis\":{\"endlinecolor\":\"#2a3f5f\",\"gridcolor\":\"#C8D4E3\",\"linecolor\":\"#C8D4E3\",\"minorgridcolor\":\"#C8D4E3\",\"startlinecolor\":\"#2a3f5f\"},\"baxis\":{\"endlinecolor\":\"#2a3f5f\",\"gridcolor\":\"#C8D4E3\",\"linecolor\":\"#C8D4E3\",\"minorgridcolor\":\"#C8D4E3\",\"startlinecolor\":\"#2a3f5f\"},\"type\":\"carpet\"}],\"table\":[{\"cells\":{\"fill\":{\"color\":\"#EBF0F8\"},\"line\":{\"color\":\"white\"}},\"header\":{\"fill\":{\"color\":\"#C8D4E3\"},\"line\":{\"color\":\"white\"}},\"type\":\"table\"}],\"barpolar\":[{\"marker\":{\"line\":{\"color\":\"white\",\"width\":0.5},\"pattern\":{\"fillmode\":\"overlay\",\"size\":10,\"solidity\":0.2}},\"type\":\"barpolar\"}],\"pie\":[{\"automargin\":true,\"type\":\"pie\"}]},\"layout\":{\"autotypenumbers\":\"strict\",\"colorway\":[\"#636efa\",\"#EF553B\",\"#00cc96\",\"#ab63fa\",\"#FFA15A\",\"#19d3f3\",\"#FF6692\",\"#B6E880\",\"#FF97FF\",\"#FECB52\"],\"font\":{\"color\":\"#2a3f5f\"},\"hovermode\":\"closest\",\"hoverlabel\":{\"align\":\"left\"},\"paper_bgcolor\":\"white\",\"plot_bgcolor\":\"white\",\"polar\":{\"bgcolor\":\"white\",\"angularaxis\":{\"gridcolor\":\"#EBF0F8\",\"linecolor\":\"#EBF0F8\",\"ticks\":\"\"},\"radialaxis\":{\"gridcolor\":\"#EBF0F8\",\"linecolor\":\"#EBF0F8\",\"ticks\":\"\"}},\"ternary\":{\"bgcolor\":\"white\",\"aaxis\":{\"gridcolor\":\"#DFE8F3\",\"linecolor\":\"#A2B1C6\",\"ticks\":\"\"},\"baxis\":{\"gridcolor\":\"#DFE8F3\",\"linecolor\":\"#A2B1C6\",\"ticks\":\"\"},\"caxis\":{\"gridcolor\":\"#DFE8F3\",\"linecolor\":\"#A2B1C6\",\"ticks\":\"\"}},\"coloraxis\":{\"colorbar\":{\"outlinewidth\":0,\"ticks\":\"\"}},\"colorscale\":{\"sequential\":[[0.0,\"#0d0887\"],[0.1111111111111111,\"#46039f\"],[0.2222222222222222,\"#7201a8\"],[0.3333333333333333,\"#9c179e\"],[0.4444444444444444,\"#bd3786\"],[0.5555555555555556,\"#d8576b\"],[0.6666666666666666,\"#ed7953\"],[0.7777777777777778,\"#fb9f3a\"],[0.8888888888888888,\"#fdca26\"],[1.0,\"#f0f921\"]],\"sequentialminus\":[[0.0,\"#0d0887\"],[0.1111111111111111,\"#46039f\"],[0.2222222222222222,\"#7201a8\"],[0.3333333333333333,\"#9c179e\"],[0.4444444444444444,\"#bd3786\"],[0.5555555555555556,\"#d8576b\"],[0.6666666666666666,\"#ed7953\"],[0.7777777777777778,\"#fb9f3a\"],[0.8888888888888888,\"#fdca26\"],[1.0,\"#f0f921\"]],\"diverging\":[[0,\"#8e0152\"],[0.1,\"#c51b7d\"],[0.2,\"#de77ae\"],[0.3,\"#f1b6da\"],[0.4,\"#fde0ef\"],[0.5,\"#f7f7f7\"],[0.6,\"#e6f5d0\"],[0.7,\"#b8e186\"],[0.8,\"#7fbc41\"],[0.9,\"#4d9221\"],[1,\"#276419\"]]},\"xaxis\":{\"gridcolor\":\"#EBF0F8\",\"linecolor\":\"#EBF0F8\",\"ticks\":\"\",\"title\":{\"standoff\":15},\"zerolinecolor\":\"#EBF0F8\",\"automargin\":true,\"zerolinewidth\":2},\"yaxis\":{\"gridcolor\":\"#EBF0F8\",\"linecolor\":\"#EBF0F8\",\"ticks\":\"\",\"title\":{\"standoff\":15},\"zerolinecolor\":\"#EBF0F8\",\"automargin\":true,\"zerolinewidth\":2},\"scene\":{\"xaxis\":{\"backgroundcolor\":\"white\",\"gridcolor\":\"#DFE8F3\",\"linecolor\":\"#EBF0F8\",\"showbackground\":true,\"ticks\":\"\",\"zerolinecolor\":\"#EBF0F8\",\"gridwidth\":2},\"yaxis\":{\"backgroundcolor\":\"white\",\"gridcolor\":\"#DFE8F3\",\"linecolor\":\"#EBF0F8\",\"showbackground\":true,\"ticks\":\"\",\"zerolinecolor\":\"#EBF0F8\",\"gridwidth\":2},\"zaxis\":{\"backgroundcolor\":\"white\",\"gridcolor\":\"#DFE8F3\",\"linecolor\":\"#EBF0F8\",\"showbackground\":true,\"ticks\":\"\",\"zerolinecolor\":\"#EBF0F8\",\"gridwidth\":2}},\"shapedefaults\":{\"line\":{\"color\":\"#2a3f5f\"}},\"annotationdefaults\":{\"arrowcolor\":\"#2a3f5f\",\"arrowhead\":0,\"arrowwidth\":1},\"geo\":{\"bgcolor\":\"white\",\"landcolor\":\"white\",\"subunitcolor\":\"#C8D4E3\",\"showland\":true,\"showlakes\":true,\"lakecolor\":\"white\"},\"title\":{\"x\":0.05},\"mapbox\":{\"style\":\"light\"}}},\"xaxis\":{\"anchor\":\"y\",\"domain\":[0.0,1.0],\"title\":{\"text\":\"Marketing_Channel\"}},\"yaxis\":{\"anchor\":\"x\",\"domain\":[0.0,1.0],\"title\":{\"text\":\"Break_Even_Customers\"}},\"legend\":{\"tracegroupgap\":0},\"title\":{\"text\":\"Break-Even Customers by Marketing Channel\"},\"barmode\":\"relative\"},                        {\"responsive\": true}                    ).then(function(){\n",
       "                            \n",
       "var gd = document.getElementById('ac636d43-9b93-4663-bdfe-b422aa3952d9');\n",
       "var x = new MutationObserver(function (mutations, observer) {{\n",
       "        var display = window.getComputedStyle(gd).display;\n",
       "        if (!display || display === 'none') {{\n",
       "            console.log([gd, 'removed!']);\n",
       "            Plotly.purge(gd);\n",
       "            observer.disconnect();\n",
       "        }}\n",
       "}});\n",
       "\n",
       "// Listen for the removal of the full notebook cells\n",
       "var notebookContainer = gd.closest('#notebook-container');\n",
       "if (notebookContainer) {{\n",
       "    x.observe(notebookContainer, {childList: true});\n",
       "}}\n",
       "\n",
       "// Listen for the clearing of the current output cell\n",
       "var outputEl = gd.closest('.output');\n",
       "if (outputEl) {{\n",
       "    x.observe(outputEl, {childList: true});\n",
       "}}\n",
       "\n",
       "                        })                };                });            </script>        </div>"
      ]
     },
     "metadata": {},
     "output_type": "display_data"
    }
   ],
   "source": [
    "data['Break_Even_Customers'] = data['Marketing_Spend'] / data['CAC']\n",
    "\n",
    "fig = px.bar(data, x='Marketing_Channel', \n",
    "             y='Break_Even_Customers', \n",
    "             title='Break-Even Customers by Marketing Channel')\n",
    "fig.show()"
   ]
  },
  {
   "cell_type": "code",
   "execution_count": 15,
   "id": "49266106-6e82-4b7a-acc0-ffb4a9592684",
   "metadata": {},
   "outputs": [
    {
     "data": {
      "application/vnd.plotly.v1+json": {
       "config": {
        "plotlyServerURL": "https://plot.ly"
       },
       "data": [
        {
         "marker": {
          "color": "royalblue"
         },
         "name": "Actual Customers Acquired",
         "type": "bar",
         "x": [
          "Email Marketing",
          "Online Ads",
          "Social Media",
          "Online Ads",
          "Email Marketing",
          "Email Marketing",
          "Referral",
          "Online Ads",
          "Social Media",
          "Online Ads",
          "Online Ads",
          "Email Marketing",
          "Online Ads",
          "Online Ads",
          "Email Marketing",
          "Email Marketing",
          "Online Ads",
          "Email Marketing",
          "Referral",
          "Online Ads",
          "Referral",
          "Email Marketing",
          "Social Media",
          "Online Ads",
          "Referral",
          "Social Media",
          "Online Ads",
          "Online Ads",
          "Referral",
          "Email Marketing",
          "Referral",
          "Email Marketing",
          "Email Marketing",
          "Referral",
          "Social Media",
          "Email Marketing",
          "Referral",
          "Email Marketing",
          "Referral",
          "Email Marketing",
          "Email Marketing",
          "Online Ads",
          "Online Ads",
          "Social Media",
          "Online Ads",
          "Online Ads",
          "Online Ads",
          "Social Media",
          "Email Marketing",
          "Social Media",
          "Social Media",
          "Online Ads",
          "Social Media",
          "Referral",
          "Email Marketing",
          "Email Marketing",
          "Online Ads",
          "Email Marketing",
          "Online Ads",
          "Social Media",
          "Referral",
          "Email Marketing",
          "Email Marketing",
          "Email Marketing",
          "Referral",
          "Referral",
          "Online Ads",
          "Online Ads",
          "Social Media",
          "Social Media",
          "Online Ads",
          "Referral",
          "Referral",
          "Social Media",
          "Email Marketing",
          "Social Media",
          "Referral",
          "Social Media",
          "Social Media",
          "Online Ads",
          "Email Marketing",
          "Social Media",
          "Email Marketing",
          "Referral",
          "Social Media",
          "Online Ads",
          "Referral",
          "Email Marketing",
          "Online Ads",
          "Online Ads",
          "Online Ads",
          "Email Marketing",
          "Referral",
          "Social Media",
          "Online Ads",
          "Social Media",
          "Referral",
          "Email Marketing",
          "Referral",
          "Referral",
          "Online Ads",
          "Email Marketing",
          "Email Marketing",
          "Email Marketing",
          "Social Media",
          "Email Marketing",
          "Online Ads",
          "Social Media",
          "Social Media",
          "Referral",
          "Referral",
          "Social Media",
          "Email Marketing",
          "Online Ads",
          "Referral",
          "Referral",
          "Social Media",
          "Email Marketing",
          "Email Marketing",
          "Online Ads",
          "Referral",
          "Email Marketing",
          "Referral",
          "Email Marketing",
          "Online Ads",
          "Social Media",
          "Online Ads",
          "Referral",
          "Referral",
          "Referral",
          "Social Media",
          "Online Ads",
          "Referral",
          "Referral",
          "Online Ads",
          "Social Media",
          "Online Ads",
          "Referral",
          "Referral",
          "Online Ads",
          "Social Media",
          "Email Marketing",
          "Social Media",
          "Referral",
          "Social Media",
          "Online Ads",
          "Email Marketing",
          "Email Marketing",
          "Online Ads",
          "Social Media",
          "Referral",
          "Email Marketing",
          "Social Media",
          "Email Marketing",
          "Online Ads",
          "Online Ads",
          "Social Media",
          "Email Marketing",
          "Online Ads",
          "Online Ads",
          "Online Ads",
          "Email Marketing",
          "Online Ads",
          "Referral",
          "Referral",
          "Online Ads",
          "Online Ads",
          "Email Marketing",
          "Online Ads",
          "Online Ads",
          "Referral",
          "Email Marketing",
          "Social Media",
          "Referral",
          "Referral",
          "Online Ads",
          "Online Ads",
          "Social Media",
          "Social Media",
          "Social Media",
          "Email Marketing",
          "Email Marketing",
          "Referral",
          "Online Ads",
          "Social Media",
          "Social Media",
          "Referral",
          "Online Ads",
          "Online Ads",
          "Social Media",
          "Social Media",
          "Social Media",
          "Online Ads",
          "Referral",
          "Social Media",
          "Referral",
          "Email Marketing",
          "Online Ads",
          "Referral",
          "Referral",
          "Referral",
          "Referral",
          "Referral",
          "Online Ads",
          "Social Media",
          "Online Ads",
          "Social Media",
          "Online Ads",
          "Social Media",
          "Referral",
          "Social Media",
          "Referral",
          "Social Media",
          "Social Media",
          "Referral",
          "Referral",
          "Email Marketing",
          "Email Marketing",
          "Online Ads",
          "Social Media",
          "Referral",
          "Email Marketing",
          "Email Marketing",
          "Email Marketing",
          "Online Ads",
          "Email Marketing",
          "Email Marketing",
          "Referral",
          "Online Ads",
          "Referral",
          "Online Ads",
          "Online Ads",
          "Email Marketing",
          "Email Marketing",
          "Online Ads",
          "Online Ads",
          "Referral",
          "Online Ads",
          "Email Marketing",
          "Email Marketing",
          "Social Media",
          "Email Marketing",
          "Email Marketing",
          "Referral",
          "Online Ads",
          "Email Marketing",
          "Online Ads",
          "Social Media",
          "Email Marketing",
          "Social Media",
          "Social Media",
          "Referral",
          "Online Ads",
          "Social Media",
          "Referral",
          "Referral",
          "Online Ads",
          "Online Ads",
          "Social Media",
          "Referral",
          "Referral",
          "Referral",
          "Social Media",
          "Online Ads",
          "Referral",
          "Email Marketing",
          "Email Marketing",
          "Referral",
          "Email Marketing",
          "Online Ads",
          "Referral",
          "Social Media",
          "Email Marketing",
          "Referral",
          "Online Ads",
          "Online Ads",
          "Online Ads",
          "Email Marketing",
          "Social Media",
          "Email Marketing",
          "Email Marketing",
          "Online Ads",
          "Email Marketing",
          "Social Media",
          "Social Media",
          "Referral",
          "Referral",
          "Online Ads",
          "Social Media",
          "Social Media",
          "Online Ads",
          "Referral",
          "Email Marketing",
          "Social Media",
          "Email Marketing",
          "Email Marketing",
          "Social Media",
          "Online Ads",
          "Online Ads",
          "Referral",
          "Referral",
          "Email Marketing",
          "Referral",
          "Email Marketing",
          "Online Ads",
          "Online Ads",
          "Social Media",
          "Referral",
          "Referral",
          "Referral",
          "Referral",
          "Online Ads",
          "Online Ads",
          "Online Ads",
          "Referral",
          "Referral",
          "Social Media",
          "Email Marketing",
          "Online Ads",
          "Referral",
          "Referral",
          "Referral",
          "Referral",
          "Referral",
          "Online Ads",
          "Email Marketing",
          "Social Media",
          "Referral",
          "Referral",
          "Referral",
          "Referral",
          "Social Media",
          "Referral",
          "Online Ads",
          "Referral",
          "Referral",
          "Online Ads",
          "Referral",
          "Social Media",
          "Social Media",
          "Referral",
          "Online Ads",
          "Online Ads",
          "Online Ads",
          "Social Media",
          "Referral",
          "Referral",
          "Social Media",
          "Email Marketing",
          "Social Media",
          "Referral",
          "Email Marketing",
          "Referral",
          "Online Ads",
          "Referral",
          "Online Ads",
          "Referral",
          "Social Media",
          "Online Ads",
          "Social Media",
          "Email Marketing",
          "Social Media",
          "Email Marketing",
          "Email Marketing",
          "Social Media",
          "Email Marketing",
          "Social Media",
          "Email Marketing",
          "Online Ads",
          "Referral",
          "Email Marketing",
          "Email Marketing",
          "Email Marketing",
          "Email Marketing",
          "Social Media",
          "Online Ads",
          "Email Marketing",
          "Social Media",
          "Social Media",
          "Referral",
          "Email Marketing",
          "Social Media",
          "Social Media",
          "Social Media",
          "Social Media",
          "Social Media",
          "Online Ads",
          "Social Media",
          "Referral",
          "Email Marketing",
          "Referral",
          "Email Marketing",
          "Social Media",
          "Email Marketing",
          "Online Ads",
          "Social Media",
          "Social Media",
          "Email Marketing",
          "Email Marketing",
          "Social Media",
          "Social Media",
          "Online Ads",
          "Social Media",
          "Referral",
          "Referral",
          "Online Ads",
          "Online Ads",
          "Email Marketing",
          "Email Marketing",
          "Social Media",
          "Referral",
          "Referral",
          "Email Marketing",
          "Online Ads",
          "Online Ads",
          "Online Ads",
          "Online Ads",
          "Social Media",
          "Referral",
          "Online Ads",
          "Social Media",
          "Email Marketing",
          "Online Ads",
          "Email Marketing",
          "Social Media",
          "Online Ads",
          "Email Marketing",
          "Online Ads",
          "Referral",
          "Referral",
          "Online Ads",
          "Social Media",
          "Online Ads",
          "Referral",
          "Email Marketing",
          "Online Ads",
          "Online Ads",
          "Referral",
          "Social Media",
          "Referral",
          "Email Marketing",
          "Referral",
          "Email Marketing",
          "Referral",
          "Referral",
          "Email Marketing",
          "Email Marketing",
          "Email Marketing",
          "Referral",
          "Email Marketing",
          "Referral",
          "Email Marketing",
          "Social Media",
          "Social Media",
          "Online Ads",
          "Email Marketing",
          "Referral",
          "Email Marketing",
          "Email Marketing",
          "Social Media",
          "Online Ads",
          "Social Media",
          "Social Media",
          "Social Media",
          "Email Marketing",
          "Online Ads",
          "Online Ads",
          "Email Marketing",
          "Email Marketing",
          "Online Ads",
          "Social Media",
          "Email Marketing",
          "Social Media",
          "Online Ads",
          "Social Media",
          "Referral",
          "Email Marketing",
          "Email Marketing",
          "Referral",
          "Referral",
          "Social Media",
          "Online Ads",
          "Social Media",
          "Referral",
          "Referral",
          "Referral",
          "Social Media",
          "Email Marketing",
          "Email Marketing",
          "Email Marketing",
          "Online Ads",
          "Online Ads",
          "Social Media",
          "Online Ads",
          "Social Media",
          "Email Marketing",
          "Social Media",
          "Online Ads",
          "Social Media",
          "Online Ads"
         ],
         "y": [
          16,
          33,
          44,
          32,
          13,
          35,
          27,
          22,
          17,
          39,
          15,
          23,
          50,
          48,
          11,
          13,
          31,
          25,
          18,
          46,
          23,
          14,
          45,
          23,
          47,
          23,
          24,
          31,
          19,
          48,
          10,
          27,
          19,
          18,
          44,
          26,
          21,
          17,
          11,
          18,
          10,
          32,
          25,
          47,
          30,
          11,
          21,
          26,
          13,
          18,
          36,
          43,
          17,
          14,
          40,
          38,
          33,
          42,
          47,
          16,
          38,
          42,
          24,
          49,
          12,
          43,
          29,
          39,
          11,
          13,
          40,
          35,
          37,
          16,
          41,
          38,
          14,
          15,
          30,
          48,
          19,
          14,
          18,
          27,
          49,
          50,
          47,
          45,
          30,
          34,
          48,
          43,
          28,
          39,
          42,
          48,
          37,
          16,
          17,
          45,
          23,
          37,
          38,
          24,
          36,
          31,
          39,
          35,
          36,
          16,
          30,
          37,
          30,
          26,
          33,
          19,
          40,
          14,
          15,
          15,
          15,
          37,
          16,
          33,
          18,
          45,
          13,
          47,
          45,
          45,
          31,
          17,
          36,
          32,
          37,
          13,
          28,
          48,
          29,
          32,
          16,
          46,
          42,
          23,
          19,
          40,
          24,
          16,
          32,
          45,
          33,
          17,
          27,
          46,
          24,
          37,
          45,
          49,
          49,
          45,
          11,
          48,
          27,
          11,
          21,
          27,
          29,
          31,
          32,
          10,
          21,
          19,
          46,
          35,
          14,
          19,
          50,
          11,
          15,
          43,
          23,
          34,
          36,
          39,
          31,
          20,
          33,
          29,
          30,
          46,
          48,
          15,
          13,
          19,
          20,
          49,
          13,
          15,
          27,
          38,
          37,
          41,
          48,
          38,
          36,
          27,
          23,
          42,
          17,
          32,
          37,
          17,
          28,
          47,
          41,
          43,
          29,
          12,
          24,
          35,
          48,
          13,
          10,
          23,
          29,
          23,
          18,
          26,
          28,
          30,
          17,
          10,
          41,
          37,
          21,
          18,
          34,
          44,
          24,
          42,
          45,
          32,
          14,
          35,
          12,
          37,
          11,
          39,
          14,
          30,
          46,
          37,
          46,
          35,
          50,
          36,
          28,
          17,
          35,
          11,
          30,
          20,
          49,
          39,
          33,
          15,
          37,
          16,
          25,
          37,
          47,
          35,
          43,
          15,
          35,
          29,
          31,
          24,
          31,
          20,
          14,
          42,
          50,
          17,
          43,
          42,
          22,
          32,
          32,
          19,
          25,
          16,
          19,
          26,
          22,
          21,
          48,
          19,
          14,
          21,
          50,
          41,
          39,
          46,
          47,
          38,
          46,
          50,
          49,
          30,
          50,
          30,
          19,
          38,
          14,
          40,
          38,
          50,
          29,
          27,
          47,
          13,
          32,
          42,
          14,
          29,
          39,
          38,
          12,
          13,
          33,
          28,
          14,
          15,
          49,
          48,
          42,
          34,
          39,
          47,
          45,
          12,
          38,
          46,
          22,
          30,
          48,
          40,
          42,
          19,
          13,
          38,
          16,
          31,
          15,
          42,
          21,
          12,
          25,
          38,
          38,
          43,
          43,
          49,
          20,
          33,
          33,
          28,
          34,
          36,
          31,
          48,
          13,
          50,
          31,
          14,
          31,
          16,
          45,
          34,
          28,
          26,
          48,
          19,
          31,
          15,
          47,
          19,
          32,
          29,
          35,
          18,
          48,
          15,
          29,
          45,
          34,
          31,
          18,
          43,
          15,
          37,
          42,
          33,
          11,
          33,
          29,
          21,
          23,
          31,
          41,
          22,
          24,
          18,
          19,
          14,
          28,
          16,
          42,
          44,
          43,
          12,
          31,
          49,
          18,
          48,
          34,
          19,
          20,
          21,
          49,
          20,
          38,
          12,
          36,
          33,
          25,
          38,
          49,
          28,
          38,
          24,
          44,
          25,
          29,
          40,
          22,
          33,
          46,
          38,
          39,
          28,
          34,
          42,
          43,
          36,
          20,
          22,
          48,
          18,
          26,
          13,
          40,
          33,
          45,
          16,
          43,
          17,
          28,
          15,
          20,
          27,
          38,
          42,
          19,
          37,
          15,
          24,
          38,
          32,
          11,
          36,
          13,
          35,
          42,
          33,
          25,
          34,
          15,
          33,
          24,
          11,
          30,
          16,
          31,
          19,
          18,
          12,
          28,
          40
         ]
        },
        {
         "marker": {
          "color": "lightcoral"
         },
         "name": "Break-Even Customers",
         "type": "bar",
         "x": [
          "Email Marketing",
          "Online Ads",
          "Social Media",
          "Online Ads",
          "Email Marketing",
          "Email Marketing",
          "Referral",
          "Online Ads",
          "Social Media",
          "Online Ads",
          "Online Ads",
          "Email Marketing",
          "Online Ads",
          "Online Ads",
          "Email Marketing",
          "Email Marketing",
          "Online Ads",
          "Email Marketing",
          "Referral",
          "Online Ads",
          "Referral",
          "Email Marketing",
          "Social Media",
          "Online Ads",
          "Referral",
          "Social Media",
          "Online Ads",
          "Online Ads",
          "Referral",
          "Email Marketing",
          "Referral",
          "Email Marketing",
          "Email Marketing",
          "Referral",
          "Social Media",
          "Email Marketing",
          "Referral",
          "Email Marketing",
          "Referral",
          "Email Marketing",
          "Email Marketing",
          "Online Ads",
          "Online Ads",
          "Social Media",
          "Online Ads",
          "Online Ads",
          "Online Ads",
          "Social Media",
          "Email Marketing",
          "Social Media",
          "Social Media",
          "Online Ads",
          "Social Media",
          "Referral",
          "Email Marketing",
          "Email Marketing",
          "Online Ads",
          "Email Marketing",
          "Online Ads",
          "Social Media",
          "Referral",
          "Email Marketing",
          "Email Marketing",
          "Email Marketing",
          "Referral",
          "Referral",
          "Online Ads",
          "Online Ads",
          "Social Media",
          "Social Media",
          "Online Ads",
          "Referral",
          "Referral",
          "Social Media",
          "Email Marketing",
          "Social Media",
          "Referral",
          "Social Media",
          "Social Media",
          "Online Ads",
          "Email Marketing",
          "Social Media",
          "Email Marketing",
          "Referral",
          "Social Media",
          "Online Ads",
          "Referral",
          "Email Marketing",
          "Online Ads",
          "Online Ads",
          "Online Ads",
          "Email Marketing",
          "Referral",
          "Social Media",
          "Online Ads",
          "Social Media",
          "Referral",
          "Email Marketing",
          "Referral",
          "Referral",
          "Online Ads",
          "Email Marketing",
          "Email Marketing",
          "Email Marketing",
          "Social Media",
          "Email Marketing",
          "Online Ads",
          "Social Media",
          "Social Media",
          "Referral",
          "Referral",
          "Social Media",
          "Email Marketing",
          "Online Ads",
          "Referral",
          "Referral",
          "Social Media",
          "Email Marketing",
          "Email Marketing",
          "Online Ads",
          "Referral",
          "Email Marketing",
          "Referral",
          "Email Marketing",
          "Online Ads",
          "Social Media",
          "Online Ads",
          "Referral",
          "Referral",
          "Referral",
          "Social Media",
          "Online Ads",
          "Referral",
          "Referral",
          "Online Ads",
          "Social Media",
          "Online Ads",
          "Referral",
          "Referral",
          "Online Ads",
          "Social Media",
          "Email Marketing",
          "Social Media",
          "Referral",
          "Social Media",
          "Online Ads",
          "Email Marketing",
          "Email Marketing",
          "Online Ads",
          "Social Media",
          "Referral",
          "Email Marketing",
          "Social Media",
          "Email Marketing",
          "Online Ads",
          "Online Ads",
          "Social Media",
          "Email Marketing",
          "Online Ads",
          "Online Ads",
          "Online Ads",
          "Email Marketing",
          "Online Ads",
          "Referral",
          "Referral",
          "Online Ads",
          "Online Ads",
          "Email Marketing",
          "Online Ads",
          "Online Ads",
          "Referral",
          "Email Marketing",
          "Social Media",
          "Referral",
          "Referral",
          "Online Ads",
          "Online Ads",
          "Social Media",
          "Social Media",
          "Social Media",
          "Email Marketing",
          "Email Marketing",
          "Referral",
          "Online Ads",
          "Social Media",
          "Social Media",
          "Referral",
          "Online Ads",
          "Online Ads",
          "Social Media",
          "Social Media",
          "Social Media",
          "Online Ads",
          "Referral",
          "Social Media",
          "Referral",
          "Email Marketing",
          "Online Ads",
          "Referral",
          "Referral",
          "Referral",
          "Referral",
          "Referral",
          "Online Ads",
          "Social Media",
          "Online Ads",
          "Social Media",
          "Online Ads",
          "Social Media",
          "Referral",
          "Social Media",
          "Referral",
          "Social Media",
          "Social Media",
          "Referral",
          "Referral",
          "Email Marketing",
          "Email Marketing",
          "Online Ads",
          "Social Media",
          "Referral",
          "Email Marketing",
          "Email Marketing",
          "Email Marketing",
          "Online Ads",
          "Email Marketing",
          "Email Marketing",
          "Referral",
          "Online Ads",
          "Referral",
          "Online Ads",
          "Online Ads",
          "Email Marketing",
          "Email Marketing",
          "Online Ads",
          "Online Ads",
          "Referral",
          "Online Ads",
          "Email Marketing",
          "Email Marketing",
          "Social Media",
          "Email Marketing",
          "Email Marketing",
          "Referral",
          "Online Ads",
          "Email Marketing",
          "Online Ads",
          "Social Media",
          "Email Marketing",
          "Social Media",
          "Social Media",
          "Referral",
          "Online Ads",
          "Social Media",
          "Referral",
          "Referral",
          "Online Ads",
          "Online Ads",
          "Social Media",
          "Referral",
          "Referral",
          "Referral",
          "Social Media",
          "Online Ads",
          "Referral",
          "Email Marketing",
          "Email Marketing",
          "Referral",
          "Email Marketing",
          "Online Ads",
          "Referral",
          "Social Media",
          "Email Marketing",
          "Referral",
          "Online Ads",
          "Online Ads",
          "Online Ads",
          "Email Marketing",
          "Social Media",
          "Email Marketing",
          "Email Marketing",
          "Online Ads",
          "Email Marketing",
          "Social Media",
          "Social Media",
          "Referral",
          "Referral",
          "Online Ads",
          "Social Media",
          "Social Media",
          "Online Ads",
          "Referral",
          "Email Marketing",
          "Social Media",
          "Email Marketing",
          "Email Marketing",
          "Social Media",
          "Online Ads",
          "Online Ads",
          "Referral",
          "Referral",
          "Email Marketing",
          "Referral",
          "Email Marketing",
          "Online Ads",
          "Online Ads",
          "Social Media",
          "Referral",
          "Referral",
          "Referral",
          "Referral",
          "Online Ads",
          "Online Ads",
          "Online Ads",
          "Referral",
          "Referral",
          "Social Media",
          "Email Marketing",
          "Online Ads",
          "Referral",
          "Referral",
          "Referral",
          "Referral",
          "Referral",
          "Online Ads",
          "Email Marketing",
          "Social Media",
          "Referral",
          "Referral",
          "Referral",
          "Referral",
          "Social Media",
          "Referral",
          "Online Ads",
          "Referral",
          "Referral",
          "Online Ads",
          "Referral",
          "Social Media",
          "Social Media",
          "Referral",
          "Online Ads",
          "Online Ads",
          "Online Ads",
          "Social Media",
          "Referral",
          "Referral",
          "Social Media",
          "Email Marketing",
          "Social Media",
          "Referral",
          "Email Marketing",
          "Referral",
          "Online Ads",
          "Referral",
          "Online Ads",
          "Referral",
          "Social Media",
          "Online Ads",
          "Social Media",
          "Email Marketing",
          "Social Media",
          "Email Marketing",
          "Email Marketing",
          "Social Media",
          "Email Marketing",
          "Social Media",
          "Email Marketing",
          "Online Ads",
          "Referral",
          "Email Marketing",
          "Email Marketing",
          "Email Marketing",
          "Email Marketing",
          "Social Media",
          "Online Ads",
          "Email Marketing",
          "Social Media",
          "Social Media",
          "Referral",
          "Email Marketing",
          "Social Media",
          "Social Media",
          "Social Media",
          "Social Media",
          "Social Media",
          "Online Ads",
          "Social Media",
          "Referral",
          "Email Marketing",
          "Referral",
          "Email Marketing",
          "Social Media",
          "Email Marketing",
          "Online Ads",
          "Social Media",
          "Social Media",
          "Email Marketing",
          "Email Marketing",
          "Social Media",
          "Social Media",
          "Online Ads",
          "Social Media",
          "Referral",
          "Referral",
          "Online Ads",
          "Online Ads",
          "Email Marketing",
          "Email Marketing",
          "Social Media",
          "Referral",
          "Referral",
          "Email Marketing",
          "Online Ads",
          "Online Ads",
          "Online Ads",
          "Online Ads",
          "Social Media",
          "Referral",
          "Online Ads",
          "Social Media",
          "Email Marketing",
          "Online Ads",
          "Email Marketing",
          "Social Media",
          "Online Ads",
          "Email Marketing",
          "Online Ads",
          "Referral",
          "Referral",
          "Online Ads",
          "Social Media",
          "Online Ads",
          "Referral",
          "Email Marketing",
          "Online Ads",
          "Online Ads",
          "Referral",
          "Social Media",
          "Referral",
          "Email Marketing",
          "Referral",
          "Email Marketing",
          "Referral",
          "Referral",
          "Email Marketing",
          "Email Marketing",
          "Email Marketing",
          "Referral",
          "Email Marketing",
          "Referral",
          "Email Marketing",
          "Social Media",
          "Social Media",
          "Online Ads",
          "Email Marketing",
          "Referral",
          "Email Marketing",
          "Email Marketing",
          "Social Media",
          "Online Ads",
          "Social Media",
          "Social Media",
          "Social Media",
          "Email Marketing",
          "Online Ads",
          "Online Ads",
          "Email Marketing",
          "Email Marketing",
          "Online Ads",
          "Social Media",
          "Email Marketing",
          "Social Media",
          "Online Ads",
          "Social Media",
          "Referral",
          "Email Marketing",
          "Email Marketing",
          "Referral",
          "Referral",
          "Social Media",
          "Online Ads",
          "Social Media",
          "Referral",
          "Referral",
          "Referral",
          "Social Media",
          "Email Marketing",
          "Email Marketing",
          "Email Marketing",
          "Online Ads",
          "Online Ads",
          "Social Media",
          "Online Ads",
          "Social Media",
          "Email Marketing",
          "Social Media",
          "Online Ads",
          "Social Media",
          "Online Ads"
         ],
         "y": [
          16,
          33,
          44,
          32,
          13,
          35,
          27,
          22,
          17,
          38.99999999999999,
          15,
          23,
          50,
          48,
          11,
          13,
          31,
          25,
          18,
          46.00000000000001,
          23,
          14.000000000000002,
          45,
          23,
          46.99999999999999,
          23,
          24,
          31,
          19,
          48,
          10,
          27,
          19,
          18,
          44,
          25.999999999999996,
          21,
          17,
          11,
          18,
          10,
          32,
          25,
          47,
          30,
          11,
          21,
          26,
          13,
          18,
          36,
          43,
          17,
          14,
          40,
          38,
          33,
          42,
          47,
          16,
          38,
          42,
          24,
          49,
          12,
          43,
          29,
          39,
          11,
          13,
          40,
          35,
          37,
          16,
          41,
          38,
          14,
          15,
          30,
          48,
          19,
          14,
          18,
          27,
          49,
          50,
          47,
          45,
          30,
          34,
          48,
          43,
          28,
          39,
          42,
          48,
          37,
          16,
          17,
          45,
          23,
          37,
          38,
          24,
          36,
          31,
          39,
          35,
          36,
          16,
          30,
          37,
          30,
          26,
          33,
          19,
          40,
          14,
          15,
          15,
          15.000000000000002,
          37,
          16,
          33,
          18,
          45,
          13.000000000000002,
          47,
          45,
          45,
          31,
          17,
          36,
          32,
          37,
          13,
          28,
          48,
          29,
          32,
          16,
          46,
          42,
          23,
          19,
          40,
          24,
          16,
          32,
          45,
          33,
          17,
          27.000000000000004,
          46,
          24,
          37,
          45,
          49,
          49,
          45,
          11,
          48,
          26.999999999999996,
          11,
          21,
          27,
          28.999999999999996,
          31,
          32,
          10,
          21,
          19,
          46,
          35,
          14,
          19,
          50.00000000000001,
          11,
          15,
          43,
          23,
          34,
          36,
          39,
          31,
          20,
          33,
          29,
          30,
          46,
          48,
          15,
          13,
          19,
          20,
          49,
          13,
          15,
          27,
          38,
          37,
          41,
          48,
          38,
          36,
          27.000000000000004,
          23,
          42,
          17,
          32,
          37,
          17,
          28.000000000000004,
          47,
          41,
          43,
          29.000000000000004,
          12,
          24,
          35,
          48,
          13,
          10,
          23,
          29,
          23,
          18,
          26,
          28,
          30.000000000000004,
          17,
          10,
          41,
          37,
          21,
          18,
          34,
          44,
          24,
          42,
          45,
          32,
          14,
          35,
          12,
          36.99999999999999,
          11,
          39,
          14,
          30.000000000000004,
          46,
          37,
          46,
          35,
          50,
          36,
          28,
          17,
          35,
          11,
          29.999999999999996,
          20,
          49,
          39,
          33,
          14.999999999999998,
          37,
          16,
          25,
          37,
          47,
          35,
          43,
          15,
          35,
          29,
          31,
          24,
          31,
          20,
          14,
          42,
          50,
          17,
          43,
          42,
          22,
          32,
          32,
          19,
          25,
          16,
          19,
          26,
          22,
          21,
          48,
          19,
          14,
          21,
          50,
          41,
          39,
          46,
          47,
          38,
          46,
          49.99999999999999,
          49,
          30,
          50,
          30.000000000000004,
          19,
          38,
          14,
          40,
          38,
          50,
          29.000000000000004,
          27,
          47,
          13,
          32,
          42,
          13.999999999999998,
          29.000000000000004,
          39,
          38,
          12,
          13,
          33,
          28,
          14,
          15,
          49,
          48,
          42,
          34,
          39,
          47,
          45,
          12,
          38,
          46,
          22,
          30,
          48,
          40,
          42,
          19,
          13,
          38,
          16,
          30.999999999999996,
          15,
          42,
          21,
          12,
          25,
          38,
          38,
          43,
          43,
          49,
          20,
          33,
          33,
          27.999999999999996,
          34,
          36,
          31,
          48,
          13,
          50,
          30.999999999999996,
          14,
          31,
          16,
          45,
          34,
          27.999999999999996,
          26,
          48,
          19,
          31.000000000000004,
          15,
          47,
          19,
          32,
          29,
          35,
          18,
          48,
          15,
          29,
          45,
          34,
          31,
          18,
          43,
          15,
          37,
          42,
          33,
          11,
          33,
          29.000000000000004,
          21,
          23,
          31,
          41,
          22,
          24,
          18,
          19,
          14,
          28,
          16,
          42,
          44,
          43,
          12,
          31,
          49,
          18,
          48,
          34,
          19,
          20,
          20.999999999999996,
          49,
          20,
          38,
          12,
          36,
          33,
          25,
          38,
          49,
          28,
          38,
          24,
          44,
          25.000000000000004,
          28.999999999999996,
          40,
          22,
          33,
          46,
          38,
          39,
          28,
          34,
          42,
          43,
          36,
          20,
          21.999999999999996,
          48,
          18,
          26,
          13,
          40,
          33,
          45,
          16,
          43,
          17,
          28,
          14.999999999999998,
          20,
          26.999999999999996,
          38,
          42,
          19,
          37,
          15,
          24,
          38,
          32,
          11,
          36,
          13,
          35,
          42,
          33,
          25,
          34,
          14.999999999999998,
          33,
          24,
          11,
          30,
          16,
          31,
          19,
          18,
          12,
          28,
          40
         ]
        }
       ],
       "layout": {
        "autosize": true,
        "barmode": "group",
        "template": {
         "data": {
          "bar": [
           {
            "error_x": {
             "color": "#2a3f5f"
            },
            "error_y": {
             "color": "#2a3f5f"
            },
            "marker": {
             "line": {
              "color": "white",
              "width": 0.5
             },
             "pattern": {
              "fillmode": "overlay",
              "size": 10,
              "solidity": 0.2
             }
            },
            "type": "bar"
           }
          ],
          "barpolar": [
           {
            "marker": {
             "line": {
              "color": "white",
              "width": 0.5
             },
             "pattern": {
              "fillmode": "overlay",
              "size": 10,
              "solidity": 0.2
             }
            },
            "type": "barpolar"
           }
          ],
          "carpet": [
           {
            "aaxis": {
             "endlinecolor": "#2a3f5f",
             "gridcolor": "#C8D4E3",
             "linecolor": "#C8D4E3",
             "minorgridcolor": "#C8D4E3",
             "startlinecolor": "#2a3f5f"
            },
            "baxis": {
             "endlinecolor": "#2a3f5f",
             "gridcolor": "#C8D4E3",
             "linecolor": "#C8D4E3",
             "minorgridcolor": "#C8D4E3",
             "startlinecolor": "#2a3f5f"
            },
            "type": "carpet"
           }
          ],
          "choropleth": [
           {
            "colorbar": {
             "outlinewidth": 0,
             "ticks": ""
            },
            "type": "choropleth"
           }
          ],
          "contour": [
           {
            "colorbar": {
             "outlinewidth": 0,
             "ticks": ""
            },
            "colorscale": [
             [
              0,
              "#0d0887"
             ],
             [
              0.1111111111111111,
              "#46039f"
             ],
             [
              0.2222222222222222,
              "#7201a8"
             ],
             [
              0.3333333333333333,
              "#9c179e"
             ],
             [
              0.4444444444444444,
              "#bd3786"
             ],
             [
              0.5555555555555556,
              "#d8576b"
             ],
             [
              0.6666666666666666,
              "#ed7953"
             ],
             [
              0.7777777777777778,
              "#fb9f3a"
             ],
             [
              0.8888888888888888,
              "#fdca26"
             ],
             [
              1,
              "#f0f921"
             ]
            ],
            "type": "contour"
           }
          ],
          "contourcarpet": [
           {
            "colorbar": {
             "outlinewidth": 0,
             "ticks": ""
            },
            "type": "contourcarpet"
           }
          ],
          "heatmap": [
           {
            "colorbar": {
             "outlinewidth": 0,
             "ticks": ""
            },
            "colorscale": [
             [
              0,
              "#0d0887"
             ],
             [
              0.1111111111111111,
              "#46039f"
             ],
             [
              0.2222222222222222,
              "#7201a8"
             ],
             [
              0.3333333333333333,
              "#9c179e"
             ],
             [
              0.4444444444444444,
              "#bd3786"
             ],
             [
              0.5555555555555556,
              "#d8576b"
             ],
             [
              0.6666666666666666,
              "#ed7953"
             ],
             [
              0.7777777777777778,
              "#fb9f3a"
             ],
             [
              0.8888888888888888,
              "#fdca26"
             ],
             [
              1,
              "#f0f921"
             ]
            ],
            "type": "heatmap"
           }
          ],
          "heatmapgl": [
           {
            "colorbar": {
             "outlinewidth": 0,
             "ticks": ""
            },
            "colorscale": [
             [
              0,
              "#0d0887"
             ],
             [
              0.1111111111111111,
              "#46039f"
             ],
             [
              0.2222222222222222,
              "#7201a8"
             ],
             [
              0.3333333333333333,
              "#9c179e"
             ],
             [
              0.4444444444444444,
              "#bd3786"
             ],
             [
              0.5555555555555556,
              "#d8576b"
             ],
             [
              0.6666666666666666,
              "#ed7953"
             ],
             [
              0.7777777777777778,
              "#fb9f3a"
             ],
             [
              0.8888888888888888,
              "#fdca26"
             ],
             [
              1,
              "#f0f921"
             ]
            ],
            "type": "heatmapgl"
           }
          ],
          "histogram": [
           {
            "marker": {
             "pattern": {
              "fillmode": "overlay",
              "size": 10,
              "solidity": 0.2
             }
            },
            "type": "histogram"
           }
          ],
          "histogram2d": [
           {
            "colorbar": {
             "outlinewidth": 0,
             "ticks": ""
            },
            "colorscale": [
             [
              0,
              "#0d0887"
             ],
             [
              0.1111111111111111,
              "#46039f"
             ],
             [
              0.2222222222222222,
              "#7201a8"
             ],
             [
              0.3333333333333333,
              "#9c179e"
             ],
             [
              0.4444444444444444,
              "#bd3786"
             ],
             [
              0.5555555555555556,
              "#d8576b"
             ],
             [
              0.6666666666666666,
              "#ed7953"
             ],
             [
              0.7777777777777778,
              "#fb9f3a"
             ],
             [
              0.8888888888888888,
              "#fdca26"
             ],
             [
              1,
              "#f0f921"
             ]
            ],
            "type": "histogram2d"
           }
          ],
          "histogram2dcontour": [
           {
            "colorbar": {
             "outlinewidth": 0,
             "ticks": ""
            },
            "colorscale": [
             [
              0,
              "#0d0887"
             ],
             [
              0.1111111111111111,
              "#46039f"
             ],
             [
              0.2222222222222222,
              "#7201a8"
             ],
             [
              0.3333333333333333,
              "#9c179e"
             ],
             [
              0.4444444444444444,
              "#bd3786"
             ],
             [
              0.5555555555555556,
              "#d8576b"
             ],
             [
              0.6666666666666666,
              "#ed7953"
             ],
             [
              0.7777777777777778,
              "#fb9f3a"
             ],
             [
              0.8888888888888888,
              "#fdca26"
             ],
             [
              1,
              "#f0f921"
             ]
            ],
            "type": "histogram2dcontour"
           }
          ],
          "mesh3d": [
           {
            "colorbar": {
             "outlinewidth": 0,
             "ticks": ""
            },
            "type": "mesh3d"
           }
          ],
          "parcoords": [
           {
            "line": {
             "colorbar": {
              "outlinewidth": 0,
              "ticks": ""
             }
            },
            "type": "parcoords"
           }
          ],
          "pie": [
           {
            "automargin": true,
            "type": "pie"
           }
          ],
          "scatter": [
           {
            "fillpattern": {
             "fillmode": "overlay",
             "size": 10,
             "solidity": 0.2
            },
            "type": "scatter"
           }
          ],
          "scatter3d": [
           {
            "line": {
             "colorbar": {
              "outlinewidth": 0,
              "ticks": ""
             }
            },
            "marker": {
             "colorbar": {
              "outlinewidth": 0,
              "ticks": ""
             }
            },
            "type": "scatter3d"
           }
          ],
          "scattercarpet": [
           {
            "marker": {
             "colorbar": {
              "outlinewidth": 0,
              "ticks": ""
             }
            },
            "type": "scattercarpet"
           }
          ],
          "scattergeo": [
           {
            "marker": {
             "colorbar": {
              "outlinewidth": 0,
              "ticks": ""
             }
            },
            "type": "scattergeo"
           }
          ],
          "scattergl": [
           {
            "marker": {
             "colorbar": {
              "outlinewidth": 0,
              "ticks": ""
             }
            },
            "type": "scattergl"
           }
          ],
          "scattermapbox": [
           {
            "marker": {
             "colorbar": {
              "outlinewidth": 0,
              "ticks": ""
             }
            },
            "type": "scattermapbox"
           }
          ],
          "scatterpolar": [
           {
            "marker": {
             "colorbar": {
              "outlinewidth": 0,
              "ticks": ""
             }
            },
            "type": "scatterpolar"
           }
          ],
          "scatterpolargl": [
           {
            "marker": {
             "colorbar": {
              "outlinewidth": 0,
              "ticks": ""
             }
            },
            "type": "scatterpolargl"
           }
          ],
          "scatterternary": [
           {
            "marker": {
             "colorbar": {
              "outlinewidth": 0,
              "ticks": ""
             }
            },
            "type": "scatterternary"
           }
          ],
          "surface": [
           {
            "colorbar": {
             "outlinewidth": 0,
             "ticks": ""
            },
            "colorscale": [
             [
              0,
              "#0d0887"
             ],
             [
              0.1111111111111111,
              "#46039f"
             ],
             [
              0.2222222222222222,
              "#7201a8"
             ],
             [
              0.3333333333333333,
              "#9c179e"
             ],
             [
              0.4444444444444444,
              "#bd3786"
             ],
             [
              0.5555555555555556,
              "#d8576b"
             ],
             [
              0.6666666666666666,
              "#ed7953"
             ],
             [
              0.7777777777777778,
              "#fb9f3a"
             ],
             [
              0.8888888888888888,
              "#fdca26"
             ],
             [
              1,
              "#f0f921"
             ]
            ],
            "type": "surface"
           }
          ],
          "table": [
           {
            "cells": {
             "fill": {
              "color": "#EBF0F8"
             },
             "line": {
              "color": "white"
             }
            },
            "header": {
             "fill": {
              "color": "#C8D4E3"
             },
             "line": {
              "color": "white"
             }
            },
            "type": "table"
           }
          ]
         },
         "layout": {
          "annotationdefaults": {
           "arrowcolor": "#2a3f5f",
           "arrowhead": 0,
           "arrowwidth": 1
          },
          "autotypenumbers": "strict",
          "coloraxis": {
           "colorbar": {
            "outlinewidth": 0,
            "ticks": ""
           }
          },
          "colorscale": {
           "diverging": [
            [
             0,
             "#8e0152"
            ],
            [
             0.1,
             "#c51b7d"
            ],
            [
             0.2,
             "#de77ae"
            ],
            [
             0.3,
             "#f1b6da"
            ],
            [
             0.4,
             "#fde0ef"
            ],
            [
             0.5,
             "#f7f7f7"
            ],
            [
             0.6,
             "#e6f5d0"
            ],
            [
             0.7,
             "#b8e186"
            ],
            [
             0.8,
             "#7fbc41"
            ],
            [
             0.9,
             "#4d9221"
            ],
            [
             1,
             "#276419"
            ]
           ],
           "sequential": [
            [
             0,
             "#0d0887"
            ],
            [
             0.1111111111111111,
             "#46039f"
            ],
            [
             0.2222222222222222,
             "#7201a8"
            ],
            [
             0.3333333333333333,
             "#9c179e"
            ],
            [
             0.4444444444444444,
             "#bd3786"
            ],
            [
             0.5555555555555556,
             "#d8576b"
            ],
            [
             0.6666666666666666,
             "#ed7953"
            ],
            [
             0.7777777777777778,
             "#fb9f3a"
            ],
            [
             0.8888888888888888,
             "#fdca26"
            ],
            [
             1,
             "#f0f921"
            ]
           ],
           "sequentialminus": [
            [
             0,
             "#0d0887"
            ],
            [
             0.1111111111111111,
             "#46039f"
            ],
            [
             0.2222222222222222,
             "#7201a8"
            ],
            [
             0.3333333333333333,
             "#9c179e"
            ],
            [
             0.4444444444444444,
             "#bd3786"
            ],
            [
             0.5555555555555556,
             "#d8576b"
            ],
            [
             0.6666666666666666,
             "#ed7953"
            ],
            [
             0.7777777777777778,
             "#fb9f3a"
            ],
            [
             0.8888888888888888,
             "#fdca26"
            ],
            [
             1,
             "#f0f921"
            ]
           ]
          },
          "colorway": [
           "#636efa",
           "#EF553B",
           "#00cc96",
           "#ab63fa",
           "#FFA15A",
           "#19d3f3",
           "#FF6692",
           "#B6E880",
           "#FF97FF",
           "#FECB52"
          ],
          "font": {
           "color": "#2a3f5f"
          },
          "geo": {
           "bgcolor": "white",
           "lakecolor": "white",
           "landcolor": "white",
           "showlakes": true,
           "showland": true,
           "subunitcolor": "#C8D4E3"
          },
          "hoverlabel": {
           "align": "left"
          },
          "hovermode": "closest",
          "mapbox": {
           "style": "light"
          },
          "paper_bgcolor": "white",
          "plot_bgcolor": "white",
          "polar": {
           "angularaxis": {
            "gridcolor": "#EBF0F8",
            "linecolor": "#EBF0F8",
            "ticks": ""
           },
           "bgcolor": "white",
           "radialaxis": {
            "gridcolor": "#EBF0F8",
            "linecolor": "#EBF0F8",
            "ticks": ""
           }
          },
          "scene": {
           "xaxis": {
            "backgroundcolor": "white",
            "gridcolor": "#DFE8F3",
            "gridwidth": 2,
            "linecolor": "#EBF0F8",
            "showbackground": true,
            "ticks": "",
            "zerolinecolor": "#EBF0F8"
           },
           "yaxis": {
            "backgroundcolor": "white",
            "gridcolor": "#DFE8F3",
            "gridwidth": 2,
            "linecolor": "#EBF0F8",
            "showbackground": true,
            "ticks": "",
            "zerolinecolor": "#EBF0F8"
           },
           "zaxis": {
            "backgroundcolor": "white",
            "gridcolor": "#DFE8F3",
            "gridwidth": 2,
            "linecolor": "#EBF0F8",
            "showbackground": true,
            "ticks": "",
            "zerolinecolor": "#EBF0F8"
           }
          },
          "shapedefaults": {
           "line": {
            "color": "#2a3f5f"
           }
          },
          "ternary": {
           "aaxis": {
            "gridcolor": "#DFE8F3",
            "linecolor": "#A2B1C6",
            "ticks": ""
           },
           "baxis": {
            "gridcolor": "#DFE8F3",
            "linecolor": "#A2B1C6",
            "ticks": ""
           },
           "bgcolor": "white",
           "caxis": {
            "gridcolor": "#DFE8F3",
            "linecolor": "#A2B1C6",
            "ticks": ""
           }
          },
          "title": {
           "x": 0.05
          },
          "xaxis": {
           "automargin": true,
           "gridcolor": "#EBF0F8",
           "linecolor": "#EBF0F8",
           "ticks": "",
           "title": {
            "standoff": 15
           },
           "zerolinecolor": "#EBF0F8",
           "zerolinewidth": 2
          },
          "yaxis": {
           "automargin": true,
           "gridcolor": "#EBF0F8",
           "linecolor": "#EBF0F8",
           "ticks": "",
           "title": {
            "standoff": 15
           },
           "zerolinecolor": "#EBF0F8",
           "zerolinewidth": 2
          }
         }
        },
        "title": {
         "text": "Actual vs. Break-Even Customers by Marketing Channel"
        },
        "xaxis": {
         "autorange": true,
         "range": [
          -0.5,
          3.5
         ],
         "title": {
          "text": "Marketing Channel"
         },
         "type": "category"
        },
        "yaxis": {
         "autorange": true,
         "range": [
          0,
          4109.473684210527
         ],
         "title": {
          "text": "Number of Customers"
         },
         "type": "linear"
        }
       }
      },
      "image/png": "[encoded data removed]",
      "text/html": [
       "<div>                            <div id=\"67dc2f46-f094-43d5-8577-2ddc92a15c13\" class=\"plotly-graph-div\" style=\"height:525px; width:100%;\"></div>            <script type=\"text/javascript\">                require([\"plotly\"], function(Plotly) {                    window.PLOTLYENV=window.PLOTLYENV || {};                                    if (document.getElementById(\"67dc2f46-f094-43d5-8577-2ddc92a15c13\")) {                    Plotly.newPlot(                        \"67dc2f46-f094-43d5-8577-2ddc92a15c13\",                        [{\"marker\":{\"color\":\"royalblue\"},\"name\":\"Actual Customers Acquired\",\"x\":[\"Email Marketing\",\"Online Ads\",\"Social Media\",\"Online Ads\",\"Email Marketing\",\"Email Marketing\",\"Referral\",\"Online Ads\",\"Social Media\",\"Online Ads\",\"Online Ads\",\"Email Marketing\",\"Online Ads\",\"Online Ads\",\"Email Marketing\",\"Email Marketing\",\"Online Ads\",\"Email Marketing\",\"Referral\",\"Online Ads\",\"Referral\",\"Email Marketing\",\"Social Media\",\"Online Ads\",\"Referral\",\"Social Media\",\"Online Ads\",\"Online Ads\",\"Referral\",\"Email Marketing\",\"Referral\",\"Email Marketing\",\"Email Marketing\",\"Referral\",\"Social Media\",\"Email Marketing\",\"Referral\",\"Email Marketing\",\"Referral\",\"Email Marketing\",\"Email Marketing\",\"Online Ads\",\"Online Ads\",\"Social Media\",\"Online Ads\",\"Online Ads\",\"Online Ads\",\"Social Media\",\"Email Marketing\",\"Social Media\",\"Social Media\",\"Online Ads\",\"Social Media\",\"Referral\",\"Email Marketing\",\"Email Marketing\",\"Online Ads\",\"Email Marketing\",\"Online Ads\",\"Social Media\",\"Referral\",\"Email Marketing\",\"Email Marketing\",\"Email Marketing\",\"Referral\",\"Referral\",\"Online Ads\",\"Online Ads\",\"Social Media\",\"Social Media\",\"Online Ads\",\"Referral\",\"Referral\",\"Social Media\",\"Email Marketing\",\"Social Media\",\"Referral\",\"Social Media\",\"Social Media\",\"Online Ads\",\"Email Marketing\",\"Social Media\",\"Email Marketing\",\"Referral\",\"Social Media\",\"Online Ads\",\"Referral\",\"Email Marketing\",\"Online Ads\",\"Online Ads\",\"Online Ads\",\"Email Marketing\",\"Referral\",\"Social Media\",\"Online Ads\",\"Social Media\",\"Referral\",\"Email Marketing\",\"Referral\",\"Referral\",\"Online Ads\",\"Email Marketing\",\"Email Marketing\",\"Email Marketing\",\"Social Media\",\"Email Marketing\",\"Online Ads\",\"Social Media\",\"Social Media\",\"Referral\",\"Referral\",\"Social Media\",\"Email Marketing\",\"Online Ads\",\"Referral\",\"Referral\",\"Social Media\",\"Email Marketing\",\"Email Marketing\",\"Online Ads\",\"Referral\",\"Email Marketing\",\"Referral\",\"Email Marketing\",\"Online Ads\",\"Social Media\",\"Online Ads\",\"Referral\",\"Referral\",\"Referral\",\"Social Media\",\"Online Ads\",\"Referral\",\"Referral\",\"Online Ads\",\"Social Media\",\"Online Ads\",\"Referral\",\"Referral\",\"Online Ads\",\"Social Media\",\"Email Marketing\",\"Social Media\",\"Referral\",\"Social Media\",\"Online Ads\",\"Email Marketing\",\"Email Marketing\",\"Online Ads\",\"Social Media\",\"Referral\",\"Email Marketing\",\"Social Media\",\"Email Marketing\",\"Online Ads\",\"Online Ads\",\"Social Media\",\"Email Marketing\",\"Online Ads\",\"Online Ads\",\"Online Ads\",\"Email Marketing\",\"Online Ads\",\"Referral\",\"Referral\",\"Online Ads\",\"Online Ads\",\"Email Marketing\",\"Online Ads\",\"Online Ads\",\"Referral\",\"Email Marketing\",\"Social Media\",\"Referral\",\"Referral\",\"Online Ads\",\"Online Ads\",\"Social Media\",\"Social Media\",\"Social Media\",\"Email Marketing\",\"Email Marketing\",\"Referral\",\"Online Ads\",\"Social Media\",\"Social Media\",\"Referral\",\"Online Ads\",\"Online Ads\",\"Social Media\",\"Social Media\",\"Social Media\",\"Online Ads\",\"Referral\",\"Social Media\",\"Referral\",\"Email Marketing\",\"Online Ads\",\"Referral\",\"Referral\",\"Referral\",\"Referral\",\"Referral\",\"Online Ads\",\"Social Media\",\"Online Ads\",\"Social Media\",\"Online Ads\",\"Social Media\",\"Referral\",\"Social Media\",\"Referral\",\"Social Media\",\"Social Media\",\"Referral\",\"Referral\",\"Email Marketing\",\"Email Marketing\",\"Online Ads\",\"Social Media\",\"Referral\",\"Email Marketing\",\"Email Marketing\",\"Email Marketing\",\"Online Ads\",\"Email Marketing\",\"Email Marketing\",\"Referral\",\"Online Ads\",\"Referral\",\"Online Ads\",\"Online Ads\",\"Email Marketing\",\"Email Marketing\",\"Online Ads\",\"Online Ads\",\"Referral\",\"Online Ads\",\"Email Marketing\",\"Email Marketing\",\"Social Media\",\"Email Marketing\",\"Email Marketing\",\"Referral\",\"Online Ads\",\"Email Marketing\",\"Online Ads\",\"Social Media\",\"Email Marketing\",\"Social Media\",\"Social Media\",\"Referral\",\"Online Ads\",\"Social Media\",\"Referral\",\"Referral\",\"Online Ads\",\"Online Ads\",\"Social Media\",\"Referral\",\"Referral\",\"Referral\",\"Social Media\",\"Online Ads\",\"Referral\",\"Email Marketing\",\"Email Marketing\",\"Referral\",\"Email Marketing\",\"Online Ads\",\"Referral\",\"Social Media\",\"Email Marketing\",\"Referral\",\"Online Ads\",\"Online Ads\",\"Online Ads\",\"Email Marketing\",\"Social Media\",\"Email Marketing\",\"Email Marketing\",\"Online Ads\",\"Email Marketing\",\"Social Media\",\"Social Media\",\"Referral\",\"Referral\",\"Online Ads\",\"Social Media\",\"Social Media\",\"Online Ads\",\"Referral\",\"Email Marketing\",\"Social Media\",\"Email Marketing\",\"Email Marketing\",\"Social Media\",\"Online Ads\",\"Online Ads\",\"Referral\",\"Referral\",\"Email Marketing\",\"Referral\",\"Email Marketing\",\"Online Ads\",\"Online Ads\",\"Social Media\",\"Referral\",\"Referral\",\"Referral\",\"Referral\",\"Online Ads\",\"Online Ads\",\"Online Ads\",\"Referral\",\"Referral\",\"Social Media\",\"Email Marketing\",\"Online Ads\",\"Referral\",\"Referral\",\"Referral\",\"Referral\",\"Referral\",\"Online Ads\",\"Email Marketing\",\"Social Media\",\"Referral\",\"Referral\",\"Referral\",\"Referral\",\"Social Media\",\"Referral\",\"Online Ads\",\"Referral\",\"Referral\",\"Online Ads\",\"Referral\",\"Social Media\",\"Social Media\",\"Referral\",\"Online Ads\",\"Online Ads\",\"Online Ads\",\"Social Media\",\"Referral\",\"Referral\",\"Social Media\",\"Email Marketing\",\"Social Media\",\"Referral\",\"Email Marketing\",\"Referral\",\"Online Ads\",\"Referral\",\"Online Ads\",\"Referral\",\"Social Media\",\"Online Ads\",\"Social Media\",\"Email Marketing\",\"Social Media\",\"Email Marketing\",\"Email Marketing\",\"Social Media\",\"Email Marketing\",\"Social Media\",\"Email Marketing\",\"Online Ads\",\"Referral\",\"Email Marketing\",\"Email Marketing\",\"Email Marketing\",\"Email Marketing\",\"Social Media\",\"Online Ads\",\"Email Marketing\",\"Social Media\",\"Social Media\",\"Referral\",\"Email Marketing\",\"Social Media\",\"Social Media\",\"Social Media\",\"Social Media\",\"Social Media\",\"Online Ads\",\"Social Media\",\"Referral\",\"Email Marketing\",\"Referral\",\"Email Marketing\",\"Social Media\",\"Email Marketing\",\"Online Ads\",\"Social Media\",\"Social Media\",\"Email Marketing\",\"Email Marketing\",\"Social Media\",\"Social Media\",\"Online Ads\",\"Social Media\",\"Referral\",\"Referral\",\"Online Ads\",\"Online Ads\",\"Email Marketing\",\"Email Marketing\",\"Social Media\",\"Referral\",\"Referral\",\"Email Marketing\",\"Online Ads\",\"Online Ads\",\"Online Ads\",\"Online Ads\",\"Social Media\",\"Referral\",\"Online Ads\",\"Social Media\",\"Email Marketing\",\"Online Ads\",\"Email Marketing\",\"Social Media\",\"Online Ads\",\"Email Marketing\",\"Online Ads\",\"Referral\",\"Referral\",\"Online Ads\",\"Social Media\",\"Online Ads\",\"Referral\",\"Email Marketing\",\"Online Ads\",\"Online Ads\",\"Referral\",\"Social Media\",\"Referral\",\"Email Marketing\",\"Referral\",\"Email Marketing\",\"Referral\",\"Referral\",\"Email Marketing\",\"Email Marketing\",\"Email Marketing\",\"Referral\",\"Email Marketing\",\"Referral\",\"Email Marketing\",\"Social Media\",\"Social Media\",\"Online Ads\",\"Email Marketing\",\"Referral\",\"Email Marketing\",\"Email Marketing\",\"Social Media\",\"Online Ads\",\"Social Media\",\"Social Media\",\"Social Media\",\"Email Marketing\",\"Online Ads\",\"Online Ads\",\"Email Marketing\",\"Email Marketing\",\"Online Ads\",\"Social Media\",\"Email Marketing\",\"Social Media\",\"Online Ads\",\"Social Media\",\"Referral\",\"Email Marketing\",\"Email Marketing\",\"Referral\",\"Referral\",\"Social Media\",\"Online Ads\",\"Social Media\",\"Referral\",\"Referral\",\"Referral\",\"Social Media\",\"Email Marketing\",\"Email Marketing\",\"Email Marketing\",\"Online Ads\",\"Online Ads\",\"Social Media\",\"Online Ads\",\"Social Media\",\"Email Marketing\",\"Social Media\",\"Online Ads\",\"Social Media\",\"Online Ads\"],\"y\":[16,33,44,32,13,35,27,22,17,39,15,23,50,48,11,13,31,25,18,46,23,14,45,23,47,23,24,31,19,48,10,27,19,18,44,26,21,17,11,18,10,32,25,47,30,11,21,26,13,18,36,43,17,14,40,38,33,42,47,16,38,42,24,49,12,43,29,39,11,13,40,35,37,16,41,38,14,15,30,48,19,14,18,27,49,50,47,45,30,34,48,43,28,39,42,48,37,16,17,45,23,37,38,24,36,31,39,35,36,16,30,37,30,26,33,19,40,14,15,15,15,37,16,33,18,45,13,47,45,45,31,17,36,32,37,13,28,48,29,32,16,46,42,23,19,40,24,16,32,45,33,17,27,46,24,37,45,49,49,45,11,48,27,11,21,27,29,31,32,10,21,19,46,35,14,19,50,11,15,43,23,34,36,39,31,20,33,29,30,46,48,15,13,19,20,49,13,15,27,38,37,41,48,38,36,27,23,42,17,32,37,17,28,47,41,43,29,12,24,35,48,13,10,23,29,23,18,26,28,30,17,10,41,37,21,18,34,44,24,42,45,32,14,35,12,37,11,39,14,30,46,37,46,35,50,36,28,17,35,11,30,20,49,39,33,15,37,16,25,37,47,35,43,15,35,29,31,24,31,20,14,42,50,17,43,42,22,32,32,19,25,16,19,26,22,21,48,19,14,21,50,41,39,46,47,38,46,50,49,30,50,30,19,38,14,40,38,50,29,27,47,13,32,42,14,29,39,38,12,13,33,28,14,15,49,48,42,34,39,47,45,12,38,46,22,30,48,40,42,19,13,38,16,31,15,42,21,12,25,38,38,43,43,49,20,33,33,28,34,36,31,48,13,50,31,14,31,16,45,34,28,26,48,19,31,15,47,19,32,29,35,18,48,15,29,45,34,31,18,43,15,37,42,33,11,33,29,21,23,31,41,22,24,18,19,14,28,16,42,44,43,12,31,49,18,48,34,19,20,21,49,20,38,12,36,33,25,38,49,28,38,24,44,25,29,40,22,33,46,38,39,28,34,42,43,36,20,22,48,18,26,13,40,33,45,16,43,17,28,15,20,27,38,42,19,37,15,24,38,32,11,36,13,35,42,33,25,34,15,33,24,11,30,16,31,19,18,12,28,40],\"type\":\"bar\"},{\"marker\":{\"color\":\"lightcoral\"},\"name\":\"Break-Even Customers\",\"x\":[\"Email Marketing\",\"Online Ads\",\"Social Media\",\"Online Ads\",\"Email Marketing\",\"Email Marketing\",\"Referral\",\"Online Ads\",\"Social Media\",\"Online Ads\",\"Online Ads\",\"Email Marketing\",\"Online Ads\",\"Online Ads\",\"Email Marketing\",\"Email Marketing\",\"Online Ads\",\"Email Marketing\",\"Referral\",\"Online Ads\",\"Referral\",\"Email Marketing\",\"Social Media\",\"Online Ads\",\"Referral\",\"Social Media\",\"Online Ads\",\"Online Ads\",\"Referral\",\"Email Marketing\",\"Referral\",\"Email Marketing\",\"Email Marketing\",\"Referral\",\"Social Media\",\"Email Marketing\",\"Referral\",\"Email Marketing\",\"Referral\",\"Email Marketing\",\"Email Marketing\",\"Online Ads\",\"Online Ads\",\"Social Media\",\"Online Ads\",\"Online Ads\",\"Online Ads\",\"Social Media\",\"Email Marketing\",\"Social Media\",\"Social Media\",\"Online Ads\",\"Social Media\",\"Referral\",\"Email Marketing\",\"Email Marketing\",\"Online Ads\",\"Email Marketing\",\"Online Ads\",\"Social Media\",\"Referral\",\"Email Marketing\",\"Email Marketing\",\"Email Marketing\",\"Referral\",\"Referral\",\"Online Ads\",\"Online Ads\",\"Social Media\",\"Social Media\",\"Online Ads\",\"Referral\",\"Referral\",\"Social Media\",\"Email Marketing\",\"Social Media\",\"Referral\",\"Social Media\",\"Social Media\",\"Online Ads\",\"Email Marketing\",\"Social Media\",\"Email Marketing\",\"Referral\",\"Social Media\",\"Online Ads\",\"Referral\",\"Email Marketing\",\"Online Ads\",\"Online Ads\",\"Online Ads\",\"Email Marketing\",\"Referral\",\"Social Media\",\"Online Ads\",\"Social Media\",\"Referral\",\"Email Marketing\",\"Referral\",\"Referral\",\"Online Ads\",\"Email Marketing\",\"Email Marketing\",\"Email Marketing\",\"Social Media\",\"Email Marketing\",\"Online Ads\",\"Social Media\",\"Social Media\",\"Referral\",\"Referral\",\"Social Media\",\"Email Marketing\",\"Online Ads\",\"Referral\",\"Referral\",\"Social Media\",\"Email Marketing\",\"Email Marketing\",\"Online Ads\",\"Referral\",\"Email Marketing\",\"Referral\",\"Email Marketing\",\"Online Ads\",\"Social Media\",\"Online Ads\",\"Referral\",\"Referral\",\"Referral\",\"Social Media\",\"Online Ads\",\"Referral\",\"Referral\",\"Online Ads\",\"Social Media\",\"Online Ads\",\"Referral\",\"Referral\",\"Online Ads\",\"Social Media\",\"Email Marketing\",\"Social Media\",\"Referral\",\"Social Media\",\"Online Ads\",\"Email Marketing\",\"Email Marketing\",\"Online Ads\",\"Social Media\",\"Referral\",\"Email Marketing\",\"Social Media\",\"Email Marketing\",\"Online Ads\",\"Online Ads\",\"Social Media\",\"Email Marketing\",\"Online Ads\",\"Online Ads\",\"Online Ads\",\"Email Marketing\",\"Online Ads\",\"Referral\",\"Referral\",\"Online Ads\",\"Online Ads\",\"Email Marketing\",\"Online Ads\",\"Online Ads\",\"Referral\",\"Email Marketing\",\"Social Media\",\"Referral\",\"Referral\",\"Online Ads\",\"Online Ads\",\"Social Media\",\"Social Media\",\"Social Media\",\"Email Marketing\",\"Email Marketing\",\"Referral\",\"Online Ads\",\"Social Media\",\"Social Media\",\"Referral\",\"Online Ads\",\"Online Ads\",\"Social Media\",\"Social Media\",\"Social Media\",\"Online Ads\",\"Referral\",\"Social Media\",\"Referral\",\"Email Marketing\",\"Online Ads\",\"Referral\",\"Referral\",\"Referral\",\"Referral\",\"Referral\",\"Online Ads\",\"Social Media\",\"Online Ads\",\"Social Media\",\"Online Ads\",\"Social Media\",\"Referral\",\"Social Media\",\"Referral\",\"Social Media\",\"Social Media\",\"Referral\",\"Referral\",\"Email Marketing\",\"Email Marketing\",\"Online Ads\",\"Social Media\",\"Referral\",\"Email Marketing\",\"Email Marketing\",\"Email Marketing\",\"Online Ads\",\"Email Marketing\",\"Email Marketing\",\"Referral\",\"Online Ads\",\"Referral\",\"Online Ads\",\"Online Ads\",\"Email Marketing\",\"Email Marketing\",\"Online Ads\",\"Online Ads\",\"Referral\",\"Online Ads\",\"Email Marketing\",\"Email Marketing\",\"Social Media\",\"Email Marketing\",\"Email Marketing\",\"Referral\",\"Online Ads\",\"Email Marketing\",\"Online Ads\",\"Social Media\",\"Email Marketing\",\"Social Media\",\"Social Media\",\"Referral\",\"Online Ads\",\"Social Media\",\"Referral\",\"Referral\",\"Online Ads\",\"Online Ads\",\"Social Media\",\"Referral\",\"Referral\",\"Referral\",\"Social Media\",\"Online Ads\",\"Referral\",\"Email Marketing\",\"Email Marketing\",\"Referral\",\"Email Marketing\",\"Online Ads\",\"Referral\",\"Social Media\",\"Email Marketing\",\"Referral\",\"Online Ads\",\"Online Ads\",\"Online Ads\",\"Email Marketing\",\"Social Media\",\"Email Marketing\",\"Email Marketing\",\"Online Ads\",\"Email Marketing\",\"Social Media\",\"Social Media\",\"Referral\",\"Referral\",\"Online Ads\",\"Social Media\",\"Social Media\",\"Online Ads\",\"Referral\",\"Email Marketing\",\"Social Media\",\"Email Marketing\",\"Email Marketing\",\"Social Media\",\"Online Ads\",\"Online Ads\",\"Referral\",\"Referral\",\"Email Marketing\",\"Referral\",\"Email Marketing\",\"Online Ads\",\"Online Ads\",\"Social Media\",\"Referral\",\"Referral\",\"Referral\",\"Referral\",\"Online Ads\",\"Online Ads\",\"Online Ads\",\"Referral\",\"Referral\",\"Social Media\",\"Email Marketing\",\"Online Ads\",\"Referral\",\"Referral\",\"Referral\",\"Referral\",\"Referral\",\"Online Ads\",\"Email Marketing\",\"Social Media\",\"Referral\",\"Referral\",\"Referral\",\"Referral\",\"Social Media\",\"Referral\",\"Online Ads\",\"Referral\",\"Referral\",\"Online Ads\",\"Referral\",\"Social Media\",\"Social Media\",\"Referral\",\"Online Ads\",\"Online Ads\",\"Online Ads\",\"Social Media\",\"Referral\",\"Referral\",\"Social Media\",\"Email Marketing\",\"Social Media\",\"Referral\",\"Email Marketing\",\"Referral\",\"Online Ads\",\"Referral\",\"Online Ads\",\"Referral\",\"Social Media\",\"Online Ads\",\"Social Media\",\"Email Marketing\",\"Social Media\",\"Email Marketing\",\"Email Marketing\",\"Social Media\",\"Email Marketing\",\"Social Media\",\"Email Marketing\",\"Online Ads\",\"Referral\",\"Email Marketing\",\"Email Marketing\",\"Email Marketing\",\"Email Marketing\",\"Social Media\",\"Online Ads\",\"Email Marketing\",\"Social Media\",\"Social Media\",\"Referral\",\"Email Marketing\",\"Social Media\",\"Social Media\",\"Social Media\",\"Social Media\",\"Social Media\",\"Online Ads\",\"Social Media\",\"Referral\",\"Email Marketing\",\"Referral\",\"Email Marketing\",\"Social Media\",\"Email Marketing\",\"Online Ads\",\"Social Media\",\"Social Media\",\"Email Marketing\",\"Email Marketing\",\"Social Media\",\"Social Media\",\"Online Ads\",\"Social Media\",\"Referral\",\"Referral\",\"Online Ads\",\"Online Ads\",\"Email Marketing\",\"Email Marketing\",\"Social Media\",\"Referral\",\"Referral\",\"Email Marketing\",\"Online Ads\",\"Online Ads\",\"Online Ads\",\"Online Ads\",\"Social Media\",\"Referral\",\"Online Ads\",\"Social Media\",\"Email Marketing\",\"Online Ads\",\"Email Marketing\",\"Social Media\",\"Online Ads\",\"Email Marketing\",\"Online Ads\",\"Referral\",\"Referral\",\"Online Ads\",\"Social Media\",\"Online Ads\",\"Referral\",\"Email Marketing\",\"Online Ads\",\"Online Ads\",\"Referral\",\"Social Media\",\"Referral\",\"Email Marketing\",\"Referral\",\"Email Marketing\",\"Referral\",\"Referral\",\"Email Marketing\",\"Email Marketing\",\"Email Marketing\",\"Referral\",\"Email Marketing\",\"Referral\",\"Email Marketing\",\"Social Media\",\"Social Media\",\"Online Ads\",\"Email Marketing\",\"Referral\",\"Email Marketing\",\"Email Marketing\",\"Social Media\",\"Online Ads\",\"Social Media\",\"Social Media\",\"Social Media\",\"Email Marketing\",\"Online Ads\",\"Online Ads\",\"Email Marketing\",\"Email Marketing\",\"Online Ads\",\"Social Media\",\"Email Marketing\",\"Social Media\",\"Online Ads\",\"Social Media\",\"Referral\",\"Email Marketing\",\"Email Marketing\",\"Referral\",\"Referral\",\"Social Media\",\"Online Ads\",\"Social Media\",\"Referral\",\"Referral\",\"Referral\",\"Social Media\",\"Email Marketing\",\"Email Marketing\",\"Email Marketing\",\"Online Ads\",\"Online Ads\",\"Social Media\",\"Online Ads\",\"Social Media\",\"Email Marketing\",\"Social Media\",\"Online Ads\",\"Social Media\",\"Online Ads\"],\"y\":[16.0,33.0,44.0,32.0,13.0,35.0,27.0,22.0,17.0,38.99999999999999,15.0,23.0,50.0,48.0,11.0,13.0,31.0,25.0,18.0,46.00000000000001,23.0,14.000000000000002,45.0,23.0,46.99999999999999,23.0,24.0,31.0,19.0,48.0,10.0,27.0,19.0,18.0,44.0,25.999999999999996,21.0,17.0,11.0,18.0,10.0,32.0,25.0,47.0,30.0,11.0,21.0,26.0,13.0,18.0,36.0,43.0,17.0,14.0,40.0,38.0,33.0,42.0,47.0,16.0,38.0,42.0,24.0,49.0,12.0,43.0,29.0,39.0,11.0,13.0,40.0,35.0,37.0,16.0,41.0,38.0,14.0,15.0,30.0,48.0,19.0,14.0,18.0,27.0,49.0,50.0,47.0,45.0,30.0,34.0,48.0,43.0,28.0,39.0,42.0,48.0,37.0,16.0,17.0,45.0,23.0,37.0,38.0,24.0,36.0,31.0,39.0,35.0,36.0,16.0,30.0,37.0,30.0,26.0,33.0,19.0,40.0,14.0,15.0,15.0,15.000000000000002,37.0,16.0,33.0,18.0,45.0,13.000000000000002,47.0,45.0,45.0,31.0,17.0,36.0,32.0,37.0,13.0,28.0,48.0,29.0,32.0,16.0,46.0,42.0,23.0,19.0,40.0,24.0,16.0,32.0,45.0,33.0,17.0,27.000000000000004,46.0,24.0,37.0,45.0,49.0,49.0,45.0,11.0,48.0,26.999999999999996,11.0,21.0,27.0,28.999999999999996,31.0,32.0,10.0,21.0,19.0,46.0,35.0,14.0,19.0,50.00000000000001,11.0,15.0,43.0,23.0,34.0,36.0,39.0,31.0,20.0,33.0,29.0,30.0,46.0,48.0,15.0,13.0,19.0,20.0,49.0,13.0,15.0,27.0,38.0,37.0,41.0,48.0,38.0,36.0,27.000000000000004,23.0,42.0,17.0,32.0,37.0,17.0,28.000000000000004,47.0,41.0,43.0,29.000000000000004,12.0,24.0,35.0,48.0,13.0,10.0,23.0,29.0,23.0,18.0,26.0,28.0,30.000000000000004,17.0,10.0,41.0,37.0,21.0,18.0,34.0,44.0,24.0,42.0,45.0,32.0,14.0,35.0,12.0,36.99999999999999,11.0,39.0,14.0,30.000000000000004,46.0,37.0,46.0,35.0,50.0,36.0,28.0,17.0,35.0,11.0,29.999999999999996,20.0,49.0,39.0,33.0,14.999999999999998,37.0,16.0,25.0,37.0,47.0,35.0,43.0,15.0,35.0,29.0,31.0,24.0,31.0,20.0,14.0,42.0,50.0,17.0,43.0,42.0,22.0,32.0,32.0,19.0,25.0,16.0,19.0,26.0,22.0,21.0,48.0,19.0,14.0,21.0,50.0,41.0,39.0,46.0,47.0,38.0,46.0,49.99999999999999,49.0,30.0,50.0,30.000000000000004,19.0,38.0,14.0,40.0,38.0,50.0,29.000000000000004,27.0,47.0,13.0,32.0,42.0,13.999999999999998,29.000000000000004,39.0,38.0,12.0,13.0,33.0,28.0,14.0,15.0,49.0,48.0,42.0,34.0,39.0,47.0,45.0,12.0,38.0,46.0,22.0,30.0,48.0,40.0,42.0,19.0,13.0,38.0,16.0,30.999999999999996,15.0,42.0,21.0,12.0,25.0,38.0,38.0,43.0,43.0,49.0,20.0,33.0,33.0,27.999999999999996,34.0,36.0,31.0,48.0,13.0,50.0,30.999999999999996,14.0,31.0,16.0,45.0,34.0,27.999999999999996,26.0,48.0,19.0,31.000000000000004,15.0,47.0,19.0,32.0,29.0,35.0,18.0,48.0,15.0,29.0,45.0,34.0,31.0,18.0,43.0,15.0,37.0,42.0,33.0,11.0,33.0,29.000000000000004,21.0,23.0,31.0,41.0,22.0,24.0,18.0,19.0,14.0,28.0,16.0,42.0,44.0,43.0,12.0,31.0,49.0,18.0,48.0,34.0,19.0,20.0,20.999999999999996,49.0,20.0,38.0,12.0,36.0,33.0,25.0,38.0,49.0,28.0,38.0,24.0,44.0,25.000000000000004,28.999999999999996,40.0,22.0,33.0,46.0,38.0,39.0,28.0,34.0,42.0,43.0,36.0,20.0,21.999999999999996,48.0,18.0,26.0,13.0,40.0,33.0,45.0,16.0,43.0,17.0,28.0,14.999999999999998,20.0,26.999999999999996,38.0,42.0,19.0,37.0,15.0,24.0,38.0,32.0,11.0,36.0,13.0,35.0,42.0,33.0,25.0,34.0,14.999999999999998,33.0,24.0,11.0,30.0,16.0,31.0,19.0,18.0,12.0,28.0,40.0],\"type\":\"bar\"}],                        {\"template\":{\"data\":{\"histogram2dcontour\":[{\"type\":\"histogram2dcontour\",\"colorbar\":{\"outlinewidth\":0,\"ticks\":\"\"},\"colorscale\":[[0.0,\"#0d0887\"],[0.1111111111111111,\"#46039f\"],[0.2222222222222222,\"#7201a8\"],[0.3333333333333333,\"#9c179e\"],[0.4444444444444444,\"#bd3786\"],[0.5555555555555556,\"#d8576b\"],[0.6666666666666666,\"#ed7953\"],[0.7777777777777778,\"#fb9f3a\"],[0.8888888888888888,\"#fdca26\"],[1.0,\"#f0f921\"]]}],\"choropleth\":[{\"type\":\"choropleth\",\"colorbar\":{\"outlinewidth\":0,\"ticks\":\"\"}}],\"histogram2d\":[{\"type\":\"histogram2d\",\"colorbar\":{\"outlinewidth\":0,\"ticks\":\"\"},\"colorscale\":[[0.0,\"#0d0887\"],[0.1111111111111111,\"#46039f\"],[0.2222222222222222,\"#7201a8\"],[0.3333333333333333,\"#9c179e\"],[0.4444444444444444,\"#bd3786\"],[0.5555555555555556,\"#d8576b\"],[0.6666666666666666,\"#ed7953\"],[0.7777777777777778,\"#fb9f3a\"],[0.8888888888888888,\"#fdca26\"],[1.0,\"#f0f921\"]]}],\"heatmap\":[{\"type\":\"heatmap\",\"colorbar\":{\"outlinewidth\":0,\"ticks\":\"\"},\"colorscale\":[[0.0,\"#0d0887\"],[0.1111111111111111,\"#46039f\"],[0.2222222222222222,\"#7201a8\"],[0.3333333333333333,\"#9c179e\"],[0.4444444444444444,\"#bd3786\"],[0.5555555555555556,\"#d8576b\"],[0.6666666666666666,\"#ed7953\"],[0.7777777777777778,\"#fb9f3a\"],[0.8888888888888888,\"#fdca26\"],[1.0,\"#f0f921\"]]}],\"heatmapgl\":[{\"type\":\"heatmapgl\",\"colorbar\":{\"outlinewidth\":0,\"ticks\":\"\"},\"colorscale\":[[0.0,\"#0d0887\"],[0.1111111111111111,\"#46039f\"],[0.2222222222222222,\"#7201a8\"],[0.3333333333333333,\"#9c179e\"],[0.4444444444444444,\"#bd3786\"],[0.5555555555555556,\"#d8576b\"],[0.6666666666666666,\"#ed7953\"],[0.7777777777777778,\"#fb9f3a\"],[0.8888888888888888,\"#fdca26\"],[1.0,\"#f0f921\"]]}],\"contourcarpet\":[{\"type\":\"contourcarpet\",\"colorbar\":{\"outlinewidth\":0,\"ticks\":\"\"}}],\"contour\":[{\"type\":\"contour\",\"colorbar\":{\"outlinewidth\":0,\"ticks\":\"\"},\"colorscale\":[[0.0,\"#0d0887\"],[0.1111111111111111,\"#46039f\"],[0.2222222222222222,\"#7201a8\"],[0.3333333333333333,\"#9c179e\"],[0.4444444444444444,\"#bd3786\"],[0.5555555555555556,\"#d8576b\"],[0.6666666666666666,\"#ed7953\"],[0.7777777777777778,\"#fb9f3a\"],[0.8888888888888888,\"#fdca26\"],[1.0,\"#f0f921\"]]}],\"surface\":[{\"type\":\"surface\",\"colorbar\":{\"outlinewidth\":0,\"ticks\":\"\"},\"colorscale\":[[0.0,\"#0d0887\"],[0.1111111111111111,\"#46039f\"],[0.2222222222222222,\"#7201a8\"],[0.3333333333333333,\"#9c179e\"],[0.4444444444444444,\"#bd3786\"],[0.5555555555555556,\"#d8576b\"],[0.6666666666666666,\"#ed7953\"],[0.7777777777777778,\"#fb9f3a\"],[0.8888888888888888,\"#fdca26\"],[1.0,\"#f0f921\"]]}],\"mesh3d\":[{\"type\":\"mesh3d\",\"colorbar\":{\"outlinewidth\":0,\"ticks\":\"\"}}],\"scatter\":[{\"fillpattern\":{\"fillmode\":\"overlay\",\"size\":10,\"solidity\":0.2},\"type\":\"scatter\"}],\"parcoords\":[{\"type\":\"parcoords\",\"line\":{\"colorbar\":{\"outlinewidth\":0,\"ticks\":\"\"}}}],\"scatterpolargl\":[{\"type\":\"scatterpolargl\",\"marker\":{\"colorbar\":{\"outlinewidth\":0,\"ticks\":\"\"}}}],\"bar\":[{\"error_x\":{\"color\":\"#2a3f5f\"},\"error_y\":{\"color\":\"#2a3f5f\"},\"marker\":{\"line\":{\"color\":\"white\",\"width\":0.5},\"pattern\":{\"fillmode\":\"overlay\",\"size\":10,\"solidity\":0.2}},\"type\":\"bar\"}],\"scattergeo\":[{\"type\":\"scattergeo\",\"marker\":{\"colorbar\":{\"outlinewidth\":0,\"ticks\":\"\"}}}],\"scatterpolar\":[{\"type\":\"scatterpolar\",\"marker\":{\"colorbar\":{\"outlinewidth\":0,\"ticks\":\"\"}}}],\"histogram\":[{\"marker\":{\"pattern\":{\"fillmode\":\"overlay\",\"size\":10,\"solidity\":0.2}},\"type\":\"histogram\"}],\"scattergl\":[{\"type\":\"scattergl\",\"marker\":{\"colorbar\":{\"outlinewidth\":0,\"ticks\":\"\"}}}],\"scatter3d\":[{\"type\":\"scatter3d\",\"line\":{\"colorbar\":{\"outlinewidth\":0,\"ticks\":\"\"}},\"marker\":{\"colorbar\":{\"outlinewidth\":0,\"ticks\":\"\"}}}],\"scattermapbox\":[{\"type\":\"scattermapbox\",\"marker\":{\"colorbar\":{\"outlinewidth\":0,\"ticks\":\"\"}}}],\"scatterternary\":[{\"type\":\"scatterternary\",\"marker\":{\"colorbar\":{\"outlinewidth\":0,\"ticks\":\"\"}}}],\"scattercarpet\":[{\"type\":\"scattercarpet\",\"marker\":{\"colorbar\":{\"outlinewidth\":0,\"ticks\":\"\"}}}],\"carpet\":[{\"aaxis\":{\"endlinecolor\":\"#2a3f5f\",\"gridcolor\":\"#C8D4E3\",\"linecolor\":\"#C8D4E3\",\"minorgridcolor\":\"#C8D4E3\",\"startlinecolor\":\"#2a3f5f\"},\"baxis\":{\"endlinecolor\":\"#2a3f5f\",\"gridcolor\":\"#C8D4E3\",\"linecolor\":\"#C8D4E3\",\"minorgridcolor\":\"#C8D4E3\",\"startlinecolor\":\"#2a3f5f\"},\"type\":\"carpet\"}],\"table\":[{\"cells\":{\"fill\":{\"color\":\"#EBF0F8\"},\"line\":{\"color\":\"white\"}},\"header\":{\"fill\":{\"color\":\"#C8D4E3\"},\"line\":{\"color\":\"white\"}},\"type\":\"table\"}],\"barpolar\":[{\"marker\":{\"line\":{\"color\":\"white\",\"width\":0.5},\"pattern\":{\"fillmode\":\"overlay\",\"size\":10,\"solidity\":0.2}},\"type\":\"barpolar\"}],\"pie\":[{\"automargin\":true,\"type\":\"pie\"}]},\"layout\":{\"autotypenumbers\":\"strict\",\"colorway\":[\"#636efa\",\"#EF553B\",\"#00cc96\",\"#ab63fa\",\"#FFA15A\",\"#19d3f3\",\"#FF6692\",\"#B6E880\",\"#FF97FF\",\"#FECB52\"],\"font\":{\"color\":\"#2a3f5f\"},\"hovermode\":\"closest\",\"hoverlabel\":{\"align\":\"left\"},\"paper_bgcolor\":\"white\",\"plot_bgcolor\":\"white\",\"polar\":{\"bgcolor\":\"white\",\"angularaxis\":{\"gridcolor\":\"#EBF0F8\",\"linecolor\":\"#EBF0F8\",\"ticks\":\"\"},\"radialaxis\":{\"gridcolor\":\"#EBF0F8\",\"linecolor\":\"#EBF0F8\",\"ticks\":\"\"}},\"ternary\":{\"bgcolor\":\"white\",\"aaxis\":{\"gridcolor\":\"#DFE8F3\",\"linecolor\":\"#A2B1C6\",\"ticks\":\"\"},\"baxis\":{\"gridcolor\":\"#DFE8F3\",\"linecolor\":\"#A2B1C6\",\"ticks\":\"\"},\"caxis\":{\"gridcolor\":\"#DFE8F3\",\"linecolor\":\"#A2B1C6\",\"ticks\":\"\"}},\"coloraxis\":{\"colorbar\":{\"outlinewidth\":0,\"ticks\":\"\"}},\"colorscale\":{\"sequential\":[[0.0,\"#0d0887\"],[0.1111111111111111,\"#46039f\"],[0.2222222222222222,\"#7201a8\"],[0.3333333333333333,\"#9c179e\"],[0.4444444444444444,\"#bd3786\"],[0.5555555555555556,\"#d8576b\"],[0.6666666666666666,\"#ed7953\"],[0.7777777777777778,\"#fb9f3a\"],[0.8888888888888888,\"#fdca26\"],[1.0,\"#f0f921\"]],\"sequentialminus\":[[0.0,\"#0d0887\"],[0.1111111111111111,\"#46039f\"],[0.2222222222222222,\"#7201a8\"],[0.3333333333333333,\"#9c179e\"],[0.4444444444444444,\"#bd3786\"],[0.5555555555555556,\"#d8576b\"],[0.6666666666666666,\"#ed7953\"],[0.7777777777777778,\"#fb9f3a\"],[0.8888888888888888,\"#fdca26\"],[1.0,\"#f0f921\"]],\"diverging\":[[0,\"#8e0152\"],[0.1,\"#c51b7d\"],[0.2,\"#de77ae\"],[0.3,\"#f1b6da\"],[0.4,\"#fde0ef\"],[0.5,\"#f7f7f7\"],[0.6,\"#e6f5d0\"],[0.7,\"#b8e186\"],[0.8,\"#7fbc41\"],[0.9,\"#4d9221\"],[1,\"#276419\"]]},\"xaxis\":{\"gridcolor\":\"#EBF0F8\",\"linecolor\":\"#EBF0F8\",\"ticks\":\"\",\"title\":{\"standoff\":15},\"zerolinecolor\":\"#EBF0F8\",\"automargin\":true,\"zerolinewidth\":2},\"yaxis\":{\"gridcolor\":\"#EBF0F8\",\"linecolor\":\"#EBF0F8\",\"ticks\":\"\",\"title\":{\"standoff\":15},\"zerolinecolor\":\"#EBF0F8\",\"automargin\":true,\"zerolinewidth\":2},\"scene\":{\"xaxis\":{\"backgroundcolor\":\"white\",\"gridcolor\":\"#DFE8F3\",\"linecolor\":\"#EBF0F8\",\"showbackground\":true,\"ticks\":\"\",\"zerolinecolor\":\"#EBF0F8\",\"gridwidth\":2},\"yaxis\":{\"backgroundcolor\":\"white\",\"gridcolor\":\"#DFE8F3\",\"linecolor\":\"#EBF0F8\",\"showbackground\":true,\"ticks\":\"\",\"zerolinecolor\":\"#EBF0F8\",\"gridwidth\":2},\"zaxis\":{\"backgroundcolor\":\"white\",\"gridcolor\":\"#DFE8F3\",\"linecolor\":\"#EBF0F8\",\"showbackground\":true,\"ticks\":\"\",\"zerolinecolor\":\"#EBF0F8\",\"gridwidth\":2}},\"shapedefaults\":{\"line\":{\"color\":\"#2a3f5f\"}},\"annotationdefaults\":{\"arrowcolor\":\"#2a3f5f\",\"arrowhead\":0,\"arrowwidth\":1},\"geo\":{\"bgcolor\":\"white\",\"landcolor\":\"white\",\"subunitcolor\":\"#C8D4E3\",\"showland\":true,\"showlakes\":true,\"lakecolor\":\"white\"},\"title\":{\"x\":0.05},\"mapbox\":{\"style\":\"light\"}}},\"barmode\":\"group\",\"title\":{\"text\":\"Actual vs. Break-Even Customers by Marketing Channel\"},\"xaxis\":{\"title\":{\"text\":\"Marketing Channel\"}},\"yaxis\":{\"title\":{\"text\":\"Number of Customers\"}}},                        {\"responsive\": true}                    ).then(function(){\n",
       "                            \n",
       "var gd = document.getElementById('67dc2f46-f094-43d5-8577-2ddc92a15c13');\n",
       "var x = new MutationObserver(function (mutations, observer) {{\n",
       "        var display = window.getComputedStyle(gd).display;\n",
       "        if (!display || display === 'none') {{\n",
       "            console.log([gd, 'removed!']);\n",
       "            Plotly.purge(gd);\n",
       "            observer.disconnect();\n",
       "        }}\n",
       "}});\n",
       "\n",
       "// Listen for the removal of the full notebook cells\n",
       "var notebookContainer = gd.closest('#notebook-container');\n",
       "if (notebookContainer) {{\n",
       "    x.observe(notebookContainer, {childList: true});\n",
       "}}\n",
       "\n",
       "// Listen for the clearing of the current output cell\n",
       "var outputEl = gd.closest('.output');\n",
       "if (outputEl) {{\n",
       "    x.observe(outputEl, {childList: true});\n",
       "}}\n",
       "\n",
       "                        })                };                });            </script>        </div>"
      ]
     },
     "metadata": {},
     "output_type": "display_data"
    }
   ],
   "source": [
    "fig = go.Figure()\n",
    "\n",
    "# Actual Customers Acquired\n",
    "fig.add_trace(go.Bar(x=data['Marketing_Channel'], y=data['New_Customers'],\n",
    "                     name='Actual Customers Acquired', marker_color='royalblue'))\n",
    "\n",
    "# Break-Even Customers\n",
    "fig.add_trace(go.Bar(x=data['Marketing_Channel'], y=data['Break_Even_Customers'],\n",
    "                     name='Break-Even Customers', marker_color='lightcoral'))\n",
    "\n",
    "# Update the layout\n",
    "fig.update_layout(barmode='group', title='Actual vs. Break-Even Customers by Marketing Channel',\n",
    "                  xaxis_title='Marketing Channel', yaxis_title='Number of Customers')\n",
    "\n",
    "# Show the chart\n",
    "fig.show()"
   ]
  },
  {
   "cell_type": "code",
   "execution_count": null,
   "id": "43ff6c69-fe59-49f9-98d5-a2881b9e1d08",
   "metadata": {},
   "outputs": [],
   "source": [
    "###So, this shows a positive result of the marketing campaign as the actual customers acquired from all marketing channels exactly match the break-even customers. If the actual customers acquired were short of the break-even point, it would have indicated a need to reassess marketing strategies or allocate additional resources to those channels."
   ]
  }
 ],
 "metadata": {
  "kernelspec": {
   "display_name": "Python 3 (ipykernel)",
   "language": "python",
   "name": "python3"
  },
  "language_info": {
   "codemirror_mode": {
    "name": "ipython",
    "version": 3
   },
   "file_extension": ".py",
   "mimetype": "text/x-python",
   "name": "python",
   "nbconvert_exporter": "python",
   "pygments_lexer": "ipython3",
   "version": "3.12.3"
  }
 },
 "nbformat": 4,
 "nbformat_minor": 5
}
